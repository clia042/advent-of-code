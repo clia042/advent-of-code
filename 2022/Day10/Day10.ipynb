{
 "cells": [
  {
   "cell_type": "code",
   "execution_count": 30,
   "metadata": {},
   "outputs": [
    {
     "data": {
      "text/html": [
       "<table><thead><tr><th><i>index</i></th><th>value</th></tr></thead><tbody><tr><td>0</td><td>noop</td></tr><tr><td>1</td><td>noop</td></tr><tr><td>2</td><td>addx 5</td></tr><tr><td>3</td><td>noop</td></tr><tr><td>4</td><td>noop</td></tr><tr><td>5</td><td>addx 6</td></tr><tr><td>6</td><td>addx 4</td></tr><tr><td>7</td><td>addx -4</td></tr><tr><td>8</td><td>addx 4</td></tr><tr><td>9</td><td>addx -6</td></tr><tr><td>10</td><td>addx 11</td></tr><tr><td>11</td><td>addx -1</td></tr><tr><td>12</td><td>addx 2</td></tr><tr><td>13</td><td>addx 4</td></tr><tr><td>14</td><td>addx 3</td></tr><tr><td>15</td><td>noop</td></tr><tr><td>16</td><td>addx 2</td></tr><tr><td>17</td><td>addx -30</td></tr><tr><td>18</td><td>addx 2</td></tr><tr><td>19</td><td>addx 33</td></tr><tr><td colspan=\"2\"><i>(123 more)</i></td></tr></tbody></table><style>\r\n",
       ".dni-code-hint {\r\n",
       "    font-style: italic;\r\n",
       "    overflow: hidden;\r\n",
       "    white-space: nowrap;\r\n",
       "}\r\n",
       ".dni-treeview {\r\n",
       "    white-space: nowrap;\r\n",
       "}\r\n",
       ".dni-treeview td {\r\n",
       "    vertical-align: top;\r\n",
       "    text-align: start;\r\n",
       "}\r\n",
       "details.dni-treeview {\r\n",
       "    padding-left: 1em;\r\n",
       "}\r\n",
       "table td {\r\n",
       "    text-align: start;\r\n",
       "}\r\n",
       "table tr { \r\n",
       "    vertical-align: top; \r\n",
       "    margin: 0em 0px;\r\n",
       "}\r\n",
       "table tr td pre \r\n",
       "{ \r\n",
       "    vertical-align: top !important; \r\n",
       "    margin: 0em 0px !important;\r\n",
       "} \r\n",
       "table th {\r\n",
       "    text-align: start;\r\n",
       "}\r\n",
       "</style>"
      ]
     },
     "metadata": {},
     "output_type": "display_data"
    }
   ],
   "source": [
    "// Parse Input\n",
    "using Newtonsoft.Json;\n",
    "\n",
    "/*\n",
    "var input = System.IO.File.ReadAllLines(\"sample-input.txt\");\n",
    "/*/ \n",
    "var input = System.IO.File.ReadAllLines(\"input.txt\");\n",
    "//*/\n",
    "\n",
    "input"
   ]
  },
  {
   "cell_type": "code",
   "execution_count": 31,
   "metadata": {
    "dotnet_interactive": {
     "language": "csharp"
    },
    "polyglot_notebook": {
     "kernelName": "csharp"
    }
   },
   "outputs": [
    {
     "name": "stdout",
     "output_type": "stream",
     "text": [
      "###..###....##.#....####.#..#.#....###..| x=-1, crt=39\n",
      "#..#.#..#....#.#....#....#..#.#....#..#.| x=0, crt=79\n",
      "###..#..#....#.#....###..#..#.#....#..#.| x=37, crt=119\n",
      "#..#.###.....#.#....#....#..#.#....###..| x=-1, crt=159\n",
      "#..#.#.#..#..#.#....#....#..#.#....#....| x=0, crt=199\n",
      "###..#..#..##..####.#.....##..####.#....| x=24, crt=239\n"
     ]
    }
   ],
   "source": [
    "var cycles = 0;\n",
    "var X = 1;\n",
    "var sumOfStrengths = 0;\n",
    "var crtPosition = 0;\n",
    "var crtRow = 0;\n",
    "\n",
    "void IncrementCycle(){\n",
    "    cycles++;\n",
    "    //Check if cycle needs to be examined\n",
    "    /*if((cycles+20)%40 == 0){\n",
    "        Console.WriteLine($\"{cycles} : X = {X}, Strength = {cycles * X}\");\n",
    "        sumOfStrengths += (cycles * X);\n",
    "    }*/\n",
    "    DrawPixel();\n",
    "}\n",
    "\n",
    "void DrawPixel(){\n",
    "    var diff = System.Math.Abs((X+(40*crtRow) - crtPosition));\n",
    "    if(diff < 2) Console.Write(\"#\");\n",
    "    else Console.Write(\".\");\n",
    "\n",
    "    if(crtPosition != 0 && (crtPosition+1)%40 == 0){\n",
    "        Console.WriteLine($\"| x={X}, crt={crtPosition}\");\n",
    "        crtRow++;\n",
    "    }\n",
    "\n",
    "    crtPosition++;\n",
    "}\n",
    "\n",
    "foreach(var line in input){\n",
    "    var command = line.Split(' ');\n",
    "    switch(command[0]){\n",
    "        case \"noop\":\n",
    "            IncrementCycle();\n",
    "            break;\n",
    "        default:\n",
    "            IncrementCycle();\n",
    "            //Start Operation\n",
    "            IncrementCycle();\n",
    "            //End Operation\n",
    "            X += int.Parse(command[1]);\n",
    "            break;\n",
    "    }\n",
    "}"
   ]
  },
  {
   "attachments": {},
   "cell_type": "markdown",
   "metadata": {
    "dotnet_interactive": {
     "language": "csharp"
    },
    "polyglot_notebook": {
     "kernelName": "csharp"
    }
   },
   "source": [
    "BRJLFULP"
   ]
  }
 ],
 "metadata": {
  "kernelspec": {
   "display_name": ".NET (C#)",
   "language": "C#",
   "name": ".net-csharp"
  },
  "polyglot_notebook": {
   "kernelInfo": {
    "defaultKernelName": "csharp",
    "items": [
     {
      "aliases": [],
      "name": "csharp"
     },
     {
      "aliases": [],
      "languageName": null,
      "name": ".NET"
     },
     {
      "aliases": [
       "frontend"
      ],
      "languageName": null,
      "name": "vscode"
     }
    ]
   }
  }
 },
 "nbformat": 4,
 "nbformat_minor": 2
}
