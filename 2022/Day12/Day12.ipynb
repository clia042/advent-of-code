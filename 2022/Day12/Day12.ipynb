{
 "cells": [
  {
   "cell_type": "code",
   "execution_count": 1,
   "metadata": {
    "dotnet_interactive": {
     "language": "csharp"
    },
    "polyglot_notebook": {
     "kernelName": "csharp"
    }
   },
   "outputs": [],
   "source": [
    "using Newtonsoft.Json;\n",
    "\n",
    "/*\n",
    "var input = System.IO.File.ReadAllLines(\"sample-input.txt\");\n",
    "/*/ \n",
    "var input = System.IO.File.ReadAllLines(\"input.txt\");\n",
    "//*/\n"
   ]
  },
  {
   "cell_type": "code",
   "execution_count": 2,
   "metadata": {
    "dotnet_interactive": {
     "language": "csharp"
    },
    "polyglot_notebook": {
     "kernelName": "csharp"
    }
   },
   "outputs": [],
   "source": [
    "Tuple<int,int> startPosition;\n",
    "Tuple<int,int> endPosition;\n",
    "var gridMatrix = new GridPosition[input[0].Length,input.Count()]; //(X = column, Y = row)\n",
    "\n",
    "for(var y = 0; y < input.Count(); y++){\n",
    "    var row = input[y];\n",
    "    for(var x = 0; x < row.Length; x++){\n",
    "        gridMatrix[x, y] = new GridPosition(row[x]);\n",
    "        \n",
    "        if(row[x] == 'S'){\n",
    "            startPosition = Tuple.Create(x,y);\n",
    "        }else if(row[x] == 'E'){\n",
    "            endPosition = Tuple.Create(x,y);\n",
    "        }\n",
    "    }\n",
    "}\n",
    "\n",
    "public class GridPosition {\n",
    "    public GridPosition(char h){\n",
    "        height = Convert.ToInt32(h);\n",
    "        score = null;\n",
    "        isEnd = false;\n",
    "\n",
    "        switch(h){\n",
    "            case 'S':\n",
    "                height = Convert.ToInt32('a') - 1;\n",
    "            break;\n",
    "            case 'E':\n",
    "                isEnd = true;\n",
    "                height = Convert.ToInt32('z') + 1;\n",
    "            break;\n",
    "        }\n",
    "    }\n",
    "\n",
    "    public int height {get;set;}\n",
    "    public int? score {get;set;}\n",
    "    public bool isEnd {get;set;}\n",
    "}\n",
    "\n",
    "static GridPosition GetValueAt(this GridPosition[,] matrix, Tuple<int,int> p){\n",
    "    return matrix[p.Item1,p.Item2];\n",
    "}"
   ]
  },
  {
   "attachments": {},
   "cell_type": "markdown",
   "metadata": {
    "dotnet_interactive": {
     "language": "csharp"
    },
    "polyglot_notebook": {
     "kernelName": "csharp"
    }
   },
   "source": [
    "## Part 1"
   ]
  },
  {
   "cell_type": "code",
   "execution_count": null,
   "metadata": {
    "dotnet_interactive": {
     "language": "csharp"
    },
    "polyglot_notebook": {
     "kernelName": "csharp"
    }
   },
   "outputs": [],
   "source": [
    "public static void TraversePaths(this GridPosition[,] matrix, Tuple<int,int> p, int score){\n",
    "    var possibleNextPositions = new List<Tuple<int,int>>();\n",
    "    var currentPosition = matrix.GetValueAt(p);\n",
    "\n",
    "    if(score >= currentPosition.score) return;\n",
    "\n",
    "    currentPosition.score = score;\n",
    "\n",
    "    if(currentPosition.isEnd){\n",
    "        return;\n",
    "    }\n",
    "\n",
    "    var nextPositions = matrix.GetValidPaths(p);\n",
    "\n",
    "    if(nextPositions.Any() == false){ \n",
    "        return;\n",
    "    }\n",
    "\n",
    "    foreach(var nextPosition in nextPositions){\n",
    "        matrix.TraversePaths(nextPosition, score + 1);\n",
    "    }\n",
    "}\n",
    "\n",
    "public static IEnumerable<Tuple<int,int>> GetValidPaths(this GridPosition[,] matrix, Tuple<int,int> p){\n",
    "    var w = matrix.GetLength(0);\n",
    "    var h = matrix.GetLength(1);\n",
    "\n",
    "    var possiblePositions = new []{\n",
    "        Tuple.Create(p.Item1, p.Item2 - 1),\n",
    "        Tuple.Create(p.Item1, p.Item2 + 1),\n",
    "        Tuple.Create(p.Item1 - 1, p.Item2),\n",
    "        Tuple.Create(p.Item1 + 1, p.Item2) \n",
    "    };\n",
    "\n",
    "    foreach(var newPosition in possiblePositions){\n",
    "        if((newPosition.Item1 >= 0 && newPosition.Item1 < w)\n",
    "        && (newPosition.Item2 >= 0 && newPosition.Item2 < h)){\n",
    "            var newHeight = matrix.GetValueAt(newPosition).height;\n",
    "            if(newHeight <= (matrix.GetValueAt(p).height + 1)){\n",
    "                yield return newPosition;\n",
    "            }\n",
    "        }    \n",
    "    }\n",
    "}\n",
    "\n",
    "void PrintGrid(){\n",
    "    var str = new StringBuilder();\n",
    "    for(var y = 0; y < gridMatrix.GetLength(1); y++){\n",
    "        for(var x = 0; x < gridMatrix.GetLength(0); x++){\n",
    "            str.Append($\"{gridMatrix[x,y].score}, \");\n",
    "        }\n",
    "        str.AppendLine();\n",
    "    }\n",
    "\n",
    "    System.IO.File.WriteAllText(\"result.txt\", str.ToString());\n",
    "}"
   ]
  },
  {
   "cell_type": "code",
   "execution_count": null,
   "metadata": {
    "dotnet_interactive": {
     "language": "csharp"
    },
    "polyglot_notebook": {
     "kernelName": "csharp"
    }
   },
   "outputs": [],
   "source": [
    "gridMatrix.TraversePaths(startPosition, 0);\n",
    "\n",
    "gridMatrix.GetValueAt(endPosition)"
   ]
  },
  {
   "attachments": {},
   "cell_type": "markdown",
   "metadata": {
    "dotnet_interactive": {
     "language": "csharp"
    },
    "polyglot_notebook": {
     "kernelName": "csharp"
    }
   },
   "source": [
    "## Part 2"
   ]
  },
  {
   "cell_type": "code",
   "execution_count": 3,
   "metadata": {
    "dotnet_interactive": {
     "language": "csharp"
    },
    "polyglot_notebook": {
     "kernelName": "csharp"
    }
   },
   "outputs": [],
   "source": [
    "static var startingPositionScores = new List<int>();\n",
    "\n",
    "public static void TraversePathBackwards(this GridPosition[,] matrix, Tuple<int,int> p, int score){\n",
    "    var possibleNextPositions = new List<Tuple<int,int>>();\n",
    "    var currentPosition = matrix.GetValueAt(p);\n",
    "\n",
    "    if(score >= currentPosition.score) return;\n",
    "\n",
    "    currentPosition.score = score;\n",
    "\n",
    "    if(currentPosition.height == Convert.ToInt32('a')){\n",
    "        startingPositionScores.Add(score);\n",
    "        return;\n",
    "    }\n",
    "\n",
    "    var nextPositions = matrix.GetValidPathsV2(p);\n",
    "\n",
    "    if(nextPositions.Any() == false){ \n",
    "        return;\n",
    "    }\n",
    "\n",
    "    foreach(var nextPosition in nextPositions){\n",
    "        matrix.TraversePathBackwards(nextPosition, score + 1);\n",
    "    }\n",
    "}\n",
    "\n",
    "public static IEnumerable<Tuple<int,int>> GetValidPathsV2(this GridPosition[,] matrix, Tuple<int,int> p){\n",
    "    var w = matrix.GetLength(0);\n",
    "    var h = matrix.GetLength(1);\n",
    "\n",
    "    var possiblePositions = new []{\n",
    "        Tuple.Create(p.Item1, p.Item2 - 1),\n",
    "        Tuple.Create(p.Item1, p.Item2 + 1),\n",
    "        Tuple.Create(p.Item1 - 1, p.Item2),\n",
    "        Tuple.Create(p.Item1 + 1, p.Item2) \n",
    "    };\n",
    "\n",
    "    foreach(var newPosition in possiblePositions){\n",
    "        if((newPosition.Item1 >= 0 && newPosition.Item1 < w)\n",
    "        && (newPosition.Item2 >= 0 && newPosition.Item2 < h)){\n",
    "            var newHeight = matrix.GetValueAt(newPosition).height;\n",
    "            if(newHeight >= (matrix.GetValueAt(p).height - 1)){\n",
    "                yield return newPosition;\n",
    "            }\n",
    "        }    \n",
    "    }\n",
    "}"
   ]
  },
  {
   "cell_type": "code",
   "execution_count": 4,
   "metadata": {
    "dotnet_interactive": {
     "language": "csharp"
    },
    "polyglot_notebook": {
     "kernelName": "csharp"
    }
   },
   "outputs": [
    {
     "data": {
      "text/html": [
       "<div class=\"dni-plaintext\"><pre>430</pre></div><style>\r\n",
       ".dni-code-hint {\r\n",
       "    font-style: italic;\r\n",
       "    overflow: hidden;\r\n",
       "    white-space: nowrap;\r\n",
       "}\r\n",
       ".dni-treeview {\r\n",
       "    white-space: nowrap;\r\n",
       "}\r\n",
       ".dni-treeview td {\r\n",
       "    vertical-align: top;\r\n",
       "    text-align: start;\r\n",
       "}\r\n",
       "details.dni-treeview {\r\n",
       "    padding-left: 1em;\r\n",
       "}\r\n",
       "table td {\r\n",
       "    text-align: start;\r\n",
       "}\r\n",
       "table tr { \r\n",
       "    vertical-align: top; \r\n",
       "    margin: 0em 0px;\r\n",
       "}\r\n",
       "table tr td pre \r\n",
       "{ \r\n",
       "    vertical-align: top !important; \r\n",
       "    margin: 0em 0px !important;\r\n",
       "} \r\n",
       "table th {\r\n",
       "    text-align: start;\r\n",
       "}\r\n",
       "</style>"
      ]
     },
     "metadata": {},
     "output_type": "display_data"
    }
   ],
   "source": [
    "gridMatrix.TraversePathBackwards(endPosition, 0);\n",
    "\n",
    "startingPositionScores.OrderBy(x => x).First()"
   ]
  }
 ],
 "metadata": {
  "kernelspec": {
   "display_name": ".NET (C#)",
   "language": "C#",
   "name": ".net-csharp"
  },
  "polyglot_notebook": {
   "kernelInfo": {
    "defaultKernelName": "csharp",
    "items": [
     {
      "aliases": [],
      "name": "csharp"
     }
    ]
   }
  }
 },
 "nbformat": 4,
 "nbformat_minor": 2
}
