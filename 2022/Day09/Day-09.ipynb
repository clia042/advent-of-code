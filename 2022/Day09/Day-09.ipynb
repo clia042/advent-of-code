{
 "cells": [
  {
   "attachments": {},
   "cell_type": "markdown",
   "metadata": {
    "dotnet_interactive": {
     "language": "csharp"
    },
    "polyglot_notebook": {
     "kernelName": "csharp"
    }
   },
   "source": [
    "# Advent of code - Day 9\n",
    "## Problem\n",
    "[Snakes... I mean ropes](https://adventofcode.com/2022/day/9)\n"
   ]
  },
  {
   "cell_type": "code",
   "execution_count": 41,
   "metadata": {
    "dotnet_interactive": {
     "language": "csharp"
    },
    "polyglot_notebook": {
     "kernelName": "csharp"
    },
    "vscode": {
     "languageId": "polyglot-notebook"
    }
   },
   "outputs": [
    {
     "data": {
      "text/html": [
       "<table><thead><tr><th><i>index</i></th><th>value</th></tr></thead><tbody><tr><td>0</td><td>L 1</td></tr><tr><td>1</td><td>R 1</td></tr><tr><td>2</td><td>U 1</td></tr><tr><td>3</td><td>R 1</td></tr><tr><td>4</td><td>L 1</td></tr><tr><td>5</td><td>U 2</td></tr><tr><td>6</td><td>L 2</td></tr><tr><td>7</td><td>R 1</td></tr><tr><td>8</td><td>U 2</td></tr><tr><td>9</td><td>D 2</td></tr><tr><td>10</td><td>R 2</td></tr><tr><td>11</td><td>D 2</td></tr><tr><td>12</td><td>R 1</td></tr><tr><td>13</td><td>U 1</td></tr><tr><td>14</td><td>R 2</td></tr><tr><td>15</td><td>L 1</td></tr><tr><td>16</td><td>D 1</td></tr><tr><td>17</td><td>L 2</td></tr><tr><td>18</td><td>R 1</td></tr><tr><td>19</td><td>D 1</td></tr><tr><td colspan=\"2\"><i>(1980 more)</i></td></tr></tbody></table><style>\r\n",
       ".dni-code-hint {\r\n",
       "    font-style: italic;\r\n",
       "    overflow: hidden;\r\n",
       "    white-space: nowrap;\r\n",
       "}\r\n",
       ".dni-treeview {\r\n",
       "    white-space: nowrap;\r\n",
       "}\r\n",
       ".dni-treeview td {\r\n",
       "    vertical-align: top;\r\n",
       "    text-align: start;\r\n",
       "}\r\n",
       "details.dni-treeview {\r\n",
       "    padding-left: 1em;\r\n",
       "}\r\n",
       "table td {\r\n",
       "    text-align: start;\r\n",
       "}\r\n",
       "table tr { \r\n",
       "    vertical-align: top; \r\n",
       "    margin: 0em 0px;\r\n",
       "}\r\n",
       "table tr td pre \r\n",
       "{ \r\n",
       "    vertical-align: top !important; \r\n",
       "    margin: 0em 0px !important;\r\n",
       "} \r\n",
       "table th {\r\n",
       "    text-align: start;\r\n",
       "}\r\n",
       "</style>"
      ]
     },
     "metadata": {},
     "output_type": "display_data"
    }
   ],
   "source": [
    "// Parse Input\n",
    "using Newtonsoft.Json;\n",
    "\n",
    "/*\n",
    "var input = System.IO.File.ReadAllLines(\"sample-input-2.txt\");\n",
    "/*/ \n",
    "var input = System.IO.File.ReadAllLines(\"input.txt\");\n",
    "//*/\n",
    "\n",
    "input"
   ]
  },
  {
   "cell_type": "code",
   "execution_count": 39,
   "metadata": {
    "dotnet_interactive": {
     "language": "csharp"
    },
    "polyglot_notebook": {
     "kernelName": "csharp"
    },
    "vscode": {
     "languageId": "polyglot-notebook"
    }
   },
   "outputs": [],
   "source": [
    "public class Position\n",
    "{\n",
    "    public Position()\n",
    "    {\n",
    "        X = 0;\n",
    "        Y = 0;\n",
    "    }\n",
    "    public int X { get; set; }\n",
    "    public int Y { get; set; }\n",
    "}\n",
    "\n",
    "public class Rope\n",
    "{\n",
    "    public Rope(int segments)\n",
    "    {\n",
    "        Head = new Position();\n",
    "        Segments = Enumerable.Range(0,segments).Select(x => new Position()).ToList();\n",
    "        PlacesTailVisited = new HashSet<string>();\n",
    "    }\n",
    "    public Position Head { get; set; }\n",
    "    \n",
    "    public HashSet<string> PlacesTailVisited { get; set; }\n",
    "    \n",
    "    public List<Position> Segments { get; set; }\n",
    "\n",
    "    public void Move(string actionStr)\n",
    "    {\n",
    "        var action = actionStr.Split(' ');\n",
    "        var direction = action[0];\n",
    "        var distance = int.Parse(action[1]);\n",
    "\n",
    "        for (var i = 0; i < distance; i++)\n",
    "        {\n",
    "            MoveHead(direction);\n",
    "            for (var s = 0; s < Segments.Count; s++)\n",
    "            {\n",
    "                MoveSegment(Segments[s],s);\n",
    "            }\n",
    "\n",
    "            //Console.WriteLine(JsonConvert.SerializeObject(Segments));\n",
    "            RecordTailPosition();\n",
    "        }\n",
    "    }\n",
    "\n",
    "    void MoveHead(string direction)\n",
    "    {\n",
    "        _ = direction switch\n",
    "        {\n",
    "            \"U\" => Head.Y++,\n",
    "            \"D\" => Head.Y--,\n",
    "            \"L\" => Head.X--,\n",
    "            \"R\" => Head.X++,\n",
    "            _ => throw new NotSupportedException()\n",
    "        };\n",
    "    }\n",
    "\n",
    "    void MoveSegment(Position t, int index)\n",
    "    {\n",
    "        var h = index == 0 ? Head : Segments[index - 1];\n",
    "        var diffX = h.X - t.X;\n",
    "        var diffY = h.Y - t.Y;\n",
    "\n",
    "        var movedX = false;\n",
    "        var movedY = false;\n",
    "        switch (diffX)\n",
    "        { \n",
    "            case -2:\n",
    "                t.X--;\n",
    "                movedX = true;\n",
    "                break;\n",
    "            case 2:\n",
    "                t.X++;\n",
    "                movedX = true;\n",
    "                break;\n",
    "        }\n",
    "\n",
    "        switch(diffY)\n",
    "        {\n",
    "            case -2:\n",
    "                t.Y--;\n",
    "                movedY = true;\n",
    "                break;\n",
    "            case 2:\n",
    "                t.Y++;\n",
    "                movedY = true;\n",
    "                break;\n",
    "        };\n",
    "\n",
    "        if (System.Math.Abs(diffX) == 1 && movedY)\n",
    "        {\n",
    "            t.X = h.X;\n",
    "        }else if (System.Math.Abs(diffY) == 1 && movedX)\n",
    "        {\n",
    "            t.Y = h.Y;\n",
    "        }\n",
    "    }\n",
    "\n",
    "    void RecordTailPosition() => PlacesTailVisited.Add($\"{Segments.Last().X},{Segments.Last().Y}\");\n",
    "}"
   ]
  },
  {
   "attachments": {},
   "cell_type": "markdown",
   "metadata": {
    "dotnet_interactive": {
     "language": "csharp"
    },
    "polyglot_notebook": {
     "kernelName": "csharp"
    }
   },
   "source": [
    "## Part 1"
   ]
  },
  {
   "cell_type": "code",
   "execution_count": 17,
   "metadata": {
    "dotnet_interactive": {
     "language": "csharp"
    },
    "polyglot_notebook": {
     "kernelName": "csharp"
    },
    "vscode": {
     "languageId": "polyglot-notebook"
    }
   },
   "outputs": [
    {
     "name": "stdout",
     "output_type": "stream",
     "text": [
      "Ropey visited 6236 places\r\n"
     ]
    }
   ],
   "source": [
    "var ropey = new Rope(1);\n",
    "\n",
    "foreach (var line in input)\n",
    "{\n",
    "    ropey.Move(line);\n",
    "    //Console.WriteLine($\"Head ({ropey.Head.X}, {ropey.Head.Y})\");\n",
    "}\n",
    "\n",
    "Console.WriteLine($\"Ropey visited {ropey.PlacesTailVisited.Count} places\");\n"
   ]
  },
  {
   "attachments": {},
   "cell_type": "markdown",
   "metadata": {
    "dotnet_interactive": {
     "language": "csharp"
    },
    "polyglot_notebook": {
     "kernelName": "csharp"
    }
   },
   "source": [
    "## Part 2\n",
    "2238 - your answer is too low\n",
    "\n",
    "2814 - hmmm... something doesn't feel right...\n"
   ]
  },
  {
   "cell_type": "code",
   "execution_count": 42,
   "metadata": {
    "dotnet_interactive": {
     "language": "csharp"
    },
    "polyglot_notebook": {
     "kernelName": "csharp"
    },
    "vscode": {
     "languageId": "polyglot-notebook"
    }
   },
   "outputs": [
    {
     "name": "stdout",
     "output_type": "stream",
     "text": [
      "Ropey visited 2449 places\n",
      "[{\"X\":36,\"Y\":-50},{\"X\":36,\"Y\":-49},{\"X\":36,\"Y\":-48},{\"X\":36,\"Y\":-47},{\"X\":37,\"Y\":-46},{\"X\":38,\"Y\":-46},{\"X\":38,\"Y\":-47},{\"X\":37,\"Y\":-48},{\"X\":36,\"Y\":-48}]\n"
     ]
    }
   ],
   "source": [
    "// Solve Part 2\n",
    "\n",
    "var ropey = new Rope(9);\n",
    "\n",
    "foreach (var line in input)\n",
    "{\n",
    "    ropey.Move(line);\n",
    "    //Console.WriteLine($\"Head ({ropey.Head.X}, {ropey.Head.Y})\");\n",
    "}\n",
    "\n",
    "Console.WriteLine($\"Ropey visited {ropey.PlacesTailVisited.Count} places\");\n",
    "Console.WriteLine(JsonConvert.SerializeObject(ropey.Segments));"
   ]
  }
 ],
 "metadata": {
  "kernelspec": {
   "display_name": ".NET (C#)",
   "language": "C#",
   "name": ".net-csharp"
  },
  "polyglot_notebook": {
   "kernelInfo": {
    "defaultKernelName": "csharp",
    "items": [
     {
      "aliases": [
       "c#",
       "C#"
      ],
      "languageName": "C#",
      "name": "csharp"
     },
     {
      "aliases": [],
      "name": ".NET"
     },
     {
      "aliases": [
       "frontend"
      ],
      "name": "vscode"
     },
     {
      "aliases": [
       "f#",
       "F#"
      ],
      "languageName": "F#",
      "name": "fsharp"
     },
     {
      "aliases": [],
      "languageName": "HTML",
      "name": "html"
     },
     {
      "aliases": [
       "js"
      ],
      "languageName": "JavaScript",
      "name": "javascript"
     },
     {
      "aliases": [],
      "languageName": "KQL",
      "name": "kql"
     },
     {
      "aliases": [],
      "languageName": "Mermaid",
      "name": "mermaid"
     },
     {
      "aliases": [
       "powershell"
      ],
      "languageName": "PowerShell",
      "name": "pwsh"
     },
     {
      "aliases": [],
      "languageName": "SQL",
      "name": "sql"
     },
     {
      "aliases": [],
      "name": "value"
     },
     {
      "aliases": [],
      "name": "webview"
     }
    ]
   }
  }
 },
 "nbformat": 4,
 "nbformat_minor": 2
}
