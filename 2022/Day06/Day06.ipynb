{
 "cells": [
  {
   "attachments": {},
   "cell_type": "markdown",
   "metadata": {
    "dotnet_interactive": {
     "language": "csharp"
    },
    "polyglot_notebook": {
     "kernelName": "csharp"
    }
   },
   "source": [
    "# Advent of code - day 6"
   ]
  },
  {
   "cell_type": "code",
   "execution_count": 1,
   "metadata": {
    "dotnet_interactive": {
     "language": "csharp"
    },
    "polyglot_notebook": {
     "kernelName": "csharp"
    },
    "vscode": {
     "languageId": "polyglot-notebook"
    }
   },
   "outputs": [],
   "source": [
    "// See https://aka.ms/new-console-template for more information\n",
    "\n",
    "using System.Collections;\n",
    "\n",
    "var input = System.IO.File.ReadAllLines(\"input.txt\");\n"
   ]
  },
  {
   "attachments": {},
   "cell_type": "markdown",
   "metadata": {
    "dotnet_interactive": {
     "language": "csharp"
    },
    "polyglot_notebook": {
     "kernelName": "csharp"
    }
   },
   "source": [
    "## Part 1\n",
    "Find start marker for 4 unique characters\n",
    "\n",
    "## Part 2\n",
    "Find starter marker for 14 unique characters"
   ]
  },
  {
   "cell_type": "code",
   "execution_count": 2,
   "metadata": {
    "dotnet_interactive": {
     "language": "csharp"
    },
    "polyglot_notebook": {
     "kernelName": "csharp"
    },
    "vscode": {
     "languageId": "polyglot-notebook"
    }
   },
   "outputs": [
    {
     "name": "stdout",
     "output_type": "stream",
     "text": [
      "3037\r\n"
     ]
    }
   ],
   "source": [
    "int FindStartMarker(string sequence)\n",
    "{\n",
    "    var queue = new Queue<char>();\n",
    "    var index = 0;\n",
    "\n",
    "    foreach (var c in sequence)\n",
    "    {\n",
    "        if (queue.Count < 14)\n",
    "        {\n",
    "            queue.Enqueue(c);\n",
    "        }\n",
    "        else\n",
    "        {\n",
    "            if (queue.Distinct().Count() != 14)\n",
    "            {\n",
    "                queue.Dequeue();\n",
    "                queue.Enqueue(c);\n",
    "            }\n",
    "            else\n",
    "            {\n",
    "                return index;\n",
    "            }\n",
    "        }\n",
    "\n",
    "        index++;\n",
    "    }\n",
    "\n",
    "    return -1;\n",
    "}\n",
    "\n",
    "foreach (var line in input)\n",
    "{\n",
    "    Console.WriteLine($\"{FindStartMarker(line)}\");\n",
    "}"
   ]
  }
 ],
 "metadata": {
  "kernelspec": {
   "display_name": ".NET (C#)",
   "language": "C#",
   "name": ".net-csharp"
  },
  "polyglot_notebook": {
   "kernelInfo": {
    "defaultKernelName": "csharp",
    "items": [
     {
      "aliases": [
       "c#",
       "C#"
      ],
      "languageName": "C#",
      "name": "csharp"
     },
     {
      "aliases": [
       "frontend"
      ],
      "languageName": null,
      "name": "vscode"
     }
    ]
   }
  }
 },
 "nbformat": 4,
 "nbformat_minor": 2
}
