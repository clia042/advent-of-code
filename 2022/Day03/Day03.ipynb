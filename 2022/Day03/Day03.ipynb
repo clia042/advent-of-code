{
 "cells": [
  {
   "attachments": {},
   "cell_type": "markdown",
   "metadata": {},
   "source": [
    "# Advent of code - day 3"
   ]
  },
  {
   "cell_type": "code",
   "execution_count": 1,
   "metadata": {
    "dotnet_interactive": {
     "language": "csharp"
    },
    "vscode": {
     "languageId": "polyglot-notebook"
    }
   },
   "outputs": [
    {
     "data": {
      "text/html": [
       "<table><thead><tr><th><i>index</i></th><th>value</th></tr></thead><tbody><tr><td>0</td><td>tdltdtmhlRNCBcwmHr</td></tr><tr><td>1</td><td>WDzDPnvvGnsWLWpGJJHRzCCRZNBRrRwMNwHH</td></tr><tr><td>2</td><td>DsDsQnJDnWsJnJvrQDPJddgShFQhjljqhggbdbbt</td></tr><tr><td>3</td><td>LqvbLLTdvlfdqTLtbvDSRHPhHmRSnndHnHRM</td></tr><tr><td>4</td><td>jswsGgzwsNgNWNwGJzVrgSHnhHHDmShmmGShnMDPRn</td></tr><tr><td>5</td><td>JMNWzVwMpjpLpTfTLLTf</td></tr><tr><td>6</td><td>HnQBjMjPQmRMmJCmBPGSFTSVWcNNGQQGGGTV</td></tr><tr><td>7</td><td>dgstqdtsbwrzddvrvdwqzhrWSFllDSWGDWFGDNsDDWSTHT</td></tr><tr><td>8</td><td>gpqZwwzHZhwzMJBmfZnnJLCL</td></tr><tr><td>9</td><td>PJHbTPCmLdTtLtRtBvzBrWffft</td></tr><tr><td>10</td><td>hnpTqhMncpFDppDqqNVFVvWzvNWNvfBfzs</td></tr><tr><td>11</td><td>GwZccTpgnDSDDZQdCZbbClbCmm</td></tr><tr><td>12</td><td>bnZnRZZZRlpGBbfRJjBbMfhCHwfsHShschMsHCww</td></tr><tr><td>13</td><td>LqVtqVmtLQvVqqLTFFvLDMhDMpMhwMSLDhsDCH</td></tr><tr><td>14</td><td>mFQWtNggVQQgmdgpJGpnnZJjbWGBRZ</td></tr><tr><td>15</td><td>GsdGrGqvLZqWvWWdrPLdfvsvSJDDcQQhcTbFbTcCJLSJShcJ</td></tr><tr><td>16</td><td>wmBlnjwjgHSSDQjfDDfF</td></tr><tr><td>17</td><td>wggpmwmwNnMlHRpttRHmlPfWzdGvvvzrZWVvMrPvvZ</td></tr><tr><td>18</td><td>jvlvTvTvTvcqTdZrdnGlVfNgspslpfGGnM</td></tr><tr><td>19</td><td>BWQhQzQwmhwWHbWCSRMRgjpjVDDRgDgVffgV</td></tr><tr><td colspan=\"2\"><i>(280 more)</i></td></tr></tbody></table><style>\r\n",
       ".dni-code-hint {\r\n",
       "    font-style: italic;\r\n",
       "    overflow: hidden;\r\n",
       "    white-space: nowrap;\r\n",
       "}\r\n",
       ".dni-treeview {\r\n",
       "    white-space: nowrap;\r\n",
       "}\r\n",
       ".dni-treeview td {\r\n",
       "    vertical-align: top;\r\n",
       "    text-align: start;\r\n",
       "}\r\n",
       "details.dni-treeview {\r\n",
       "    padding-left: 1em;\r\n",
       "}\r\n",
       "table td {\r\n",
       "    text-align: start;\r\n",
       "}\r\n",
       "table tr { \r\n",
       "    vertical-align: top; \r\n",
       "    margin: 0em 0px;\r\n",
       "}\r\n",
       "table tr td pre \r\n",
       "{ \r\n",
       "    vertical-align: top !important; \r\n",
       "    margin: 0em 0px !important;\r\n",
       "} \r\n",
       "table th {\r\n",
       "    text-align: start;\r\n",
       "}\r\n",
       "</style>"
      ]
     },
     "metadata": {},
     "output_type": "display_data"
    }
   ],
   "source": [
    "using Newtonsoft.Json;\n",
    "\n",
    "/*\n",
    "var input = System.IO.File.ReadAllLines(\"sample-input.txt\");\n",
    "/*/ \n",
    "var input = System.IO.File.ReadAllLines(\"input.txt\");\n",
    "//*/\n",
    "\n",
    "input"
   ]
  },
  {
   "attachments": {},
   "cell_type": "markdown",
   "metadata": {
    "dotnet_interactive": {
     "language": "csharp"
    },
    "polyglot_notebook": {
     "kernelName": "csharp"
    }
   },
   "source": [
    "## Part 1"
   ]
  },
  {
   "cell_type": "code",
   "execution_count": 2,
   "metadata": {
    "dotnet_interactive": {
     "language": "csharp"
    },
    "vscode": {
     "languageId": "polyglot-notebook"
    }
   },
   "outputs": [],
   "source": [
    "public char FindDuplicateItem(string rucksack){\n",
    "    var compartmentA = rucksack.Substring(0, rucksack.Count()/2);\n",
    "    var compartmentB = rucksack.Substring(rucksack.Count()/2);\n",
    "        \n",
    "    foreach(var item in compartmentA){\n",
    "        if(compartmentB.Contains(item)){\n",
    "            return item;\n",
    "        }\n",
    "    }\n",
    "    throw new System.Exception(\"Item Not Found\");\n",
    "}\n",
    "\n",
    "public int GetItemPriority(char item){\n",
    "    if(char.IsLower(item)){\n",
    "        return (int)item - 96;\n",
    "    }else{\n",
    "        return (int)item - 38;\n",
    "    }\n",
    "}"
   ]
  },
  {
   "cell_type": "code",
   "execution_count": 3,
   "metadata": {
    "dotnet_interactive": {
     "language": "csharp"
    },
    "vscode": {
     "languageId": "polyglot-notebook"
    }
   },
   "outputs": [
    {
     "data": {
      "text/html": [
       "<div class=\"dni-plaintext\"><pre>7872</pre></div><style>\r\n",
       ".dni-code-hint {\r\n",
       "    font-style: italic;\r\n",
       "    overflow: hidden;\r\n",
       "    white-space: nowrap;\r\n",
       "}\r\n",
       ".dni-treeview {\r\n",
       "    white-space: nowrap;\r\n",
       "}\r\n",
       ".dni-treeview td {\r\n",
       "    vertical-align: top;\r\n",
       "    text-align: start;\r\n",
       "}\r\n",
       "details.dni-treeview {\r\n",
       "    padding-left: 1em;\r\n",
       "}\r\n",
       "table td {\r\n",
       "    text-align: start;\r\n",
       "}\r\n",
       "table tr { \r\n",
       "    vertical-align: top; \r\n",
       "    margin: 0em 0px;\r\n",
       "}\r\n",
       "table tr td pre \r\n",
       "{ \r\n",
       "    vertical-align: top !important; \r\n",
       "    margin: 0em 0px !important;\r\n",
       "} \r\n",
       "table th {\r\n",
       "    text-align: start;\r\n",
       "}\r\n",
       "</style>"
      ]
     },
     "metadata": {},
     "output_type": "display_data"
    }
   ],
   "source": [
    "var duplicates = new List<char>();\n",
    "foreach(var rucksack in input){\n",
    "    duplicates.Add(FindDuplicateItem(rucksack));\n",
    "}\n",
    "\n",
    "duplicates.Select(x => GetItemPriority(x)).Sum()"
   ]
  },
  {
   "attachments": {},
   "cell_type": "markdown",
   "metadata": {
    "dotnet_interactive": {
     "language": "csharp"
    },
    "polyglot_notebook": {
     "kernelName": "csharp"
    }
   },
   "source": [
    "## Part 2"
   ]
  },
  {
   "cell_type": "code",
   "execution_count": 4,
   "metadata": {
    "dotnet_interactive": {
     "language": "csharp"
    },
    "vscode": {
     "languageId": "polyglot-notebook"
    }
   },
   "outputs": [
    {
     "data": {
      "text/html": [
       "<div class=\"dni-plaintext\"><pre>2497</pre></div><style>\r\n",
       ".dni-code-hint {\r\n",
       "    font-style: italic;\r\n",
       "    overflow: hidden;\r\n",
       "    white-space: nowrap;\r\n",
       "}\r\n",
       ".dni-treeview {\r\n",
       "    white-space: nowrap;\r\n",
       "}\r\n",
       ".dni-treeview td {\r\n",
       "    vertical-align: top;\r\n",
       "    text-align: start;\r\n",
       "}\r\n",
       "details.dni-treeview {\r\n",
       "    padding-left: 1em;\r\n",
       "}\r\n",
       "table td {\r\n",
       "    text-align: start;\r\n",
       "}\r\n",
       "table tr { \r\n",
       "    vertical-align: top; \r\n",
       "    margin: 0em 0px;\r\n",
       "}\r\n",
       "table tr td pre \r\n",
       "{ \r\n",
       "    vertical-align: top !important; \r\n",
       "    margin: 0em 0px !important;\r\n",
       "} \r\n",
       "table th {\r\n",
       "    text-align: start;\r\n",
       "}\r\n",
       "</style>"
      ]
     },
     "metadata": {},
     "output_type": "display_data"
    }
   ],
   "source": [
    "var i = 0;\n",
    "var groups = input.GroupBy(x => i++ / 3);\n",
    "\n",
    "public char FindBadge(string[] group){\n",
    "    foreach(var item in group[0]){\n",
    "        if(group[1].Contains(item)){\n",
    "            if(group[2].Contains(item)){\n",
    "                return item;\n",
    "            }\n",
    "        }\n",
    "    }\n",
    "    throw new System.Exception(\"No badge found\");\n",
    "}\n",
    "\n",
    "var badges = new List<char>();\n",
    "foreach(var group in groups){\n",
    "    badges.Add(FindBadge(group.ToArray()));\n",
    "}\n",
    "\n",
    "badges.Select(x => GetItemPriority(x)).Sum()"
   ]
  }
 ],
 "metadata": {
  "kernelspec": {
   "display_name": ".NET (C#)",
   "language": "C#",
   "name": ".net-csharp"
  },
  "polyglot_notebook": {
   "kernelInfo": {
    "defaultKernelName": "csharp",
    "items": [
     {
      "aliases": [
       "c#",
       "C#"
      ],
      "languageName": "C#",
      "name": "csharp"
     },
     {
      "aliases": [],
      "name": ".NET"
     },
     {
      "aliases": [
       "f#",
       "F#"
      ],
      "languageName": "F#",
      "name": "fsharp"
     },
     {
      "aliases": [],
      "languageName": "HTML",
      "name": "html"
     },
     {
      "aliases": [
       "js"
      ],
      "languageName": "JavaScript",
      "name": "javascript"
     },
     {
      "aliases": [],
      "languageName": "KQL",
      "name": "kql"
     },
     {
      "aliases": [],
      "languageName": "Mermaid",
      "name": "mermaid"
     },
     {
      "aliases": [
       "powershell"
      ],
      "languageName": "PowerShell",
      "name": "pwsh"
     },
     {
      "aliases": [],
      "languageName": "SQL",
      "name": "sql"
     },
     {
      "aliases": [],
      "name": "value"
     },
     {
      "aliases": [
       "frontend"
      ],
      "name": "vscode"
     },
     {
      "aliases": [],
      "name": "webview"
     }
    ]
   }
  }
 },
 "nbformat": 4,
 "nbformat_minor": 2
}
