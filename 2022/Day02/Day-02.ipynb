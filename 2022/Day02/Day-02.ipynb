{
 "cells": [
  {
   "attachments": {},
   "cell_type": "markdown",
   "metadata": {},
   "source": [
    "# Advent of code - Day 2\n",
    "## Problem\n",
    "The Elves begin to set up camp on the beach. To decide whose tent gets to be closest to the snack storage, a giant Rock Paper Scissors tournament is already in progress.\n",
    "\n",
    "Rock Paper Scissors is a game between two players. Each game contains many rounds; in each round, the players each simultaneously choose one of Rock, Paper, or Scissors using a hand shape. Then, a winner for that round is selected: Rock defeats Scissors, Scissors defeats Paper, and Paper defeats Rock. If both players choose the same shape, the round instead ends in a draw.\n",
    "\n",
    "Appreciative of your help yesterday, one Elf gives you an encrypted strategy guide (your puzzle input) that they say will be sure to help you win. \"The first column is what your opponent is going to play: A for Rock, B for Paper, and C for Scissors. The second column--\" Suddenly, the Elf is called away to help with someone's tent.\n",
    "\n",
    "The second column, you reason, must be what you should play in response: X for Rock, Y for Paper, and Z for Scissors. Winning every time would be suspicious, so the responses must have been carefully chosen.\n",
    "\n",
    "The winner of the whole tournament is the player with the highest score. Your total score is the sum of your scores for each round. The score for a single round is the score for the shape you selected (1 for Rock, 2 for Paper, and 3 for Scissors) plus the score for the outcome of the round (0 if you lost, 3 if the round was a draw, and 6 if you won).\n",
    "\n",
    "Since you can't be sure if the Elf is trying to help you or trick you, you should calculate the score you would get if you were to follow the strategy guide.\n",
    "\n",
    "For example, suppose you were given the following strategy guide:\n",
    "\n",
    "A Y\n",
    "B X\n",
    "C Z\n",
    "This strategy guide predicts and recommends the following:\n",
    "\n",
    "In the first round, your opponent will choose Rock (A), and you should choose Paper (Y). This ends in a win for you with a score of 8 (2 because you chose Paper + 6 because you won).\n",
    "In the second round, your opponent will choose Paper (B), and you should choose Rock (X). This ends in a loss for you with a score of 1 (1 + 0).\n",
    "The third round is a draw with both players choosing Scissors, giving you a score of 3 + 3 = 6.\n",
    "In this example, if you were to follow the strategy guide, you would get a total score of 15 (8 + 1 + 6)."
   ]
  },
  {
   "cell_type": "code",
   "execution_count": null,
   "metadata": {
    "dotnet_interactive": {
     "language": "csharp"
    },
    "vscode": {
     "languageId": "polyglot-notebook"
    }
   },
   "outputs": [],
   "source": [
    "using Newtonsoft.Json;\n",
    "\n",
    "/*\n",
    "var input = System.IO.File.ReadAllLines(\"sample-input.txt\");\n",
    "/*/ \n",
    "var input = System.IO.File.ReadAllLines(\"input.txt\");\n",
    "//*/\n",
    "\n",
    "input"
   ]
  },
  {
   "cell_type": "code",
   "execution_count": null,
   "metadata": {
    "dotnet_interactive": {
     "language": "csharp"
    },
    "vscode": {
     "languageId": "polyglot-notebook"
    }
   },
   "outputs": [],
   "source": [
    "var shapeWeights = new Dictionary<char,Shape>();\n",
    "\n",
    "public class Shape {\n",
    "    public Shape(int w, char win, char lose){\n",
    "        weight = w;\n",
    "        willWinTo = win;\n",
    "        willLoseTo = lose;\n",
    "    }\n",
    "    public char willLoseTo {get;set;}\n",
    "    public char willWinTo {get;set;}\n",
    "    public int weight { get; set; }\n",
    "\n",
    "    public int GetScore(char move){\n",
    "        if(willWinTo == move){\n",
    "            return weight + 6;\n",
    "        }else if(willLoseTo == move){\n",
    "            return weight + 0;\n",
    "        }\n",
    "        return weight + 3;\n",
    "    }\n",
    "\n",
    "}\n",
    "\n",
    "shapeWeights.Add('X',new Shape(1,'C','B'));\n",
    "shapeWeights.Add('Y',new Shape(2,'A','C'));\n",
    "shapeWeights.Add('Z',new Shape(3,'B','A'));\n",
    "\n",
    "//shapeWeights\n"
   ]
  },
  {
   "attachments": {},
   "cell_type": "markdown",
   "metadata": {
    "dotnet_interactive": {
     "language": "csharp"
    },
    "polyglot_notebook": {
     "kernelName": "csharp"
    }
   },
   "source": [
    "## Part 1\n",
    "What would your total score be if everything goes exactly according to your strategy guide?"
   ]
  },
  {
   "cell_type": "code",
   "execution_count": null,
   "metadata": {
    "dotnet_interactive": {
     "language": "csharp"
    },
    "vscode": {
     "languageId": "polyglot-notebook"
    }
   },
   "outputs": [],
   "source": [
    "var outcome = 0;\n",
    "foreach(var round in input){\n",
    "    var moves = round.Where(x => char.IsLetter(x));\n",
    "    var myMove = shapeWeights[moves.Last()];\n",
    "    //Console.WriteLine($\"Score is: {myMove.GetScore(moves.First())}\");\n",
    "    outcome += myMove.GetScore(moves.First());\n",
    "}\n",
    "\n",
    "outcome"
   ]
  },
  {
   "attachments": {},
   "cell_type": "markdown",
   "metadata": {
    "dotnet_interactive": {
     "language": "csharp"
    },
    "polyglot_notebook": {
     "kernelName": "csharp"
    }
   },
   "source": [
    "## Part 2\n",
    "The Elf finishes helping with the tent and sneaks back over to you. \"Anyway, the second column says how the round needs to end: X means you need to lose, Y means you need to end the round in a draw, and Z means you need to win. Good luck!\"\n",
    "\n",
    "The total score is still calculated in the same way, but now you need to figure out what shape to choose so the round ends as indicated. The example above now goes like this:\n",
    "\n",
    "In the first round, your opponent will choose Rock (A), and you need the round to end in a draw (Y), so you also choose Rock. This gives you a score of 1 + 3 = 4.\n",
    "In the second round, your opponent will choose Paper (B), and you choose Rock so you lose (X) with a score of 1 + 0 = 1.\n",
    "In the third round, you will defeat your opponent's Scissors with Rock for a score of 1 + 6 = 7.\n",
    "Now that you're correctly decrypting the ultra top secret strategy guide, you would get a total score of 12.\n",
    "\n",
    "Following the Elf's instructions for the second column, what would your total score be if everything goes exactly according to your strategy guide?\n",
    "\n",
    "A = 1 = Rock\n",
    "B = 2 = Paper\n",
    "C = 3 = Scissors"
   ]
  },
  {
   "cell_type": "code",
   "execution_count": null,
   "metadata": {
    "dotnet_interactive": {
     "language": "csharp"
    },
    "vscode": {
     "languageId": "polyglot-notebook"
    }
   },
   "outputs": [],
   "source": [
    "var shapeWeights = new Dictionary<char,Shape>();\n",
    "\n",
    "public class Shape {\n",
    "    public Shape(int w, int win, int lose){\n",
    "        winWeight = win;\n",
    "        loseWeight = lose;\n",
    "        weight = w;\n",
    "    }\n",
    "    public int winWeight {get;set;}\n",
    "    public int loseWeight {get;set;}\n",
    "    public int weight { get; set; }\n",
    "\n",
    "    public int GetScore(char action) => action switch {\n",
    "        'X' => 0 + loseWeight,\n",
    "        'Y' => 3 + weight,\n",
    "        'Z' => 6 + winWeight\n",
    "    };\n",
    "\n",
    "}\n",
    "\n",
    "shapeWeights.Add('A',new Shape(1,2,3));\n",
    "shapeWeights.Add('B',new Shape(2,3,1));\n",
    "shapeWeights.Add('C',new Shape(3,1,2));"
   ]
  },
  {
   "cell_type": "code",
   "execution_count": null,
   "metadata": {
    "dotnet_interactive": {
     "language": "csharp"
    },
    "vscode": {
     "languageId": "polyglot-notebook"
    }
   },
   "outputs": [],
   "source": [
    "var outcome = 0;\n",
    "foreach(var round in input){\n",
    "    var moves = round.Where(x => char.IsLetter(x));\n",
    "    var theirMove = shapeWeights[moves.First()];\n",
    "    //Console.WriteLine($\"Score is: {myMove.GetScore(moves.First())}\");\n",
    "    outcome += theirMove.GetScore(moves.Last());\n",
    "    //Console.WriteLine(outcome);\n",
    "}\n",
    "\n",
    "outcome"
   ]
  }
 ],
 "metadata": {
  "kernelspec": {
   "display_name": ".NET (C#)",
   "language": "C#",
   "name": ".net-csharp"
  },
  "polyglot_notebook": {
   "kernelInfo": {
    "defaultKernelName": "csharp",
    "items": [
     {
      "aliases": [
       "c#",
       "C#"
      ],
      "languageName": "C#",
      "name": "csharp"
     },
     {
      "aliases": [],
      "name": ".NET"
     },
     {
      "aliases": [
       "f#",
       "F#"
      ],
      "languageName": "F#",
      "name": "fsharp"
     },
     {
      "aliases": [],
      "languageName": "HTML",
      "name": "html"
     },
     {
      "aliases": [
       "js"
      ],
      "languageName": "JavaScript",
      "name": "javascript"
     },
     {
      "aliases": [],
      "languageName": "KQL",
      "name": "kql"
     },
     {
      "aliases": [],
      "languageName": "Mermaid",
      "name": "mermaid"
     },
     {
      "aliases": [
       "powershell"
      ],
      "languageName": "PowerShell",
      "name": "pwsh"
     },
     {
      "aliases": [],
      "languageName": "SQL",
      "name": "sql"
     },
     {
      "aliases": [],
      "name": "value"
     },
     {
      "aliases": [
       "frontend"
      ],
      "name": "vscode"
     },
     {
      "aliases": [],
      "name": "webview"
     }
    ]
   }
  }
 },
 "nbformat": 4,
 "nbformat_minor": 2
}
