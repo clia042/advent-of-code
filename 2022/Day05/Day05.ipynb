{
 "cells": [
  {
   "attachments": {},
   "cell_type": "markdown",
   "metadata": {},
   "source": [
    "# Advent of code - day 5\n",
    "## Problem\n",
    "Absolute crate madness!!!"
   ]
  },
  {
   "cell_type": "code",
   "execution_count": null,
   "metadata": {
    "dotnet_interactive": {
     "language": "csharp"
    },
    "vscode": {
     "languageId": "polyglot-notebook"
    }
   },
   "outputs": [],
   "source": [
    "using Newtonsoft.Json;\n",
    "\n",
    "/*\n",
    "var input = System.IO.File.ReadAllLines(\"sample-input.txt\");\n",
    "/*/ \n",
    "var input = System.IO.File.ReadAllLines(\"input.txt\");\n",
    "//*/\n",
    "\n",
    "input"
   ]
  },
  {
   "attachments": {},
   "cell_type": "markdown",
   "metadata": {
    "dotnet_interactive": {
     "language": "csharp"
    },
    "polyglot_notebook": {
     "kernelName": "csharp"
    }
   },
   "source": [
    "## Part 1"
   ]
  },
  {
   "cell_type": "code",
   "execution_count": null,
   "metadata": {
    "dotnet_interactive": {
     "language": "csharp"
    },
    "vscode": {
     "languageId": "polyglot-notebook"
    }
   },
   "outputs": [],
   "source": [
    "var stacks = new Dictionary<int,Stack<char>>();\n",
    "\n",
    "public void BuildStack(string input){\n",
    "    var idx = 1;\n",
    "    for(var i = 1; i < input.Length; i+=4){\n",
    "        var item = input[i];\n",
    "        if(char.IsLetter(item)){\n",
    "            if(stacks.ContainsKey(idx)){\n",
    "                stacks[idx].Push(item);\n",
    "            }else{\n",
    "                stacks.Add(idx,new Stack<char>(new[]{item}));\n",
    "            }\n",
    "        }\n",
    "        idx++;\n",
    "    }\n",
    "}\n",
    "\n",
    "public void ReverseStacks(){\n",
    "    foreach(var stack in stacks){\n",
    "        stacks[stack.Key] = new Stack<char>(stack.Value);\n",
    "    }\n",
    "}\n",
    "\n",
    "public void MoveItems(string move){\n",
    "    var instructions = move.Split(' ');\n",
    "    var itemCount = int.Parse(instructions[1]);\n",
    "    var fromStack = int.Parse(instructions[3]);\n",
    "    var toStack = int.Parse(instructions[5]);\n",
    "    \n",
    "    //Console.WriteLine(JsonConvert.SerializeObject(new { itemCount, fromStack, toStack }));\n",
    "    while(itemCount > 0){\n",
    "        var item = stacks[fromStack].Pop();\n",
    "        stacks[toStack].Push(item);\n",
    "        itemCount--;\n",
    "    }\n",
    "    Console.WriteLine(JsonConvert.SerializeObject(stacks));\n",
    "}"
   ]
  },
  {
   "cell_type": "code",
   "execution_count": null,
   "metadata": {
    "dotnet_interactive": {
     "language": "csharp"
    },
    "vscode": {
     "languageId": "polyglot-notebook"
    }
   },
   "outputs": [],
   "source": [
    "foreach(var line in input){\n",
    "    if(line.Contains('[')){\n",
    "        //split as part of stack diagram\n",
    "        BuildStack(line);\n",
    "    }else if(string.IsNullOrEmpty(line)){\n",
    "        //blank operator.\n",
    "        ReverseStacks();\n",
    "    }else if(line.StartsWith(\"move\")){\n",
    "        //is a move set.\n",
    "        //MoveItems(line);\n",
    "        MoveItemsV2(line);\n",
    "    }\n",
    "}\n",
    "\n",
    "new string(stacks.OrderBy(x => x.Key).Select(x => x.Value.Pop()).ToArray())"
   ]
  },
  {
   "attachments": {},
   "cell_type": "markdown",
   "metadata": {
    "dotnet_interactive": {
     "language": "csharp"
    },
    "polyglot_notebook": {
     "kernelName": "csharp"
    }
   },
   "source": [
    "## Part 2"
   ]
  },
  {
   "cell_type": "code",
   "execution_count": null,
   "metadata": {
    "dotnet_interactive": {
     "language": "csharp"
    },
    "vscode": {
     "languageId": "polyglot-notebook"
    }
   },
   "outputs": [],
   "source": [
    "public void MoveItemsV2(string move){\n",
    "    var instructions = move.Split(' ');\n",
    "    var itemCount = int.Parse(instructions[1]);\n",
    "    var fromStack = int.Parse(instructions[3]);\n",
    "    var toStack = int.Parse(instructions[5]);\n",
    "\n",
    "    var tempStack = new Stack<char>();\n",
    "    \n",
    "    //Console.WriteLine(JsonConvert.SerializeObject(new { itemCount, fromStack, toStack }));\n",
    "    while(itemCount > 0){\n",
    "        var item = stacks[fromStack].Pop();\n",
    "        tempStack.Push(item);\n",
    "        itemCount--;\n",
    "    }\n",
    "\n",
    "    while(tempStack.Count > 0){\n",
    "        stacks[toStack].Push(tempStack.Pop());\n",
    "    }\n",
    "    Console.WriteLine(JsonConvert.SerializeObject(stacks));\n",
    "}"
   ]
  }
 ],
 "metadata": {
  "kernelspec": {
   "display_name": ".NET (C#)",
   "language": "C#",
   "name": ".net-csharp"
  },
  "polyglot_notebook": {
   "kernelInfo": {
    "defaultKernelName": "csharp",
    "items": [
     {
      "aliases": [
       "c#",
       "C#"
      ],
      "languageName": "C#",
      "name": "csharp"
     },
     {
      "aliases": [],
      "name": ".NET"
     },
     {
      "aliases": [
       "f#",
       "F#"
      ],
      "languageName": "F#",
      "name": "fsharp"
     },
     {
      "aliases": [],
      "languageName": "HTML",
      "name": "html"
     },
     {
      "aliases": [],
      "languageName": "KQL",
      "name": "kql"
     },
     {
      "aliases": [],
      "languageName": "Mermaid",
      "name": "mermaid"
     },
     {
      "aliases": [
       "powershell"
      ],
      "languageName": "PowerShell",
      "name": "pwsh"
     },
     {
      "aliases": [],
      "languageName": "SQL",
      "name": "sql"
     },
     {
      "aliases": [],
      "name": "value"
     },
     {
      "aliases": [
       "frontend"
      ],
      "name": "vscode"
     }
    ]
   }
  }
 },
 "nbformat": 4,
 "nbformat_minor": 2
}
