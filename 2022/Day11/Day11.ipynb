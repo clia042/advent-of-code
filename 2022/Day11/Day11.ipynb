{
 "cells": [
  {
   "cell_type": "code",
   "execution_count": 14,
   "metadata": {
    "dotnet_interactive": {
     "language": "csharp"
    },
    "polyglot_notebook": {
     "kernelName": "csharp"
    }
   },
   "outputs": [],
   "source": [
    "// Parse Input\n",
    "using Newtonsoft.Json;\n",
    "using System.Numerics;\n",
    "\n",
    "/*\n",
    "var input = System.IO.File.ReadAllLines(\"sample-input.txt\");\n",
    "/*/ \n",
    "var input = System.IO.File.ReadAllLines(\"input.txt\");\n",
    "//*/\n"
   ]
  },
  {
   "cell_type": "code",
   "execution_count": 2,
   "metadata": {
    "dotnet_interactive": {
     "language": "csharp"
    },
    "polyglot_notebook": {
     "kernelName": "csharp"
    }
   },
   "outputs": [],
   "source": [
    "IEnumerable<List<string>> Monkeys(string[] v){\n",
    "    var section = new List<string>();\n",
    "    foreach(var line in v){\n",
    "        section.Add(line);\n",
    "        if(string.IsNullOrEmpty(line)){\n",
    "            yield return section;\n",
    "            section = new List<string>();\n",
    "        }\n",
    "    }\n",
    "\n",
    "    if(section.Any()) yield return section;\n",
    "}"
   ]
  },
  {
   "cell_type": "markdown",
   "metadata": {
    "dotnet_interactive": {
     "language": "csharp"
    },
    "polyglot_notebook": {
     "kernelName": "csharp"
    }
   },
   "source": [
    "## Part 1"
   ]
  },
  {
   "cell_type": "code",
   "execution_count": null,
   "metadata": {
    "dotnet_interactive": {
     "language": "csharp"
    },
    "polyglot_notebook": {
     "kernelName": "csharp"
    }
   },
   "outputs": [],
   "source": [
    "\n",
    "public class Monkey {\n",
    "    public Monkey(List<string> initialState){\n",
    "        items = initialState[1].Split(':')[1].Split(',').Select(i => int.Parse(i)).ToList();\n",
    "        operation = initialState[2].Split('=')[1].Trim();\n",
    "        divisibleNumber = int.Parse(initialState[3].Split(' ').Last());\n",
    "        throwToMonkeyTrue = int.Parse(initialState[4].Split(' ').Last());\n",
    "        throwToMonkeyFalse = int.Parse(initialState[5].Split(' ').Last());\n",
    "        itemsInspected = 0;\n",
    "    }\n",
    "\n",
    "    public List<int> items {get;set;}\n",
    "    public string operation {get;set;}\n",
    "    public int divisibleNumber {get;set;}\n",
    "    public int throwToMonkeyTrue {get;set;}\n",
    "    public int throwToMonkeyFalse {get;set;}\n",
    "    public int itemsInspected {get;set;}\n",
    "\n",
    "    public void CatchItem(int item){\n",
    "        items.Add(item);\n",
    "    }\n",
    "}\n",
    "\n",
    "public static void InspectsItems(this Monkey monkey, List<Monkey> gang){\n",
    "    foreach(var item in monkey.items){\n",
    "        var @new = Convert.ToInt32(new System.Data.DataTable().Compute(monkey.operation.Replace(\"old\", $\"{item}\"),null));\n",
    "        @new = @new/3;\n",
    "        if(@new % monkey.divisibleNumber == 0){\n",
    "            gang[monkey.throwToMonkeyTrue].CatchItem(@new);\n",
    "        }else{\n",
    "            gang[monkey.throwToMonkeyFalse].CatchItem(@new);\n",
    "        }\n",
    "        monkey.itemsInspected++;\n",
    "    }\n",
    "    monkey.items = new List<int>();\n",
    "}\n"
   ]
  },
  {
   "cell_type": "code",
   "execution_count": null,
   "metadata": {
    "dotnet_interactive": {
     "language": "csharp"
    },
    "polyglot_notebook": {
     "kernelName": "csharp"
    }
   },
   "outputs": [],
   "source": [
    "var monkeys = Monkeys(input).Select(m => new Monkey(m)).ToList();\n",
    "\n",
    "for(var i = 0; i < 20; i++){\n",
    "    foreach(var monkey in monkeys){\n",
    "        monkey.InspectsItems(monkeys);\n",
    "    }\n",
    "    //Console.WriteLine(JsonConvert.SerializeObject(monkeys));\n",
    "}\n",
    "\n",
    "var top2Monkeys = monkeys.OrderByDescending(x => x.itemsInspected).Take(2);\n",
    "\n",
    "top2Monkeys.Select(x => x.itemsInspected).Aggregate((a, x) => a * x)\n"
   ]
  },
  {
   "attachments": {},
   "cell_type": "markdown",
   "metadata": {
    "dotnet_interactive": {
     "language": "csharp"
    },
    "polyglot_notebook": {
     "kernelName": "csharp"
    }
   },
   "source": [
    "## Part 2"
   ]
  },
  {
   "cell_type": "code",
   "execution_count": 18,
   "metadata": {
    "dotnet_interactive": {
     "language": "csharp"
    },
    "polyglot_notebook": {
     "kernelName": "csharp"
    }
   },
   "outputs": [],
   "source": [
    "public class Item {\n",
    "    public Item(int m, string i){\n",
    "        monkey = m;\n",
    "        worryLevel = new BigInteger(int.Parse(i));\n",
    "    }\n",
    "\n",
    "    public BigInteger worryLevel {get;set;}\n",
    "    public int monkey {get;set;}\n",
    "}\n",
    "\n",
    "static var items = new List<Item>();\n",
    "\n",
    "static long sudoModulo = 0;\n",
    "\n",
    "public class MonkeyV2 {\n",
    "    public MonkeyV2(List<string> initialState){\n",
    "        monkeyNumber = int.Parse(initialState[0].Split(' ').Last().Replace(\":\",\"\"));\n",
    "        items.AddRange(initialState[1].Split(':')[1].Split(',').Select(i => new Item(monkeyNumber,i)));\n",
    "        operation = initialState[2].Split('=')[1].Trim();\n",
    "        divisibleNumber = int.Parse(initialState[3].Split(' ').Last());\n",
    "        throwToMonkeyTrue = int.Parse(initialState[4].Split(' ').Last());\n",
    "        throwToMonkeyFalse = int.Parse(initialState[5].Split(' ').Last());\n",
    "        itemsInspected = 0;\n",
    "    }\n",
    "\n",
    "    public int monkeyNumber {get;set;}\n",
    "    public string operation {get;set;}\n",
    "    public int divisibleNumber {get;set;}\n",
    "    public int throwToMonkeyTrue {get;set;}\n",
    "    public int throwToMonkeyFalse {get;set;}\n",
    "    public long itemsInspected;\n",
    "\n",
    "    public async Task InspectItems(){\n",
    "        var monkeyItems = items.Where(x => x.monkey == monkeyNumber).Select(x => InspectItem(x));\n",
    "        await Task.WhenAll(monkeyItems);       \n",
    "    }\n",
    "\n",
    "    Task InspectItem(Item item){\n",
    "        var op = operation.Split(' ');\n",
    "        var a =  op[0] == \"old\" ? item.worryLevel : new BigInteger(long.Parse(op[0]));\n",
    "        var b =  op[2] == \"old\" ? item.worryLevel : new BigInteger(long.Parse(op[2]));\n",
    "\n",
    "                 \n",
    "        var value = op[1] switch {\n",
    "            \"+\" => a + b,\n",
    "            \"*\" => a * b\n",
    "        };\n",
    "\n",
    "        item.worryLevel = value % sudoModulo;\n",
    "\n",
    "        if(item.worryLevel % divisibleNumber == 0){\n",
    "            item.monkey = throwToMonkeyTrue;\n",
    "        }else{\n",
    "            item.monkey = throwToMonkeyFalse;\n",
    "        }\n",
    "\n",
    "        System.Threading.Interlocked.Increment(ref itemsInspected);            \n",
    "\n",
    "        return Task.CompletedTask;\n",
    "    }\n",
    "}"
   ]
  },
  {
   "cell_type": "code",
   "execution_count": 19,
   "metadata": {
    "dotnet_interactive": {
     "language": "csharp"
    },
    "polyglot_notebook": {
     "kernelName": "csharp"
    }
   },
   "outputs": [
    {
     "data": {
      "text/html": [
       "<table><thead><tr><th><i>index</i></th><th>value</th></tr></thead><tbody><tr><td>0</td><td><div class=\"dni-plaintext\"><pre>115025</pre></div></td></tr><tr><td>1</td><td><div class=\"dni-plaintext\"><pre>93029</pre></div></td></tr><tr><td>2</td><td><div class=\"dni-plaintext\"><pre>114545</pre></div></td></tr><tr><td>3</td><td><div class=\"dni-plaintext\"><pre>114164</pre></div></td></tr><tr><td>4</td><td><div class=\"dni-plaintext\"><pre>8590</pre></div></td></tr><tr><td>5</td><td><div class=\"dni-plaintext\"><pre>30465</pre></div></td></tr><tr><td>6</td><td><div class=\"dni-plaintext\"><pre>122693</pre></div></td></tr><tr><td>7</td><td><div class=\"dni-plaintext\"><pre>122667</pre></div></td></tr></tbody></table><style>\r\n",
       ".dni-code-hint {\r\n",
       "    font-style: italic;\r\n",
       "    overflow: hidden;\r\n",
       "    white-space: nowrap;\r\n",
       "}\r\n",
       ".dni-treeview {\r\n",
       "    white-space: nowrap;\r\n",
       "}\r\n",
       ".dni-treeview td {\r\n",
       "    vertical-align: top;\r\n",
       "    text-align: start;\r\n",
       "}\r\n",
       "details.dni-treeview {\r\n",
       "    padding-left: 1em;\r\n",
       "}\r\n",
       "table td {\r\n",
       "    text-align: start;\r\n",
       "}\r\n",
       "table tr { \r\n",
       "    vertical-align: top; \r\n",
       "    margin: 0em 0px;\r\n",
       "}\r\n",
       "table tr td pre \r\n",
       "{ \r\n",
       "    vertical-align: top !important; \r\n",
       "    margin: 0em 0px !important;\r\n",
       "} \r\n",
       "table th {\r\n",
       "    text-align: start;\r\n",
       "}\r\n",
       "</style>"
      ]
     },
     "metadata": {},
     "output_type": "display_data"
    }
   ],
   "source": [
    "items = new List<Item>();\n",
    "var monkeys = Monkeys(input).Select(m => new MonkeyV2(m)).ToList();\n",
    "\n",
    "sudoModulo = monkeys.Select(x => x.divisibleNumber).Aggregate((a, x) => a * x);\n",
    "\n",
    "for(var i = 0; i < 10000; i++){\n",
    "   // foreach(var group in items.GroupBy(x => x.monkey).OrderBy(x => x.Key)){\n",
    "   //     Console.WriteLine($\"Monkey {group.Key}: {string.Join(',', group.Select(x => x.worryLevel))}\");\n",
    "   // }\n",
    "    foreach(var monkey in monkeys){\n",
    "        await monkey.InspectItems();\n",
    "    }\n",
    "}\n",
    "\n",
    "monkeys.Select(x => x.itemsInspected)\n"
   ]
  },
  {
   "cell_type": "code",
   "execution_count": 20,
   "metadata": {
    "dotnet_interactive": {
     "language": "csharp"
    },
    "polyglot_notebook": {
     "kernelName": "csharp"
    }
   },
   "outputs": [
    {
     "data": {
      "text/html": [
       "<div class=\"dni-plaintext\"><pre>15050382231</pre></div><style>\r\n",
       ".dni-code-hint {\r\n",
       "    font-style: italic;\r\n",
       "    overflow: hidden;\r\n",
       "    white-space: nowrap;\r\n",
       "}\r\n",
       ".dni-treeview {\r\n",
       "    white-space: nowrap;\r\n",
       "}\r\n",
       ".dni-treeview td {\r\n",
       "    vertical-align: top;\r\n",
       "    text-align: start;\r\n",
       "}\r\n",
       "details.dni-treeview {\r\n",
       "    padding-left: 1em;\r\n",
       "}\r\n",
       "table td {\r\n",
       "    text-align: start;\r\n",
       "}\r\n",
       "table tr { \r\n",
       "    vertical-align: top; \r\n",
       "    margin: 0em 0px;\r\n",
       "}\r\n",
       "table tr td pre \r\n",
       "{ \r\n",
       "    vertical-align: top !important; \r\n",
       "    margin: 0em 0px !important;\r\n",
       "} \r\n",
       "table th {\r\n",
       "    text-align: start;\r\n",
       "}\r\n",
       "</style>"
      ]
     },
     "metadata": {},
     "output_type": "display_data"
    }
   ],
   "source": [
    "\n",
    "\n",
    "\n",
    "var top2Monkeys = monkeys.OrderByDescending(x => x.itemsInspected).Take(2);\n",
    "\n",
    "top2Monkeys.Select(x => x.itemsInspected).Aggregate((a, x) => a * x)"
   ]
  }
 ],
 "metadata": {
  "kernelspec": {
   "display_name": ".NET (C#)",
   "language": "C#",
   "name": ".net-csharp"
  },
  "polyglot_notebook": {
   "kernelInfo": {
    "defaultKernelName": "csharp",
    "items": [
     {
      "aliases": [
       "c#",
       "C#"
      ],
      "languageName": "C#",
      "name": "csharp"
     },
     {
      "aliases": [
       "frontend"
      ],
      "name": "vscode"
     },
     {
      "aliases": [],
      "name": ".NET"
     },
     {
      "aliases": [
       "f#",
       "F#"
      ],
      "languageName": "F#",
      "name": "fsharp"
     },
     {
      "aliases": [],
      "languageName": "HTML",
      "name": "html"
     },
     {
      "aliases": [
       "js"
      ],
      "languageName": "JavaScript",
      "name": "javascript"
     },
     {
      "aliases": [],
      "languageName": "KQL",
      "name": "kql"
     },
     {
      "aliases": [],
      "languageName": "Mermaid",
      "name": "mermaid"
     },
     {
      "aliases": [
       "powershell"
      ],
      "languageName": "PowerShell",
      "name": "pwsh"
     },
     {
      "aliases": [],
      "languageName": "SQL",
      "name": "sql"
     },
     {
      "aliases": [],
      "name": "value"
     },
     {
      "aliases": [],
      "name": "webview"
     }
    ]
   }
  }
 },
 "nbformat": 4,
 "nbformat_minor": 2
}
