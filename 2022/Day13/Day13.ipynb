{
 "cells": [
  {
   "cell_type": "code",
   "execution_count": 15,
   "metadata": {},
   "outputs": [],
   "source": [
    "// Parse Input\n",
    "using Newtonsoft.Json;\n",
    "using System.Numerics;\n",
    "\n",
    "/*\n",
    "var input = System.IO.File.ReadAllLines(\"sample-input.txt\");\n",
    "/*/ \n",
    "var input = System.IO.File.ReadAllLines(\"input.txt\");\n",
    "//*/\n"
   ]
  },
  {
   "cell_type": "code",
   "execution_count": 16,
   "metadata": {
    "dotnet_interactive": {
     "language": "csharp"
    },
    "polyglot_notebook": {
     "kernelName": "csharp"
    }
   },
   "outputs": [],
   "source": [
    "static List<object> ParseToObject(string array){\n",
    "    var stackOfObjects = new Stack<List<object>>();\n",
    "    var chars = new List<char>();\n",
    "    foreach(var p in array){\n",
    "        switch(p){\n",
    "            case '[':\n",
    "                stackOfObjects.Push(new ());\n",
    "                break;\n",
    "            case ',':\n",
    "                if(chars.Any()){\n",
    "                    stackOfObjects.Peek().Add(int.Parse(new string(chars.ToArray())));\n",
    "                    chars = new();\n",
    "                }\n",
    "                continue;\n",
    "            case ']':\n",
    "                var popped = stackOfObjects.Pop();\n",
    "\n",
    "                if(chars.Any()){\n",
    "                    popped.Add(int.Parse(new string(chars.ToArray())));\n",
    "                    chars = new();\n",
    "                }\n",
    "\n",
    "                if(stackOfObjects.Any() == false){\n",
    "                    return popped;\n",
    "                }\n",
    "\n",
    "                stackOfObjects.Peek().Add(popped);\n",
    "            break;\n",
    "            default:\n",
    "                chars.Add(p);\n",
    "            break;\n",
    "        }\n",
    "    }\n",
    "\n",
    "    return null;\n",
    "}\n"
   ]
  },
  {
   "attachments": {},
   "cell_type": "markdown",
   "metadata": {
    "dotnet_interactive": {
     "language": "csharp"
    },
    "polyglot_notebook": {
     "kernelName": "csharp"
    }
   },
   "source": [
    "## Part 1"
   ]
  },
  {
   "cell_type": "code",
   "execution_count": null,
   "metadata": {
    "dotnet_interactive": {
     "language": "csharp"
    },
    "polyglot_notebook": {
     "kernelName": "csharp"
    }
   },
   "outputs": [],
   "source": [
    "\n",
    "IEnumerable<List<string>> GetGroups(string[] packets){\n",
    "    var section = new List<string>();\n",
    "\n",
    "    foreach(var line in packets){\n",
    "        if(string.IsNullOrEmpty(line)){\n",
    "            yield return section;\n",
    "            section = new List<string>();\n",
    "            continue;\n",
    "        }\n",
    "        section.Add(line);\n",
    "    }\n",
    "\n",
    "    if(section.Any()) yield return section;\n",
    "}\n",
    "\n",
    "var pairs = GetGroups(input).ToList();"
   ]
  },
  {
   "cell_type": "code",
   "execution_count": null,
   "metadata": {
    "dotnet_interactive": {
     "language": "csharp"
    },
    "polyglot_notebook": {
     "kernelName": "csharp"
    }
   },
   "outputs": [],
   "source": [
    "\n",
    "static bool? Compare(List<object> left, List<object> right){  \n",
    "    for(var i = 0; i < left.Count; i++){\n",
    "        if(i >= right.Count) {\n",
    "            //Console.Write(\"Right out of items, \");\n",
    "            return false;\n",
    "        }\n",
    "        \n",
    "        var leftObj = left[i];\n",
    "        var rightObj = right[i];\n",
    "\n",
    "        //Console.WriteLine($\"Comparing {string.Format(JsonConvert.SerializeObject(leftObj))} vs {JsonConvert.SerializeObject(rightObj)}\");\n",
    "\n",
    "        var innerOrder = (leftObj is List<object>, rightObj is List<object>) switch {\n",
    "            (true, true) => Compare((List<object>)leftObj, (List<object>)rightObj),\n",
    "            (true, false) => Compare((List<object>)leftObj, new List<object>(){rightObj}),\n",
    "            (false, true) => Compare(new List<object>(){leftObj}, (List<object>)rightObj),\n",
    "            (false, false) => CompareInt((int)leftObj, (int)rightObj)\n",
    "        };\n",
    "\n",
    "        if(innerOrder != null) return innerOrder;\n",
    "    }\n",
    "\n",
    "    if(left.Count < right.Count){\n",
    "        //Console.Write(\"Left out of items, \");\n",
    "        return true;\n",
    "    }\n",
    "\n",
    "    return null;\n",
    "}\n",
    "\n",
    "static bool? CompareInt(int left, int right){\n",
    "    if(left == right) return null;\n",
    "\n",
    "    if(left < right){    \n",
    "        //Console.Write(\"Left is smaller, \");\n",
    "        return true;\n",
    "    }else{\n",
    "        //Console.Write(\"Right is smaller, \");\n",
    "        return false;\n",
    "    }\n",
    "}"
   ]
  },
  {
   "cell_type": "code",
   "execution_count": null,
   "metadata": {
    "dotnet_interactive": {
     "language": "csharp"
    },
    "polyglot_notebook": {
     "kernelName": "csharp"
    }
   },
   "outputs": [],
   "source": [
    "var orderedPairs = new List<int>();\n",
    "\n",
    "for(var i = 0; i < pairs.Count; i++){\n",
    "    var pair = pairs[i];\n",
    "    var left = ParseToObject(pair[0]);\n",
    "    var right = ParseToObject(pair[1]);\n",
    "\n",
    "    //Console.WriteLine(JsonConvert.SerializeObject(new{left,right}));\n",
    "\n",
    "    var result = Compare(left,right);\n",
    "    if(result ?? false) orderedPairs.Add(i+1);\n",
    "    //Console.WriteLine($\"Pair {i+1} is {(result ?? false ? \"right order\" : \"not ordered\" )}\");\n",
    "}\n",
    "\n",
    "orderedPairs"
   ]
  },
  {
   "attachments": {},
   "cell_type": "markdown",
   "metadata": {
    "dotnet_interactive": {
     "language": "csharp"
    },
    "polyglot_notebook": {
     "kernelName": "csharp"
    }
   },
   "source": [
    "5507 - too high\n",
    "5149 - too high"
   ]
  },
  {
   "cell_type": "code",
   "execution_count": null,
   "metadata": {
    "dotnet_interactive": {
     "language": "csharp"
    },
    "polyglot_notebook": {
     "kernelName": "csharp"
    }
   },
   "outputs": [],
   "source": [
    "orderedPairs.Sum()"
   ]
  },
  {
   "cell_type": "markdown",
   "metadata": {
    "dotnet_interactive": {
     "language": "csharp"
    },
    "polyglot_notebook": {
     "kernelName": "csharp"
    }
   },
   "source": [
    "## Part 2"
   ]
  },
  {
   "cell_type": "code",
   "execution_count": 17,
   "metadata": {
    "dotnet_interactive": {
     "language": "csharp"
    },
    "polyglot_notebook": {
     "kernelName": "csharp"
    }
   },
   "outputs": [],
   "source": [
    "public class PacketComparer : IComparer {\n",
    "    int IComparer.Compare(Object x, Object y){\n",
    "        var left = x as List<object>;\n",
    "        var right = y as List<object>;\n",
    "\n",
    "        for(var i = 0; i < left.Count; i++){\n",
    "            if(i >= right.Count) {\n",
    "                return 1;\n",
    "            }\n",
    "            \n",
    "            var leftObj = left[i];\n",
    "            var rightObj = right[i];\n",
    "\n",
    "            var innerOrder = (leftObj is List<object>, rightObj is List<object>) switch {\n",
    "                (true, true) => (new PacketComparer() as IComparer).Compare(leftObj, rightObj),\n",
    "                (true, false) => (new PacketComparer() as IComparer).Compare(leftObj, new List<object>(){rightObj}),\n",
    "                (false, true) => (new PacketComparer() as IComparer).Compare(new List<object>(){leftObj}, rightObj),\n",
    "                (false, false) => (int)leftObj - (int)rightObj\n",
    "            };\n",
    "\n",
    "            if(innerOrder != 0) return innerOrder;\n",
    "        }\n",
    "\n",
    "        if(left.Count < right.Count){\n",
    "            return -1;\n",
    "        }\n",
    "\n",
    "        return 0;    \n",
    "    }\n",
    "}"
   ]
  },
  {
   "cell_type": "code",
   "execution_count": 18,
   "metadata": {
    "dotnet_interactive": {
     "language": "csharp"
    },
    "polyglot_notebook": {
     "kernelName": "csharp"
    }
   },
   "outputs": [],
   "source": [
    "var dividers = new[]{\"[[2]]\", \"[[6]]\"};\n",
    "var packets = input\n",
    "    .Where(x => string.IsNullOrEmpty(x) == false)\n",
    "    .Union(dividers)\n",
    "    .Select(x => ParseToObject(x))\n",
    "    .ToArray();\n",
    "Array.Sort(packets, new PacketComparer());"
   ]
  },
  {
   "cell_type": "code",
   "execution_count": 19,
   "metadata": {
    "dotnet_interactive": {
     "language": "csharp"
    },
    "polyglot_notebook": {
     "kernelName": "csharp"
    }
   },
   "outputs": [
    {
     "data": {
      "text/html": [
       "<div class=\"dni-plaintext\"><pre>25038</pre></div><style>\r\n",
       ".dni-code-hint {\r\n",
       "    font-style: italic;\r\n",
       "    overflow: hidden;\r\n",
       "    white-space: nowrap;\r\n",
       "}\r\n",
       ".dni-treeview {\r\n",
       "    white-space: nowrap;\r\n",
       "}\r\n",
       ".dni-treeview td {\r\n",
       "    vertical-align: top;\r\n",
       "    text-align: start;\r\n",
       "}\r\n",
       "details.dni-treeview {\r\n",
       "    padding-left: 1em;\r\n",
       "}\r\n",
       "table td {\r\n",
       "    text-align: start;\r\n",
       "}\r\n",
       "table tr { \r\n",
       "    vertical-align: top; \r\n",
       "    margin: 0em 0px;\r\n",
       "}\r\n",
       "table tr td pre \r\n",
       "{ \r\n",
       "    vertical-align: top !important; \r\n",
       "    margin: 0em 0px !important;\r\n",
       "} \r\n",
       "table th {\r\n",
       "    text-align: start;\r\n",
       "}\r\n",
       "</style>"
      ]
     },
     "metadata": {},
     "output_type": "display_data"
    }
   ],
   "source": [
    "var dividerPositions = new List<int>();\n",
    "\n",
    "for(var i = 0; i < packets.Count(); i++){\n",
    "    var packetsAsString = JsonConvert.SerializeObject(packets[i]);\n",
    "    //Console.WriteLine(packetsAsString);\n",
    "    if(dividers.Contains(packetsAsString)){\n",
    "        dividerPositions.Add(i+1);\n",
    "    }\n",
    "}\n",
    "\n",
    "dividerPositions.Aggregate((x,y) => x * y)"
   ]
  }
 ],
 "metadata": {
  "kernelspec": {
   "display_name": ".NET (C#)",
   "language": "C#",
   "name": ".net-csharp"
  },
  "polyglot_notebook": {
   "kernelInfo": {
    "defaultKernelName": "csharp",
    "items": [
     {
      "aliases": [],
      "name": "csharp"
     }
    ]
   }
  }
 },
 "nbformat": 4,
 "nbformat_minor": 2
}
