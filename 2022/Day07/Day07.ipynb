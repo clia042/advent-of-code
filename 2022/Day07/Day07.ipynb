{
 "cells": [
  {
   "attachments": {},
   "cell_type": "markdown",
   "metadata": {},
   "source": [
    "# Advent of code - day 7\n",
    "## Problem\n",
    "Simple directories"
   ]
  },
  {
   "cell_type": "code",
   "execution_count": null,
   "metadata": {
    "dotnet_interactive": {
     "language": "csharp"
    },
    "polyglot_notebook": {
     "kernelName": "csharp"
    },
    "vscode": {
     "languageId": "polyglot-notebook"
    }
   },
   "outputs": [],
   "source": [
    "// See https://aka.ms/new-console-template for more information\n",
    "\n",
    "using System.Collections;\n",
    "using System.Runtime.InteropServices.ComTypes;\n",
    "\n",
    "var input = System.IO.File.ReadAllLines(\"input.txt\");"
   ]
  },
  {
   "cell_type": "code",
   "execution_count": null,
   "metadata": {
    "dotnet_interactive": {
     "language": "csharp"
    },
    "polyglot_notebook": {
     "kernelName": "csharp"
    },
    "vscode": {
     "languageId": "polyglot-notebook"
    }
   },
   "outputs": [],
   "source": [
    "var result = new MyDirectory(\"\\\\\", null);\n",
    "\n",
    "var currentDir  = result;\n",
    "\n",
    "foreach (var line in input.Skip(1))\n",
    "{\n",
    "    var split = line.Split(' ');\n",
    "    switch (split[0])\n",
    "    {\n",
    "        case \"$\":\n",
    "            if (split[1] == \"cd\")\n",
    "            {\n",
    "                if (split[2] == \"..\")\n",
    "                {\n",
    "                    currentDir = currentDir.Parent;\n",
    "                    continue;\n",
    "                }\n",
    "                \n",
    "                currentDir = currentDir.Items\n",
    "                    .Single(x => x.Name == split[2] \n",
    "                                 && x is MyDirectory) as MyDirectory;\n",
    "            }\n",
    "        break;\n",
    "        case \"dir\":\n",
    "            var newDir = new MyDirectory(split[1], currentDir);\n",
    "            currentDir.Items.Add(newDir);\n",
    "            break;\n",
    "        default:\n",
    "            var newFile = new MyFile(split[1], long.Parse(split[0]));\n",
    "            currentDir.Items.Add(newFile);\n",
    "            break;\n",
    "    }\n",
    "}\n",
    "\n",
    "var totals = new List<long>();\n",
    "\n",
    "getAllDirectorySizes(result);\n",
    "\n",
    "var unusedSpace = 70000000 - result.GetSize();\n",
    "\n",
    "var total = totals.OrderBy(x => x).SkipWhile(x => x + unusedSpace < 30000000).First();\n",
    "\n",
    "Console.Read();\n",
    "\n",
    "void getAllDirectorySizes(MyDirectory directory)\n",
    "{\n",
    "    totals.Add(directory.GetSize());\n",
    "    foreach (var dir in directory.Items.Where(x => x is MyDirectory))\n",
    "    {\n",
    "        getAllDirectorySizes((MyDirectory)dir);\n",
    "    }\n",
    "}\n",
    "\n",
    "void GetSmallDirectories(MyDirectory directory)\n",
    "{\n",
    "    long totalSize = 0;\n",
    "    foreach (var dir in directory.Items.Where(x => x is MyDirectory))\n",
    "    {\n",
    "        var dirSize = ((MyDirectory)dir).GetSize();\n",
    "        if (dirSize < 100000)\n",
    "        {\n",
    "            totalSize += dirSize;\n",
    "        }\n",
    "\n",
    "        if ((dir as MyDirectory).Items.Any(x => x is MyDirectory))\n",
    "        {\n",
    "            GetSmallDirectories((MyDirectory)dir);\n",
    "        }\n",
    "    }\n",
    "    totals.Add(totalSize);\n",
    "}\n",
    "\n",
    "public abstract class MyItem\n",
    "{\n",
    "    public string Name { get; set; }\n",
    "}\n",
    "\n",
    "public class MyDirectory : MyItem\n",
    "{\n",
    "    public MyDirectory(string n, MyDirectory p)\n",
    "    {\n",
    "        Name = n;\n",
    "        Parent = p;\n",
    "        Items = new List<MyItem>();\n",
    "    }\n",
    "    public MyDirectory Parent { get; set; }\n",
    "    public List<MyItem> Items { get; set; }\n",
    "\n",
    "    public long GetSize()\n",
    "    {\n",
    "        var files = Items.Where(x => x is MyFile).Sum(x => (x as MyFile).Size);\n",
    "        var directories = Items.Where(x => x is MyDirectory).Sum(x => (x as MyDirectory).GetSize());\n",
    "\n",
    "        return files + directories;\n",
    "    }\n",
    "}\n",
    "\n",
    "public class MyFile : MyItem\n",
    "{\n",
    "    public MyFile(string n, long s)\n",
    "    {\n",
    "        Name = n;\n",
    "        Size = s;\n",
    "    }\n",
    "    public long Size { get; set; }\n",
    "}"
   ]
  }
 ],
 "metadata": {
  "kernelspec": {
   "display_name": ".NET (C#)",
   "language": "C#",
   "name": ".net-csharp"
  },
  "polyglot_notebook": {
   "kernelInfo": {
    "defaultKernelName": "csharp",
    "items": [
     {
      "aliases": [],
      "languageName": "csharp",
      "name": "csharp"
     },
     {
      "aliases": [
       "frontend"
      ],
      "languageName": null,
      "name": "vscode"
     },
     {
      "aliases": [],
      "languageName": null,
      "name": ".NET"
     }
    ]
   }
  }
 },
 "nbformat": 4,
 "nbformat_minor": 2
}
