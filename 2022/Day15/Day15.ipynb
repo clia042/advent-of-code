{
 "cells": [
  {
   "cell_type": "code",
   "execution_count": 17,
   "metadata": {},
   "outputs": [
    {
     "data": {
      "text/html": [
       "<table><thead><tr><th><i>key</i></th><th><i>type</i></th><th>X</th><th>Y</th><th>Examined</th></tr></thead><tbody><tr><td><table><thead><tr><th>Item1</th><th>Item2</th></tr></thead><tbody><tr><td><div class=\"dni-plaintext\"><pre>2</pre></div></td><td><div class=\"dni-plaintext\"><pre>18</pre></div></td></tr></tbody></table></td><td>Submission#9+Sensor</td><td><div class=\"dni-plaintext\"><pre>2</pre></div></td><td><div class=\"dni-plaintext\"><pre>18</pre></div></td><td><div class=\"dni-plaintext\"><pre>False</pre></div></td></tr><tr><td><table><thead><tr><th>Item1</th><th>Item2</th></tr></thead><tbody><tr><td><div class=\"dni-plaintext\"><pre>-2</pre></div></td><td><div class=\"dni-plaintext\"><pre>15</pre></div></td></tr></tbody></table></td><td>Submission#9+Beacon</td><td><div class=\"dni-plaintext\"><pre>-2</pre></div></td><td><div class=\"dni-plaintext\"><pre>15</pre></div></td><td><div class=\"dni-plaintext\"><pre>False</pre></div></td></tr><tr><td><table><thead><tr><th>Item1</th><th>Item2</th></tr></thead><tbody><tr><td><div class=\"dni-plaintext\"><pre>9</pre></div></td><td><div class=\"dni-plaintext\"><pre>16</pre></div></td></tr></tbody></table></td><td>Submission#9+Sensor</td><td><div class=\"dni-plaintext\"><pre>9</pre></div></td><td><div class=\"dni-plaintext\"><pre>16</pre></div></td><td><div class=\"dni-plaintext\"><pre>False</pre></div></td></tr><tr><td><table><thead><tr><th>Item1</th><th>Item2</th></tr></thead><tbody><tr><td><div class=\"dni-plaintext\"><pre>10</pre></div></td><td><div class=\"dni-plaintext\"><pre>16</pre></div></td></tr></tbody></table></td><td>Submission#9+Beacon</td><td><div class=\"dni-plaintext\"><pre>10</pre></div></td><td><div class=\"dni-plaintext\"><pre>16</pre></div></td><td><div class=\"dni-plaintext\"><pre>False</pre></div></td></tr><tr><td><table><thead><tr><th>Item1</th><th>Item2</th></tr></thead><tbody><tr><td><div class=\"dni-plaintext\"><pre>13</pre></div></td><td><div class=\"dni-plaintext\"><pre>2</pre></div></td></tr></tbody></table></td><td>Submission#9+Sensor</td><td><div class=\"dni-plaintext\"><pre>13</pre></div></td><td><div class=\"dni-plaintext\"><pre>2</pre></div></td><td><div class=\"dni-plaintext\"><pre>False</pre></div></td></tr><tr><td><table><thead><tr><th>Item1</th><th>Item2</th></tr></thead><tbody><tr><td><div class=\"dni-plaintext\"><pre>15</pre></div></td><td><div class=\"dni-plaintext\"><pre>3</pre></div></td></tr></tbody></table></td><td>Submission#9+Beacon</td><td><div class=\"dni-plaintext\"><pre>15</pre></div></td><td><div class=\"dni-plaintext\"><pre>3</pre></div></td><td><div class=\"dni-plaintext\"><pre>False</pre></div></td></tr><tr><td><table><thead><tr><th>Item1</th><th>Item2</th></tr></thead><tbody><tr><td><div class=\"dni-plaintext\"><pre>12</pre></div></td><td><div class=\"dni-plaintext\"><pre>14</pre></div></td></tr></tbody></table></td><td>Submission#9+Sensor</td><td><div class=\"dni-plaintext\"><pre>12</pre></div></td><td><div class=\"dni-plaintext\"><pre>14</pre></div></td><td><div class=\"dni-plaintext\"><pre>False</pre></div></td></tr><tr><td><table><thead><tr><th>Item1</th><th>Item2</th></tr></thead><tbody><tr><td><div class=\"dni-plaintext\"><pre>10</pre></div></td><td><div class=\"dni-plaintext\"><pre>20</pre></div></td></tr></tbody></table></td><td>Submission#9+Sensor</td><td><div class=\"dni-plaintext\"><pre>10</pre></div></td><td><div class=\"dni-plaintext\"><pre>20</pre></div></td><td><div class=\"dni-plaintext\"><pre>False</pre></div></td></tr><tr><td><table><thead><tr><th>Item1</th><th>Item2</th></tr></thead><tbody><tr><td><div class=\"dni-plaintext\"><pre>14</pre></div></td><td><div class=\"dni-plaintext\"><pre>17</pre></div></td></tr></tbody></table></td><td>Submission#9+Sensor</td><td><div class=\"dni-plaintext\"><pre>14</pre></div></td><td><div class=\"dni-plaintext\"><pre>17</pre></div></td><td><div class=\"dni-plaintext\"><pre>False</pre></div></td></tr><tr><td><table><thead><tr><th>Item1</th><th>Item2</th></tr></thead><tbody><tr><td><div class=\"dni-plaintext\"><pre>8</pre></div></td><td><div class=\"dni-plaintext\"><pre>7</pre></div></td></tr></tbody></table></td><td>Submission#9+Sensor</td><td><div class=\"dni-plaintext\"><pre>8</pre></div></td><td><div class=\"dni-plaintext\"><pre>7</pre></div></td><td><div class=\"dni-plaintext\"><pre>False</pre></div></td></tr><tr><td><table><thead><tr><th>Item1</th><th>Item2</th></tr></thead><tbody><tr><td><div class=\"dni-plaintext\"><pre>2</pre></div></td><td><div class=\"dni-plaintext\"><pre>10</pre></div></td></tr></tbody></table></td><td>Submission#9+Beacon</td><td><div class=\"dni-plaintext\"><pre>2</pre></div></td><td><div class=\"dni-plaintext\"><pre>10</pre></div></td><td><div class=\"dni-plaintext\"><pre>False</pre></div></td></tr><tr><td><table><thead><tr><th>Item1</th><th>Item2</th></tr></thead><tbody><tr><td><div class=\"dni-plaintext\"><pre>2</pre></div></td><td><div class=\"dni-plaintext\"><pre>0</pre></div></td></tr></tbody></table></td><td>Submission#9+Sensor</td><td><div class=\"dni-plaintext\"><pre>2</pre></div></td><td><div class=\"dni-plaintext\"><pre>0</pre></div></td><td><div class=\"dni-plaintext\"><pre>False</pre></div></td></tr><tr><td><table><thead><tr><th>Item1</th><th>Item2</th></tr></thead><tbody><tr><td><div class=\"dni-plaintext\"><pre>0</pre></div></td><td><div class=\"dni-plaintext\"><pre>11</pre></div></td></tr></tbody></table></td><td>Submission#9+Sensor</td><td><div class=\"dni-plaintext\"><pre>0</pre></div></td><td><div class=\"dni-plaintext\"><pre>11</pre></div></td><td><div class=\"dni-plaintext\"><pre>False</pre></div></td></tr><tr><td><table><thead><tr><th>Item1</th><th>Item2</th></tr></thead><tbody><tr><td><div class=\"dni-plaintext\"><pre>20</pre></div></td><td><div class=\"dni-plaintext\"><pre>14</pre></div></td></tr></tbody></table></td><td>Submission#9+Sensor</td><td><div class=\"dni-plaintext\"><pre>20</pre></div></td><td><div class=\"dni-plaintext\"><pre>14</pre></div></td><td><div class=\"dni-plaintext\"><pre>False</pre></div></td></tr><tr><td><table><thead><tr><th>Item1</th><th>Item2</th></tr></thead><tbody><tr><td><div class=\"dni-plaintext\"><pre>25</pre></div></td><td><div class=\"dni-plaintext\"><pre>17</pre></div></td></tr></tbody></table></td><td>Submission#9+Beacon</td><td><div class=\"dni-plaintext\"><pre>25</pre></div></td><td><div class=\"dni-plaintext\"><pre>17</pre></div></td><td><div class=\"dni-plaintext\"><pre>False</pre></div></td></tr><tr><td><table><thead><tr><th>Item1</th><th>Item2</th></tr></thead><tbody><tr><td><div class=\"dni-plaintext\"><pre>17</pre></div></td><td><div class=\"dni-plaintext\"><pre>20</pre></div></td></tr></tbody></table></td><td>Submission#9+Sensor</td><td><div class=\"dni-plaintext\"><pre>17</pre></div></td><td><div class=\"dni-plaintext\"><pre>20</pre></div></td><td><div class=\"dni-plaintext\"><pre>False</pre></div></td></tr><tr><td><table><thead><tr><th>Item1</th><th>Item2</th></tr></thead><tbody><tr><td><div class=\"dni-plaintext\"><pre>21</pre></div></td><td><div class=\"dni-plaintext\"><pre>22</pre></div></td></tr></tbody></table></td><td>Submission#9+Beacon</td><td><div class=\"dni-plaintext\"><pre>21</pre></div></td><td><div class=\"dni-plaintext\"><pre>22</pre></div></td><td><div class=\"dni-plaintext\"><pre>False</pre></div></td></tr><tr><td><table><thead><tr><th>Item1</th><th>Item2</th></tr></thead><tbody><tr><td><div class=\"dni-plaintext\"><pre>16</pre></div></td><td><div class=\"dni-plaintext\"><pre>7</pre></div></td></tr></tbody></table></td><td>Submission#9+Sensor</td><td><div class=\"dni-plaintext\"><pre>16</pre></div></td><td><div class=\"dni-plaintext\"><pre>7</pre></div></td><td><div class=\"dni-plaintext\"><pre>False</pre></div></td></tr><tr><td><table><thead><tr><th>Item1</th><th>Item2</th></tr></thead><tbody><tr><td><div class=\"dni-plaintext\"><pre>14</pre></div></td><td><div class=\"dni-plaintext\"><pre>3</pre></div></td></tr></tbody></table></td><td>Submission#9+Sensor</td><td><div class=\"dni-plaintext\"><pre>14</pre></div></td><td><div class=\"dni-plaintext\"><pre>3</pre></div></td><td><div class=\"dni-plaintext\"><pre>False</pre></div></td></tr><tr><td><table><thead><tr><th>Item1</th><th>Item2</th></tr></thead><tbody><tr><td><div class=\"dni-plaintext\"><pre>20</pre></div></td><td><div class=\"dni-plaintext\"><pre>1</pre></div></td></tr></tbody></table></td><td>Submission#9+Sensor</td><td><div class=\"dni-plaintext\"><pre>20</pre></div></td><td><div class=\"dni-plaintext\"><pre>1</pre></div></td><td><div class=\"dni-plaintext\"><pre>False</pre></div></td></tr></tbody></table><style>\r\n",
       ".dni-code-hint {\r\n",
       "    font-style: italic;\r\n",
       "    overflow: hidden;\r\n",
       "    white-space: nowrap;\r\n",
       "}\r\n",
       ".dni-treeview {\r\n",
       "    white-space: nowrap;\r\n",
       "}\r\n",
       ".dni-treeview td {\r\n",
       "    vertical-align: top;\r\n",
       "    text-align: start;\r\n",
       "}\r\n",
       "details.dni-treeview {\r\n",
       "    padding-left: 1em;\r\n",
       "}\r\n",
       "table td {\r\n",
       "    text-align: start;\r\n",
       "}\r\n",
       "table tr { \r\n",
       "    vertical-align: top; \r\n",
       "    margin: 0em 0px;\r\n",
       "}\r\n",
       "table tr td pre \r\n",
       "{ \r\n",
       "    vertical-align: top !important; \r\n",
       "    margin: 0em 0px !important;\r\n",
       "} \r\n",
       "table th {\r\n",
       "    text-align: start;\r\n",
       "}\r\n",
       "</style>"
      ]
     },
     "metadata": {},
     "output_type": "display_data"
    }
   ],
   "source": [
    "// Parse Input\n",
    "using Newtonsoft.Json;\n",
    "using System.Numerics;\n",
    "\n",
    "//*\n",
    "var input = System.IO.File.ReadAllLines(\"sample-input.txt\");\n",
    "/*/ \n",
    "var input = System.IO.File.ReadAllLines(\"input.txt\");\n",
    "//*/\n",
    "\n",
    "var _array = new Dictionary<Tuple<int,int>,Point>();\n",
    "\n",
    "foreach(var line in input){\n",
    "    var sb = line.Split(\": \");\n",
    "    var s = ExtractPoint<Sensor>(sb[0]);\n",
    "    var b = ExtractPoint<Beacon>(sb[1]);\n",
    "\n",
    "    _array[Tuple.Create(s.X, s.Y)] = s;\n",
    "    _array[Tuple.Create(b.X, b.Y)] = b;\n",
    "}\n",
    "\n",
    "_array"
   ]
  },
  {
   "cell_type": "code",
   "execution_count": 18,
   "metadata": {
    "dotnet_interactive": {
     "language": "csharp"
    },
    "polyglot_notebook": {
     "kernelName": "csharp"
    }
   },
   "outputs": [
    {
     "ename": "Error",
     "evalue": "(39,12): error CS1503: Argument 1: cannot convert from 'System.Collections.Generic.Dictionary<System.Tuple<int, int>, Point>' to 'System.Collections.Generic.Dictionary<System.Tuple<int, int>, Point>'",
     "output_type": "error",
     "traceback": [
      "(39,12): error CS1503: Argument 1: cannot convert from 'System.Collections.Generic.Dictionary<System.Tuple<int, int>, Point>' to 'System.Collections.Generic.Dictionary<System.Tuple<int, int>, Point>'"
     ]
    }
   ],
   "source": [
    "public class Point{\n",
    "    public int X {get;set;}\n",
    "    public int Y {get;set;}\n",
    "\n",
    "    public bool Examined{get;set;}\n",
    "}\n",
    "\n",
    "public class Sensor : Point{\n",
    "    public Sensor(){ }\n",
    "}\n",
    "public class Beacon : Point{\n",
    "    public Beacon(){ }\n",
    "}\n",
    "\n",
    "public T ExtractPoint<T>(string input) where T : Point, new()\n",
    "{\n",
    "    var point = input\n",
    "        .Replace(\"Sensor at \",\"\")\n",
    "        .Replace(\"closest beacon is at \", \"\")\n",
    "        .Split(',')\n",
    "        .Select(x => x.Split(\"=\").Last());\n",
    "        \n",
    "    return new T\n",
    "    { \n",
    "        X = int.Parse(point.First()),\n",
    "        Y =  int.Parse(point.Last())\n",
    "    };\n",
    "}\n",
    "\n",
    "public static void PrintArray(Dictionary<Tuple<int,int>,Point> array){\n",
    "    var x1 = array.Keys.MinBy(x => x.Item1);\n",
    "    var x2 = array.Keys.MaxBy(x => x.Item1);\n",
    "    var y1 = array.Keys.MinBy(y => y.Item2);\n",
    "    var y2 = array.Keys.MaxBy(y => y.Item2);\n",
    "\n",
    "    Console.WriteLine(JsonConvert.SerializeObject(new{x1,x2,y1,y2}));\n",
    "}\n",
    "\n",
    "PrintArray(_array);"
   ]
  }
 ],
 "metadata": {
  "kernelspec": {
   "display_name": ".NET (C#)",
   "language": "C#",
   "name": ".net-csharp"
  },
  "polyglot_notebook": {
   "kernelInfo": {
    "defaultKernelName": "csharp",
    "items": [
     {
      "aliases": [],
      "name": "csharp"
     },
     {
      "aliases": [
       "frontend"
      ],
      "languageName": null,
      "name": "vscode"
     }
    ]
   }
  }
 },
 "nbformat": 4,
 "nbformat_minor": 2
}
