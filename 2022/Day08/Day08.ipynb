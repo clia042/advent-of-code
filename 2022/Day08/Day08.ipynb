{
 "cells": [
  {
   "cell_type": "code",
   "execution_count": null,
   "metadata": {
    "dotnet_interactive": {
     "language": "csharp"
    }
   },
   "outputs": [],
   "source": [
    "using Newtonsoft.Json;\n",
    "\n",
    "/*\n",
    "var input = System.IO.File.ReadAllLines(\"sample-input.txt\");\n",
    "/*/ \n",
    "var input = System.IO.File.ReadAllLines(\"input.txt\");\n",
    "//*/\n",
    "\n",
    "input"
   ]
  },
  {
   "cell_type": "code",
   "execution_count": null,
   "metadata": {
    "dotnet_interactive": {
     "language": "csharp"
    }
   },
   "outputs": [],
   "source": [
    "public class tree{\n",
    "    public tree(int s){\n",
    "        size = s;\n",
    "        isSeen = false;\n",
    "    }\n",
    "    public bool isSeen {get;set;}\n",
    "    public int size {get;set;}\n",
    "    public int visibleTrees {get;set;}\n",
    "}\n",
    "\n",
    "public T[] GetColumn<T>(T[,] matrix, int columnNumber){\n",
    "    return Enumerable.Range(0, matrix.GetLength(0))\n",
    "            .Select(x => matrix[x, columnNumber])\n",
    "            .ToArray();\n",
    "}\n",
    "\n",
    "public T[] GetRow<T>(T[,] matrix, int rowNumber){\n",
    "    return Enumerable.Range(0, matrix.GetLength(1))\n",
    "            .Select(x => matrix[rowNumber, x])\n",
    "            .ToArray();\n",
    "}"
   ]
  },
  {
   "cell_type": "code",
   "execution_count": null,
   "metadata": {
    "dotnet_interactive": {
     "language": "csharp"
    }
   },
   "outputs": [],
   "source": [
    "var forest = new tree[input.Count(),input.First().Length];\n",
    "\n",
    "for(var y = 0; y < input.Count(); y++){\n",
    "    var line = input[y];\n",
    "    for(var x = 0; x < line.Length; x++){\n",
    "        var t = line[x];\n",
    "\n",
    "        forest[y,x] = new tree(int.Parse($\"{t}\"));\n",
    "    }\n",
    "}"
   ]
  },
  {
   "cell_type": "code",
   "execution_count": null,
   "metadata": {
    "dotnet_interactive": {
     "language": "csharp"
    }
   },
   "outputs": [],
   "source": [
    "var seenTrees = 0;\n",
    "\n",
    "for(var c = 0; c < forest.GetLength(0); c++){\n",
    "    var height = -1;\n",
    "    foreach(var tree in GetRow(forest,c)){\n",
    "        if(height < tree.size){\n",
    "            if(tree.isSeen == false) seenTrees++;\n",
    "            tree.isSeen = true;\n",
    "            height = tree.size;\n",
    "        }\n",
    "    }\n",
    "    height = -1;\n",
    "    foreach(var tree in GetRow(forest,c).Reverse()){\n",
    "        if(height < tree.size){\n",
    "            if(tree.isSeen == false) seenTrees++;\n",
    "            tree.isSeen = true;\n",
    "            height = tree.size;\n",
    "        }\n",
    "    }\n",
    "}\n",
    "\n",
    "for(var r = 0; r < forest.GetLength(1); r++){\n",
    "    var height = -1;\n",
    "    foreach(var tree in GetColumn(forest,r)){\n",
    "        if(height < tree.size){\n",
    "            if(tree.isSeen == false) seenTrees++;\n",
    "            tree.isSeen = true;\n",
    "            height = tree.size;\n",
    "        }\n",
    "    }\n",
    "    height = -1;\n",
    "    foreach(var tree in GetColumn(forest,r).Reverse()){\n",
    "        if(height < tree.size){\n",
    "            if(tree.isSeen == false) seenTrees++;\n",
    "            tree.isSeen = true;\n",
    "            height = tree.size;\n",
    "        }\n",
    "    }\n",
    "}\n",
    "\n",
    "seenTrees"
   ]
  },
  {
   "cell_type": "code",
   "execution_count": null,
   "metadata": {
    "dotnet_interactive": {
     "language": "csharp"
    }
   },
   "outputs": [],
   "source": [
    "public int CountTrees(int size, IEnumerable<tree> trees){\n",
    "    var seen = 0;\n",
    "    foreach(var tree in trees){\n",
    "        if(tree.size >= size){\n",
    "            return seen + 1;\n",
    "        }\n",
    "        seen++;\n",
    "    }\n",
    "    return seen;\n",
    "}\n",
    "/*\n",
    "var c = 3;\n",
    "var r = 2;\n",
    "\n",
    "var row = GetRow(forest,c);\n",
    "var tree = forest[c,r];\n",
    "var column = GetColumn(forest,r);\n",
    "var left = CountTrees(tree.size, row.Take(r).Reverse()); //Look left\n",
    "var right = CountTrees(tree.size, row.Skip(r + 1)); //Look right\n",
    "var up = CountTrees(tree.size, column.Take(c).Reverse()); //Look up\n",
    "var down = CountTrees(tree.size, column.Skip(c + 1)); //Look up\n",
    "tree.visibleTrees = left * right * up * down;\n",
    "Console.WriteLine(JsonConvert.SerializeObject(new { left,right,up,down,tree }));*/"
   ]
  },
  {
   "cell_type": "code",
   "execution_count": null,
   "metadata": {
    "dotnet_interactive": {
     "language": "csharp"
    }
   },
   "outputs": [],
   "source": [
    "var maxScore = 0;\n",
    "for(var c = 0; c < forest.GetLength(0); c++){\n",
    "    var row = GetRow(forest,c);\n",
    "    for(var r = 0; r < row.Length; r++){\n",
    "        var tree = forest[c,r];\n",
    "        var column = GetColumn(forest,r);\n",
    "        var left = CountTrees(tree.size, row.Take(r).Reverse()); //Look left\n",
    "        var right = CountTrees(tree.size, row.Skip(r + 1)); //Look right\n",
    "        var up = CountTrees(tree.size, column.Take(c).Reverse()); //Look up\n",
    "        var down = CountTrees(tree.size, column.Skip(c + 1)); //Look up\n",
    "        tree.visibleTrees = left * right * up * down;\n",
    "        //Console.WriteLine(JsonConvert.SerializeObject(new { left,right,up,down,tree }));\n",
    "        if(tree.visibleTrees > maxScore) maxScore = tree.visibleTrees;\n",
    "    }\n",
    "}\n",
    "\n",
    "maxScore"
   ]
  }
 ],
 "metadata": {
  "kernelspec": {
   "display_name": ".NET (C#)",
   "language": "C#",
   "name": ".net-csharp"
  },
  "polyglot_notebook": {
   "kernelInfo": {
    "defaultKernelName": "csharp",
    "items": [
     {
      "aliases": [
       "c#",
       "C#"
      ],
      "languageName": "C#",
      "name": "csharp"
     },
     {
      "aliases": [],
      "name": ".NET"
     },
     {
      "aliases": [
       "f#",
       "F#"
      ],
      "languageName": "F#",
      "name": "fsharp"
     },
     {
      "aliases": [],
      "languageName": "HTML",
      "name": "html"
     },
     {
      "aliases": [
       "js"
      ],
      "languageName": "JavaScript",
      "name": "javascript"
     },
     {
      "aliases": [],
      "languageName": "KQL",
      "name": "kql"
     },
     {
      "aliases": [],
      "languageName": "Mermaid",
      "name": "mermaid"
     },
     {
      "aliases": [
       "powershell"
      ],
      "languageName": "PowerShell",
      "name": "pwsh"
     },
     {
      "aliases": [],
      "languageName": "SQL",
      "name": "sql"
     },
     {
      "aliases": [],
      "name": "value"
     },
     {
      "aliases": [
       "frontend"
      ],
      "name": "vscode"
     },
     {
      "aliases": [],
      "name": "webview"
     }
    ]
   }
  }
 },
 "nbformat": 4,
 "nbformat_minor": 2
}
