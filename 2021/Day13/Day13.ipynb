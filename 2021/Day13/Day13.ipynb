{
 "cells": [
  {
   "cell_type": "code",
   "execution_count": null,
   "metadata": {
    "dotnet_interactive": {
     "language": "csharp"
    }
   },
   "outputs": [],
   "source": [
    "using Newtonsoft.Json;\n",
    "var origamiInput = System.IO.File.ReadAllLines(\"input.txt\");"
   ]
  },
  {
   "cell_type": "code",
   "execution_count": null,
   "metadata": {
    "dotnet_interactive": {
     "language": "csharp"
    }
   },
   "outputs": [
    {
     "data": {
      "text/html": [
       "<table><thead><tr><th><i>index</i></th><th>fold</th><th>position</th></tr></thead><tbody><tr><td>0</td><td><span>Left</span></td><td><div class=\"dni-plaintext\">655</div></td></tr><tr><td>1</td><td><span>Up</span></td><td><div class=\"dni-plaintext\">447</div></td></tr><tr><td>2</td><td><span>Left</span></td><td><div class=\"dni-plaintext\">327</div></td></tr><tr><td>3</td><td><span>Up</span></td><td><div class=\"dni-plaintext\">223</div></td></tr><tr><td>4</td><td><span>Left</span></td><td><div class=\"dni-plaintext\">163</div></td></tr><tr><td>5</td><td><span>Up</span></td><td><div class=\"dni-plaintext\">111</div></td></tr><tr><td>6</td><td><span>Left</span></td><td><div class=\"dni-plaintext\">81</div></td></tr><tr><td>7</td><td><span>Up</span></td><td><div class=\"dni-plaintext\">55</div></td></tr><tr><td>8</td><td><span>Left</span></td><td><div class=\"dni-plaintext\">40</div></td></tr><tr><td>9</td><td><span>Up</span></td><td><div class=\"dni-plaintext\">27</div></td></tr><tr><td>10</td><td><span>Up</span></td><td><div class=\"dni-plaintext\">13</div></td></tr><tr><td>11</td><td><span>Up</span></td><td><div class=\"dni-plaintext\">6</div></td></tr></tbody></table>"
      ]
     },
     "metadata": {},
     "output_type": "display_data"
    }
   ],
   "source": [
    "var grid = new Dictionary<int,List<int>>();\n",
    "\n",
    "foreach(var coordinates in origamiInput.TakeWhile(x => !string.IsNullOrEmpty(x))){\n",
    "    var c = coordinates.Split(\",\").Select(x => int.Parse(x)).ToArray();\n",
    "    if(grid.ContainsKey(c[1])){\n",
    "        var row = grid[c[1]];\n",
    "        if(row.Any(x => x == c[0])){\n",
    "            continue;\n",
    "        }\n",
    "        row.Add(c[0]);\n",
    "    }else{\n",
    "        grid.Add(c[1],new List<int>{ c[0] });\n",
    "    }\n",
    "}\n",
    "\n",
    "var FoldInstructions = origamiInput\n",
    "    .Reverse()\n",
    "    .TakeWhile(x => x.StartsWith(\"fold along\"))\n",
    "    .Reverse()\n",
    "    .Select(x => new { \n",
    "        fold = x[11] == 'y' ? Fold.Up : Fold.Left,\n",
    "        position = int.Parse(x.Split(\"=\")[1])\n",
    "    }).ToList();\n",
    "FoldInstructions\n"
   ]
  },
  {
   "cell_type": "code",
   "execution_count": null,
   "metadata": {
    "dotnet_interactive": {
     "language": "csharp"
    }
   },
   "outputs": [],
   "source": [
    "var length = grid.Max(x => x.Value.Max());\n",
    "var height = grid.Max(x => x.Key);\n",
    "\n",
    "public void DisplayGrid(){\n",
    "    for(var x = 0; x <= height; x++){\n",
    "        var cellQueue = grid.ContainsKey(x) \n",
    "            ? new Queue<int>(grid[x].OrderBy(c => c))\n",
    "            : new Queue<int>();\n",
    "        for(var y = 0; y <= length; y++){\n",
    "            var isFilled = cellQueue.Count() > 0 ? cellQueue.Peek() == y : false;\n",
    "            if(isFilled){\n",
    "                cellQueue.Dequeue();\n",
    "                Console.Write(\"#\");\n",
    "            }else{\n",
    "                Console.Write(\".\");\n",
    "            }\n",
    "        }\n",
    "        Console.WriteLine();\n",
    "    }\n",
    "}"
   ]
  },
  {
   "cell_type": "code",
   "execution_count": null,
   "metadata": {
    "dotnet_interactive": {
     "language": "csharp"
    }
   },
   "outputs": [],
   "source": [
    "public enum Fold{\n",
    "    Up,\n",
    "    Left\n",
    "}\n",
    "\n",
    "public void FoldGrid(Fold direction, int position){\n",
    "\n",
    "    if(direction == Fold.Up){\n",
    "        for(var y = position + 1; y <= height; y++){\n",
    "            var a = grid.ContainsKey(y) ? grid[y] : null;\n",
    "            var bRow = Math.Max(position - (y - position), 0);\n",
    "            var b = grid.ContainsKey(bRow) ? grid[bRow] : new List<int>();\n",
    "    \n",
    "            var r = b.Union(a ?? new List<int>()).Distinct().ToList();\n",
    "            if(r.Any()){\n",
    "                grid[bRow] = r;\n",
    "            }\n",
    "    \n",
    "            if(a != null){\n",
    "                grid.Remove(y);\n",
    "            }\n",
    "        }\n",
    "    \n",
    "        height = position - 1;\n",
    "    }else{\n",
    "        for(var x = position + 1; x <= length; x++){\n",
    "            foreach(var row in grid){\n",
    "                var a = row.Value.Any(c => c == x);\n",
    "                var bColumn = Math.Max(position - (x - position), 0);\n",
    "                var b = row.Value.Any(c => c == bColumn);\n",
    "\n",
    "                var r = a || b;\n",
    "                if(r && !b) row.Value.Add(bColumn);\n",
    "\n",
    "                if(a) row.Value.Remove(x);\n",
    "            }\n",
    "        }\n",
    "\n",
    "        length = position -1;\n",
    "    }\n",
    "}\n"
   ]
  },
  {
   "cell_type": "code",
   "execution_count": null,
   "metadata": {
    "dotnet_interactive": {
     "language": "csharp"
    }
   },
   "outputs": [
    {
     "name": "stdout",
     "output_type": "stream",
     "text": [
      "{\"fold\":{\"fold\":1,\"position\":655},\"count\":720}\r\n",
      "{\"fold\":{\"fold\":0,\"position\":447},\"count\":594}\r\n",
      "{\"fold\":{\"fold\":1,\"position\":327},\"count\":510}\r\n",
      "{\"fold\":{\"fold\":0,\"position\":223},\"count\":417}\r\n",
      "{\"fold\":{\"fold\":1,\"position\":163},\"count\":354}\r\n",
      "{\"fold\":{\"fold\":0,\"position\":111},\"count\":281}\r\n",
      "{\"fold\":{\"fold\":1,\"position\":81},\"count\":234}\r\n",
      "{\"fold\":{\"fold\":0,\"position\":55},\"count\":201}\r\n",
      "{\"fold\":{\"fold\":1,\"position\":40},\"count\":167}\r\n",
      "{\"fold\":{\"fold\":0,\"position\":27},\"count\":145}\r\n",
      "{\"fold\":{\"fold\":0,\"position\":13},\"count\":122}\r\n",
      "{\"fold\":{\"fold\":0,\"position\":6},\"count\":104}\r\n"
     ]
    }
   ],
   "source": [
    "FoldInstructions.ForEach(f => {\n",
    "    FoldGrid(f.fold, f.position);\n",
    "    Console.WriteLine(JsonConvert.SerializeObject(new {\n",
    "        fold = f,\n",
    "        count = grid.Sum(x => x.Value.Count())\n",
    "    }));\n",
    "});"
   ]
  },
  {
   "cell_type": "code",
   "execution_count": null,
   "metadata": {
    "dotnet_interactive": {
     "language": "csharp"
    }
   },
   "outputs": [
    {
     "name": "stdout",
     "output_type": "stream",
     "text": [
      ".##..#..#.###..###..###...##..#..#.####.\r\n",
      "#..#.#..#.#..#.#..#.#..#.#..#.#..#....#.\r\n",
      "#..#.####.#..#.#..#.#..#.#..#.#..#...#..\r\n",
      "####.#..#.###..###..###..####.#..#..#...\r\n",
      "#..#.#..#.#....#.#..#....#..#.#..#.#....\r\n",
      "#..#.#..#.#....#..#.#....#..#..##..####.\r\n"
     ]
    }
   ],
   "source": [
    "DisplayGrid();"
   ]
  }
 ],
 "metadata": {
  "kernelspec": {
   "display_name": ".NET (C#)",
   "language": "C#",
   "name": ".net-csharp"
  },
  "language_info": {
   "name": "C#"
  }
 },
 "nbformat": 4,
 "nbformat_minor": 2
}
