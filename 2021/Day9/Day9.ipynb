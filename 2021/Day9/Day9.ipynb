{
 "cells": [
  {
   "cell_type": "code",
   "execution_count": null,
   "metadata": {
    "dotnet_interactive": {
     "language": "csharp"
    }
   },
   "outputs": [
    {
     "data": {
      "text/html": [
       "<table><thead><tr><th>columns</th><th>rows</th></tr></thead><tbody><tr><td><div class=\"dni-plaintext\">10</div></td><td><div class=\"dni-plaintext\">5</div></td></tr></tbody></table>"
      ]
     },
     "metadata": {},
     "output_type": "display_data"
    }
   ],
   "source": [
    "var input = System.IO.File.ReadAllLines(\"day9-input-sample.txt\").ToList();\n",
    "\n",
    "new { columns = input.First().Length, rows = input.Count() }"
   ]
  },
  {
   "cell_type": "code",
   "execution_count": null,
   "metadata": {
    "dotnet_interactive": {
     "language": "csharp"
    }
   },
   "outputs": [],
   "source": [
    "public class Pos {\n",
    "    public int H{get;set;}\n",
    "    public int? PartOfBasin{get;set;}\n",
    "}\n",
    "Pos[,] ConvertToGrid(List<string> input){\n",
    "    var columnLength = input.First().Length;\n",
    "    var rowLength = input.Count();\n",
    "    var grid = new Pos[rowLength,columnLength];\n",
    "\n",
    "    for(var x = 0; x < rowLength; x++){\n",
    "        var row = input[x];\n",
    "        for(var y = 0; y < columnLength; y++){\n",
    "            grid[x,y] = new Pos { \n",
    "                H = int.Parse(row[y].ToString()),\n",
    "            };\n",
    "        }\n",
    "    }\n",
    "\n",
    "    return grid;\n",
    "}"
   ]
  },
  {
   "cell_type": "code",
   "execution_count": null,
   "metadata": {
    "dotnet_interactive": {
     "language": "csharp"
    }
   },
   "outputs": [],
   "source": [
    "bool IsLowestPoint(Pos[,] grid, int x, int y){\n",
    "    var xPoints = new[]{x - 1, x, x + 1 }.Where(p => p >= 0 && p < grid.GetLength(0));\n",
    "    var yPoints = new[]{y - 1, y, y + 1 }.Where(p => p >= 0 && p < grid.GetLength(1));\n",
    "\n",
    "    var pointValue = grid[x,y].H;\n",
    "\n",
    "    var list = new List<int>();\n",
    "\n",
    "    foreach(var cx in xPoints){\n",
    "        foreach(var cy in yPoints){\n",
    "            list.Add(grid[cx,cy].H);\n",
    "        }\n",
    "    }\n",
    "\n",
    "    return list.Min() == pointValue;\n",
    "}"
   ]
  },
  {
   "cell_type": "code",
   "execution_count": null,
   "metadata": {
    "dotnet_interactive": {
     "language": "csharp"
    }
   },
   "outputs": [],
   "source": [
    "var grid = ConvertToGrid(input);\n",
    "\n",
    "var lowestPointRanks = new List<int>();\n",
    "\n",
    "var lowestPoints = new List<Point>();\n",
    "\n",
    "public class Point{\n",
    "    public int X{get;set;}\n",
    "    public int Y{get;set;}\n",
    "}"
   ]
  },
  {
   "cell_type": "code",
   "execution_count": null,
   "metadata": {
    "dotnet_interactive": {
     "language": "csharp"
    }
   },
   "outputs": [],
   "source": [
    "   public int GetBasinSize(Point p, int i){\n",
    "    var pos = grid[p.X,p.Y];\n",
    "    \n",
    "    var xPoints = new[]{p.X - 1, p.X, p.X + 1 }.Where(p => p >= 0 && p < grid.GetLength(0));\n",
    "    var yPoints = new[]{p.Y - 1, p.Y, p.Y + 1 }.Where(p => p >= 0 && p < grid.GetLength(1));\n",
    "    \n",
    "    var basinCount = 1;\n",
    "    pos.PartOfBasin = i;\n",
    "    \n",
    "    foreach(var cx in xPoints){\n",
    "        foreach(var cy in yPoints){\n",
    "            var cp = grid[cx,cy];\n",
    "            if(!cp.PartOfBasin.HasValue &&\n",
    "                (//cp.H == pos.H || \n",
    "                cp.H > pos.H) &&\n",
    "                cp.H != 9){\n",
    "                // Console.WriteLine($\"pob ({cp.H})\");\n",
    "                basinCount += GetBasinSize(new Point{X = cx, Y = cy},i);\n",
    "            }\n",
    "        }\n",
    "    }\n",
    "\n",
    "    return basinCount;\n",
    "}"
   ]
  },
  {
   "cell_type": "code",
   "execution_count": null,
   "metadata": {
    "dotnet_interactive": {
     "language": "csharp"
    }
   },
   "outputs": [
    {
     "data": {
      "text/html": [
       "<div class=\"dni-plaintext\">15</div>"
      ]
     },
     "metadata": {},
     "output_type": "display_data"
    }
   ],
   "source": [
    "for(var x = 0; x < grid.GetLength(0); x++){\n",
    "    for(var y = 0; y < grid.GetLength(1); y++){\n",
    "        if(IsLowestPoint(grid,x,y)){\n",
    "            lowestPointRanks.Add(grid[x,y].H + 1);\n",
    "            lowestPoints.Add(new Point{X = x, Y = y});\n",
    "        }\n",
    "    }\n",
    "}\n",
    "\n",
    "lowestPointRanks.Sum()"
   ]
  },
  {
   "cell_type": "code",
   "execution_count": null,
   "metadata": {
    "dotnet_interactive": {
     "language": "csharp"
    }
   },
   "outputs": [
    {
     "data": {
      "text/html": [
       "<table><thead><tr><th><i>index</i></th><th>pos</th><th>size</th></tr></thead><tbody><tr><td>0</td><td>(0,9)</td><td><div class=\"dni-plaintext\">13</div></td></tr><tr><td>1</td><td>(2,2)</td><td><div class=\"dni-plaintext\">10</div></td></tr><tr><td>2</td><td>(4,6)</td><td><div class=\"dni-plaintext\">7</div></td></tr></tbody></table>"
      ]
     },
     "metadata": {},
     "output_type": "display_data"
    }
   ],
   "source": [
    "var basins = lowestPoints\n",
    "    .Select((x,i) => new {\n",
    "        pos = $\"({x.X},{x.Y})\",\n",
    "        size = GetBasinSize(x,i)\n",
    "    }) \n",
    "    .OrderByDescending(x => x.size)\n",
    "    .Take(3)\n",
    "    .ToList();\n",
    "basins\n"
   ]
  },
  {
   "cell_type": "code",
   "execution_count": null,
   "metadata": {
    "dotnet_interactive": {
     "language": "csharp"
    }
   },
   "outputs": [
    {
     "data": {
      "text/html": [
       "<div class=\"dni-plaintext\">910</div>"
      ]
     },
     "metadata": {},
     "output_type": "display_data"
    }
   ],
   "source": [
    "basins.Select(x => x.size).Aggregate((a,x) => a * x)"
   ]
  },
  {
   "cell_type": "code",
   "execution_count": null,
   "metadata": {
    "dotnet_interactive": {
     "language": "csharp"
    }
   },
   "outputs": [],
   "source": [
    "var log = new StringBuilder();\n",
    "for(var x = 0; x < grid.GetLength(0); x++){\n",
    "    for(var y = 0; y < grid.GetLength(1); y++){\n",
    "        log.Append(grid[x,y].PartOfBasin.HasValue\n",
    "            ? grid[x,y].PartOfBasin.Value\n",
    "            : grid[x,y].H == 9 ? \"+\" : $\"[{grid[x,y].H}]\");\n",
    "        log.Append(\",\");\n",
    "    }\n",
    "    log.AppendLine();\n",
    "}\n",
    "\n",
    "using(var sw = System.IO.File.CreateText(\"output.txt\")){\n",
    "    sw.Write(log.ToString());\n",
    "}"
   ]
  }
 ],
 "metadata": {
  "kernelspec": {
   "display_name": ".NET (C#)",
   "language": "C#",
   "name": ".net-csharp"
  },
  "language_info": {
   "name": "C#"
  }
 },
 "nbformat": 4,
 "nbformat_minor": 2
}
