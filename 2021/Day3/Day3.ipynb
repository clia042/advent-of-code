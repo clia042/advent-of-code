{
 "cells": [
  {
   "cell_type": "code",
   "execution_count": null,
   "metadata": {
    "dotnet_interactive": {
     "language": "csharp"
    }
   },
   "outputs": [],
   "source": [
    "using System.Linq;\n",
    "\n",
    "var lines = System.IO.File.ReadAllLines(@\".\\input.txt\");\n",
    "\n",
    "var output = Enumerable.Repeat(0,lines.First().Length).ToArray();\n",
    "\n",
    "Console.WriteLine(lines.First().Length);\n",
    "\n",
    "foreach(var line in lines){\n",
    "    Console.Write($\"{line} : \");\n",
    "    for(var i = 0; i < line.Length; i++){\n",
    "        var bit = line[i];\n",
    "        if(bit == '1'){\n",
    "            output[i]++;\n",
    "            Console.Write(\"+\");\n",
    "        }else{\n",
    "            output[i]--;\n",
    "            Console.Write(\"-\");\n",
    "        }\n",
    "    }\n",
    "    Console.WriteLine();\n",
    "}\n",
    "\n",
    "string gammaRate = \"\";\n",
    "string epsilonRate = \"\";\n",
    "\n",
    "foreach(var bit in output){\n",
    "    if(bit > 0){\n",
    "        epsilonRate += \"0\";\n",
    "        gammaRate += \"1\";\n",
    "    } \n",
    "    else{\n",
    "        epsilonRate += \"1\";\n",
    "        gammaRate += \"0\";\n",
    "    } \n",
    "}\n",
    "\n",
    "Console.WriteLine($\"Gamma Rate : ({gammaRate}) {Convert.ToInt32(gammaRate,2)}\");\n",
    "Console.WriteLine($\"Epsilon Rate : ({epsilonRate}) {Convert.ToInt32(epsilonRate,2)}\");\n",
    "\n",
    "Console.WriteLine(Convert.ToInt32(gammaRate,2)*Convert.ToInt32(epsilonRate,2));"
   ]
  },
  {
   "cell_type": "code",
   "execution_count": null,
   "metadata": {
    "dotnet_interactive": {
     "language": "csharp"
    }
   },
   "outputs": [
    {
     "name": "stdout",
     "output_type": "stream",
     "text": [
      "oxy: 1679 | o2: 3648\r\n",
      "6124992\r\n"
     ]
    }
   ],
   "source": [
    "using System.Linq;\n",
    "using System.Text.Json;\n",
    "\n",
    "var lines = System.IO.File.ReadAllLines(@\".\\input.txt\");\n",
    "\n",
    "int oxy = CalculateRating(ConvertLinesToGrid(lines), oxy: true);\n",
    "int o2 = CalculateRating(ConvertLinesToGrid(lines), oxy: false);\n",
    "\n",
    "Console.WriteLine($\"oxy: {oxy} | o2: {o2}\");\n",
    "Console.WriteLine($\"{oxy*o2}\");\n",
    "\n",
    "int CalculateRating(List<List<int>> grid, bool oxy){\n",
    "    var i = 0;\n",
    "\n",
    "    while (grid.Count != 1){\n",
    "        var bitCriteria = GetColumn(grid,i).Sum() >= 0;\n",
    "\n",
    "        if(!oxy) bitCriteria = !bitCriteria;\n",
    "    \n",
    "        if(bitCriteria){\n",
    "            grid = grid.Where(x => x[i] == 1).ToList();\n",
    "        }else{\n",
    "            grid = grid.Where(x => x[i] == -1).ToList();\n",
    "        }   \n",
    "\n",
    "        // Console.WriteLine(JsonSerializer.Serialize(grid));\n",
    "        \n",
    "        i++;\n",
    "    };\n",
    "    \n",
    "    var binary = string.Join(\"\", grid.First().Select(x => x == 1 ? 1 : 0));\n",
    "    return Convert.ToInt32(binary,2);\n",
    "}\n",
    "\n",
    "List<List<int>> ConvertLinesToGrid(string[] lines){\n",
    "    var grid = new List<List<int>>();\n",
    "\n",
    "    for(var i = 0; i < lines.Length; i++){\n",
    "        var row = lines[i];\n",
    "        grid.Add(row.Select(x => x switch { '0' => -1, '1' => 1, _ => 0 }).ToList());\n",
    "    }\n",
    "\n",
    "    return grid;\n",
    "}\n",
    "\n",
    "int[] GetColumn(List<List<int>> grid, int columnNumber){\n",
    "    return Enumerable.Range(0, grid.Count())\n",
    "            .Select(x => grid[x][columnNumber])\n",
    "            .ToArray();\n",
    "}"
   ]
  }
 ],
 "metadata": {
  "kernelspec": {
   "display_name": ".NET (C#)",
   "language": "C#",
   "name": ".net-csharp"
  },
  "language_info": {
   "name": "C#"
  }
 },
 "nbformat": 4,
 "nbformat_minor": 2
}
