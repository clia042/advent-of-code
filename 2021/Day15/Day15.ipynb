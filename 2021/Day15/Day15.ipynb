{
 "cells": [
  {
   "cell_type": "code",
   "execution_count": null,
   "metadata": {
    "dotnet_interactive": {
     "language": "csharp"
    }
   },
   "outputs": [
    {
     "data": {
      "text/html": [
       "<table><thead><tr><th><i>index</i></th><th>value</th></tr></thead><tbody><tr><td>0</td><td><div class=\"dni-plaintext\">1</div></td></tr><tr><td>1</td><td><div class=\"dni-plaintext\">1</div></td></tr><tr><td>2</td><td><div class=\"dni-plaintext\">2</div></td></tr><tr><td>3</td><td><div class=\"dni-plaintext\">3</div></td></tr><tr><td>4</td><td><div class=\"dni-plaintext\">7</div></td></tr><tr><td>5</td><td><div class=\"dni-plaintext\">1</div></td></tr><tr><td>6</td><td><div class=\"dni-plaintext\">1</div></td></tr><tr><td>7</td><td><div class=\"dni-plaintext\">3</div></td></tr><tr><td>8</td><td><div class=\"dni-plaintext\">1</div></td></tr><tr><td>9</td><td><div class=\"dni-plaintext\">2</div></td></tr><tr><td>10</td><td><div class=\"dni-plaintext\">1</div></td></tr><tr><td>11</td><td><div class=\"dni-plaintext\">3</div></td></tr><tr><td>12</td><td><div class=\"dni-plaintext\">1</div></td></tr><tr><td>13</td><td><div class=\"dni-plaintext\">6</div></td></tr><tr><td>14</td><td><div class=\"dni-plaintext\">4</div></td></tr><tr><td>15</td><td><div class=\"dni-plaintext\">3</div></td></tr><tr><td>16</td><td><div class=\"dni-plaintext\">3</div></td></tr><tr><td>17</td><td><div class=\"dni-plaintext\">1</div></td></tr><tr><td>18</td><td><div class=\"dni-plaintext\">2</div></td></tr><tr><td>19</td><td><div class=\"dni-plaintext\">3</div></td></tr><tr><td colspan=\"2\"><i>(80 more)</i></td></tr></tbody></table>"
      ]
     },
     "metadata": {},
     "output_type": "display_data"
    }
   ],
   "source": [
    "using Newtonsoft.Json;\n",
    "\n",
    "var input = System.IO.File.ReadAllLines(\"input-sample.txt\");\n",
    "\n",
    "var grid = new int[input.First().Length,input.Length];\n",
    "\n",
    "foreach(var row in input.Select((x,i) => new{ i, input = x})){\n",
    "    for(var x = 0; x < row.input.Length; x++){\n",
    "        grid[x,row.i] = int.Parse(row.input[x].ToString());\n",
    "    }\n",
    "}\n",
    "\n",
    "grid"
   ]
  },
  {
   "cell_type": "code",
   "execution_count": null,
   "metadata": {
    "dotnet_interactive": {
     "language": "csharp"
    }
   },
   "outputs": [],
   "source": [
    "var path = new List<Cell>{new Cell {X = 0, Y = 0, Risk = grid[0,0]}};\n",
    "\n",
    "public class Cell{\n",
    "    public int X {get;set;}\n",
    "    public int Y {get;set;}\n",
    "    public int Risk {get;set;}\n",
    "    public int? cumlativeRisk{get;set;}\n",
    "}\n",
    "\n",
    "var xPos = 0;\n",
    "var yPos = 0;\n",
    "var i = 0;\n",
    "\n",
    "public enum Direction{\n",
    "    Up,\n",
    "    Down,\n",
    "    Left,\n",
    "    Right\n",
    "}\n",
    "\n",
    "bool notPreviousPosition(int x, int y) => !(path.Count() > 1) || !((path[path.Count() - 2].X == x) && (path[path.Count() - 2].Y == y));\n",
    "\n",
    "bool positionWithinGrid(Direction direction, int position) => (direction) switch {\n",
    "    Direction.Down => position < grid.GetLength(1),\n",
    "    Direction.Left => position >= 0,\n",
    "    Direction.Right => position < grid.GetLength(0),\n",
    "    Direction.Up => position >= 0,\n",
    "    _ => false\n",
    "};\n"
   ]
  },
  {
   "cell_type": "code",
   "execution_count": null,
   "metadata": {
    "dotnet_interactive": {
     "language": "csharp"
    }
   },
   "outputs": [
    {
     "name": "stdout",
     "output_type": "stream",
     "text": [
      "[1]\r\n",
      "[1,1]\r\n",
      "[1,1,2]\r\n",
      "[1,1,2,1]\r\n",
      "[1,1,2,1,3]\r\n",
      "[1,1,2,1,3,6]\r\n",
      "[1,1,2,1,3,6,1]\r\n",
      "[1,1,2,1,3,6,1,3]\r\n",
      "[1,1,2,1,3,6,1,3,5]\r\n",
      "[1,1,2,1,3,6,1,3,5,1]\r\n",
      "[1,1,2,1,3,6,1,3,5,1,1]\r\n",
      "[1,1,2,1,3,6,1,3,5,1,1,1]\r\n",
      "[1,1,2,1,3,6,1,3,5,1,1,1,3]\r\n",
      "[1,1,2,1,3,6,1,3,5,1,1,1,3,1]\r\n",
      "[1,1,2,1,3,6,1,3,5,1,1,1,3,1,2]\r\n",
      "[1,1,2,1,3,6,1,3,5,1,1,1,3,1,2,1]\r\n",
      "[1,1,2,1,3,6,1,3,5,1,1,1,3,1,2,1,2]\r\n",
      "[1,1,2,1,3,6,1,3,5,1,1,1,3,1,2,1,2,1]\r\n",
      "[1,1,2,1,3,6,1,3,5,1,1,1,3,1,2,1,2,1,2]\r\n",
      "[1,1,2,1,3,6,1,3,5,1,1,1,3,1,2,1,2,1,2,1]\r\n",
      "[1,1,2,1,3,6,1,3,5,1,1,1,3,1,2,1,2,1,2,1,2]\r\n",
      "[1,1,2,1,3,6,1,3,5,1,1,1,3,1,2,1,2,1,2,1,2,1]\r\n",
      "[1,1,2,1,3,6,1,3,5,1,1,1,3,1,2,1,2,1,2,1,2,1,2]\r\n",
      "[1,1,2,1,3,6,1,3,5,1,1,1,3,1,2,1,2,1,2,1,2,1,2,1]\r\n",
      "[1,1,2,1,3,6,1,3,5,1,1,1,3,1,2,1,2,1,2,1,2,1,2,1,2]\r\n"
     ]
    },
    {
     "data": {
      "text/html": [
       "<div class=\"dni-plaintext\">48</div>"
      ]
     },
     "metadata": {},
     "output_type": "display_data"
    }
   ],
   "source": [
    "while(i < 25){\n",
    "    i++;\n",
    "    Console.WriteLine(JsonConvert.SerializeObject(path.Select(x => x.Risk)));\n",
    "    var possiblePaths = new List<Cell>();\n",
    "\n",
    "    if(positionWithinGrid(Direction.Right, xPos + 1) \n",
    "    && notPreviousPosition(xPos, yPos + 1)){\n",
    "        possiblePaths.Add(new Cell{\n",
    "            X = xPos,\n",
    "            Y = yPos + 1,\n",
    "            Risk = grid[xPos, yPos + 1]\n",
    "        });\n",
    "    }\n",
    "    if(positionWithinGrid(Direction.Left,xPos - 1) \n",
    "    && notPreviousPosition(xPos - 1, yPos)){\n",
    "        possiblePaths.Add(new Cell{\n",
    "            X = xPos - 1,\n",
    "            Y = yPos,\n",
    "            Risk = grid[xPos - 1, yPos]\n",
    "        });\n",
    "    }\n",
    "    if(positionWithinGrid(Direction.Right, xPos + 1) \n",
    "    && notPreviousPosition(xPos + 1, yPos)){\n",
    "        possiblePaths.Add(new Cell{\n",
    "            X = xPos + 1,\n",
    "            Y = yPos,\n",
    "            Risk = grid[xPos + 1, yPos]\n",
    "        });\n",
    "    }\n",
    "    if(positionWithinGrid(Direction.Up, yPos - 1) \n",
    "    && notPreviousPosition(xPos, yPos - 1)){\n",
    "        possiblePaths.Add(new Cell{\n",
    "            X = xPos,\n",
    "            Y = yPos - 1,\n",
    "            Risk = grid[xPos, yPos - 1]\n",
    "        });\n",
    "    }\n",
    "\n",
    "    if(!possiblePaths.Any()) break;\n",
    "\n",
    "    var selectedPath = possiblePaths.OrderBy(x => x.Risk).First();\n",
    "\n",
    "    path.Add(selectedPath);\n",
    "\n",
    "    if(selectedPath.X == grid.GetLength(0) - 1 \n",
    "    && selectedPath.Y == grid.GetLength(1) - 1){\n",
    "        break;\n",
    "    }else{\n",
    "        xPos = selectedPath.X;\n",
    "        yPos = selectedPath.Y;\n",
    "    }\n",
    "}\n",
    "\n",
    "path.Sum(x => x.Risk)"
   ]
  }
 ],
 "metadata": {
  "kernelspec": {
   "display_name": ".NET (C#)",
   "language": "C#",
   "name": ".net-csharp"
  },
  "language_info": {
   "name": "C#"
  }
 },
 "nbformat": 4,
 "nbformat_minor": 2
}
