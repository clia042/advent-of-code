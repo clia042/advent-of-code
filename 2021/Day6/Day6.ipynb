{
 "cells": [
  {
   "cell_type": "code",
   "execution_count": null,
   "metadata": {
    "dotnet_interactive": {
     "language": "csharp"
    }
   },
   "outputs": [
    {
     "data": {
      "text/html": [
       "<table><thead><tr><th><i>key</i></th><th>value</th></tr></thead><tbody><tr><td><div class=\"dni-plaintext\">8</div></td><td><div class=\"dni-plaintext\">0</div></td></tr><tr><td><div class=\"dni-plaintext\">7</div></td><td><div class=\"dni-plaintext\">0</div></td></tr><tr><td><div class=\"dni-plaintext\">6</div></td><td><div class=\"dni-plaintext\">0</div></td></tr><tr><td><div class=\"dni-plaintext\">5</div></td><td><div class=\"dni-plaintext\">0</div></td></tr><tr><td><div class=\"dni-plaintext\">4</div></td><td><div class=\"dni-plaintext\">1</div></td></tr><tr><td><div class=\"dni-plaintext\">3</div></td><td><div class=\"dni-plaintext\">2</div></td></tr><tr><td><div class=\"dni-plaintext\">2</div></td><td><div class=\"dni-plaintext\">1</div></td></tr><tr><td><div class=\"dni-plaintext\">1</div></td><td><div class=\"dni-plaintext\">1</div></td></tr><tr><td><div class=\"dni-plaintext\">0</div></td><td><div class=\"dni-plaintext\">0</div></td></tr></tbody></table>"
      ]
     },
     "metadata": {},
     "output_type": "display_data"
    }
   ],
   "source": [
    "var school = new Dictionary<int,long>{\n",
    "    {8,0},{7,0},{6,0},{5,0},{4,0},{3,0},{2,0},{1,0},{0,0}\n",
    "};\n",
    "\n",
    "System.IO.File.ReadAllText(@\"input.txt\")\n",
    "    .Split(\",\")\n",
    "    .Select(x => int.Parse(x))\n",
    "    .GroupBy(x => x)\n",
    "    .ToList()\n",
    "    .ForEach(x => school[x.Key] = x.Count());\n",
    "\n",
    "school\n"
   ]
  },
  {
   "cell_type": "code",
   "execution_count": null,
   "metadata": {
    "dotnet_interactive": {
     "language": "csharp"
    }
   },
   "outputs": [],
   "source": [
    "void ForwardDays(int days){\n",
    "    for(var day = 1; day <= days; day++){\n",
    "        // Console.WriteLine($\"Day: {day}\");\n",
    "        var previousCount = 0L;\n",
    "        var currentCount = 0L;\n",
    "        for(var i = 8; i >= 0; i--){\n",
    "            switch(i){\n",
    "                case 8:\n",
    "                    currentCount = school[i];\n",
    "                    school[i] = 0;\n",
    "                    break;\n",
    "                case 0:\n",
    "                    school[8] = school[i];\n",
    "                    school[6] += school[i];\n",
    "                    school[i] = previousCount;\n",
    "                    break;\n",
    "                default:\n",
    "                    currentCount = school[i];\n",
    "                    school[i] = previousCount;\n",
    "                    break;\n",
    "            }\n",
    "            previousCount = currentCount;\n",
    "            // Console.Write($\"({i},{school[i]})\");\n",
    "        }\n",
    "        // Console.WriteLine();\n",
    "    }\n",
    "}"
   ]
  },
  {
   "cell_type": "code",
   "execution_count": null,
   "metadata": {
    "dotnet_interactive": {
     "language": "csharp"
    }
   },
   "outputs": [
    {
     "data": {
      "text/html": [
       "<div class=\"dni-plaintext\">26984457539</div>"
      ]
     },
     "metadata": {},
     "output_type": "display_data"
    }
   ],
   "source": [
    "ForwardDays(256);\n",
    "\n",
    "var sum = school.Select(x => x.Value).Sum();\n",
    "sum"
   ]
  }
 ],
 "metadata": {
  "kernelspec": {
   "display_name": ".NET (C#)",
   "language": "C#",
   "name": ".net-csharp"
  },
  "language_info": {
   "name": "C#"
  }
 },
 "nbformat": 4,
 "nbformat_minor": 2
}
