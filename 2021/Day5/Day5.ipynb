{
 "cells": [
  {
   "cell_type": "code",
   "execution_count": null,
   "metadata": {
    "dotnet_interactive": {
     "language": "csharp"
    }
   },
   "outputs": [
    {
     "data": {
      "text/html": [
       "<table><thead><tr><th><i>index</i></th><th>value</th></tr></thead><tbody><tr><td>0</td><td>427,523 -&gt; 427,790</td></tr><tr><td>1</td><td>94,639 -&gt; 94,951</td></tr><tr><td>2</td><td>757,371 -&gt; 465,663</td></tr><tr><td>3</td><td>503,935 -&gt; 503,148</td></tr><tr><td>4</td><td>655,565 -&gt; 655,951</td></tr><tr><td>5</td><td>167,754 -&gt; 710,211</td></tr><tr><td>6</td><td>634,433 -&gt; 245,433</td></tr><tr><td>7</td><td>449,889 -&gt; 449,509</td></tr><tr><td>8</td><td>152,753 -&gt; 207,808</td></tr><tr><td>9</td><td>301,90 -&gt; 301,982</td></tr><tr><td>10</td><td>566,405 -&gt; 482,405</td></tr><tr><td>11</td><td>758,741 -&gt; 847,652</td></tr><tr><td>12</td><td>342,686 -&gt; 921,107</td></tr><tr><td>13</td><td>741,317 -&gt; 741,533</td></tr><tr><td>14</td><td>976,917 -&gt; 976,664</td></tr><tr><td>15</td><td>273,272 -&gt; 273,899</td></tr><tr><td>16</td><td>326,616 -&gt; 326,478</td></tr><tr><td>17</td><td>483,906 -&gt; 391,814</td></tr><tr><td>18</td><td>20,165 -&gt; 20,349</td></tr><tr><td>19</td><td>860,533 -&gt; 860,137</td></tr><tr><td colspan=\"2\"><i>... (more)</i></td></tr></tbody></table>"
      ]
     },
     "metadata": {},
     "output_type": "display_data"
    }
   ],
   "source": [
    "using System.Linq;\n",
    "using Newtonsoft.Json;\n",
    "\n",
    "var input = System.IO.File.ReadLines(\"input-day5.txt\");\n",
    "\n",
    "input"
   ]
  },
  {
   "cell_type": "code",
   "execution_count": null,
   "metadata": {
    "dotnet_interactive": {
     "language": "csharp"
    }
   },
   "outputs": [],
   "source": [
    "public class Line{\n",
    "    public Line(string input){\n",
    "        var pointSet = input.Split(\"->\")\n",
    "        .Select(x => x.Trim().Split(\",\").Select(y => int.Parse(y)).ToList())\n",
    "        .ToList();\n",
    "        xStart = pointSet[0][0];\n",
    "        yStart = pointSet[0][1];\n",
    "\n",
    "        xStop = pointSet[1][0];\n",
    "        yStop = pointSet[1][1];\n",
    "    }\n",
    "\n",
    "    public int xStart { get; set; }\n",
    "    public int yStart { get; set; }\n",
    "\n",
    "    public int xStop { get; set; }\n",
    "    public int yStop { get; set; }\n",
    "\n",
    "    public int xVector() => xStop - xStart;\n",
    "    public int yVector() => yStop - yStart;\n",
    "\n",
    "    public List<string> GetLinePoints(){\n",
    "        if(xVector() == 0){\n",
    "            return Enumerable.Range(0,Math.Abs(yVector()) + 1).Select(y => \n",
    "                $\"{xStart},{(yVector() > 0 ? yStart + y : yStart - y)}\").ToList();\n",
    "        }else if(yVector() == 0){\n",
    "            return Enumerable.Range(0,Math.Abs(xVector()) + 1).Select(x => \n",
    "                $\"{(xVector() > 0 ? xStart + x : xStart - x)},{yStart}\").ToList();\n",
    "        }else{\n",
    "            return Enumerable.Range(0,Math.Abs(xVector()) + 1).Select(x => \n",
    "                $\"{(xVector() > 0 ? xStart + x : xStart - x)},{(yVector() > 0 ? yStart + x : yStart - x)}\").ToList();\n",
    "        }\n",
    "    }\n",
    "}"
   ]
  },
  {
   "cell_type": "code",
   "execution_count": null,
   "metadata": {
    "dotnet_interactive": {
     "language": "csharp"
    }
   },
   "outputs": [
    {
     "data": {
      "text/html": [
       "<table><thead><tr><th><i>key</i></th><th>value</th></tr></thead><tbody><tr><td>0,0</td><td><div class=\"dni-plaintext\">0</div></td></tr><tr><td>0,1</td><td><div class=\"dni-plaintext\">0</div></td></tr><tr><td>0,2</td><td><div class=\"dni-plaintext\">0</div></td></tr><tr><td>0,3</td><td><div class=\"dni-plaintext\">0</div></td></tr><tr><td>0,4</td><td><div class=\"dni-plaintext\">0</div></td></tr><tr><td>0,5</td><td><div class=\"dni-plaintext\">0</div></td></tr><tr><td>0,6</td><td><div class=\"dni-plaintext\">0</div></td></tr><tr><td>0,7</td><td><div class=\"dni-plaintext\">0</div></td></tr><tr><td>0,8</td><td><div class=\"dni-plaintext\">0</div></td></tr><tr><td>0,9</td><td><div class=\"dni-plaintext\">0</div></td></tr><tr><td>0,10</td><td><div class=\"dni-plaintext\">0</div></td></tr><tr><td>0,11</td><td><div class=\"dni-plaintext\">0</div></td></tr><tr><td>0,12</td><td><div class=\"dni-plaintext\">0</div></td></tr><tr><td>0,13</td><td><div class=\"dni-plaintext\">0</div></td></tr><tr><td>0,14</td><td><div class=\"dni-plaintext\">0</div></td></tr><tr><td>0,15</td><td><div class=\"dni-plaintext\">0</div></td></tr><tr><td>0,16</td><td><div class=\"dni-plaintext\">0</div></td></tr><tr><td>0,17</td><td><div class=\"dni-plaintext\">0</div></td></tr><tr><td>0,18</td><td><div class=\"dni-plaintext\">0</div></td></tr><tr><td>0,19</td><td><div class=\"dni-plaintext\">0</div></td></tr><tr><td colspan=\"2\"><i>(999980 more)</i></td></tr></tbody></table>"
      ]
     },
     "metadata": {},
     "output_type": "display_data"
    }
   ],
   "source": [
    "var grid = new Dictionary<string,int>();\n",
    "\n",
    "var gridSize = 1000;\n",
    "\n",
    "for(var x = 0; x < gridSize; x++){\n",
    "    for(var y = 0; y < gridSize; y++){\n",
    "        grid.Add($\"{x},{y}\",0);\n",
    "    }\n",
    "}\n",
    "\n",
    "grid"
   ]
  },
  {
   "cell_type": "code",
   "execution_count": null,
   "metadata": {
    "dotnet_interactive": {
     "language": "csharp"
    }
   },
   "outputs": [],
   "source": [
    "var coordinates = input.Select(x => new Line(x));\n",
    "\n",
    "foreach(var linePoints in coordinates.SelectMany(x => x.GetLinePoints())){\n",
    "    grid[linePoints]++;\n",
    "}"
   ]
  },
  {
   "cell_type": "code",
   "execution_count": null,
   "metadata": {
    "dotnet_interactive": {
     "language": "csharp"
    }
   },
   "outputs": [
    {
     "data": {
      "text/html": [
       "<div class=\"dni-plaintext\">21038</div>"
      ]
     },
     "metadata": {},
     "output_type": "display_data"
    }
   ],
   "source": [
    "var sum = grid.Count(x => x.Value > 1);\n",
    "\n",
    "sum"
   ]
  }
 ],
 "metadata": {
  "kernelspec": {
   "display_name": ".NET (C#)",
   "language": "C#",
   "name": ".net-csharp"
  },
  "language_info": {
   "name": "C#"
  }
 },
 "nbformat": 4,
 "nbformat_minor": 2
}
