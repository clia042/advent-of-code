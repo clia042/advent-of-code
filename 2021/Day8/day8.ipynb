{
 "cells": [
  {
   "cell_type": "code",
   "execution_count": null,
   "metadata": {
    "dotnet_interactive": {
     "language": "csharp"
    }
   },
   "outputs": [
    {
     "data": {
      "text/html": [
       "<table><thead><tr><th><i>index</i></th><th>value</th></tr></thead><tbody><tr><td>0</td><td>be cfbegad cbdgef fgaecd cgeb fdcge agebfd fecdb fabcd edb | fdgacbe cefdb cefbgd gcbe</td></tr><tr><td>1</td><td>edbfga begcd cbg gc gcadebf fbgde acbgfd abcde gfcbed gfec | fcgedb cgb dgebacf gc</td></tr><tr><td>2</td><td>fgaebd cg bdaec gdafb agbcfd gdcbef bgcad gfac gcb cdgabef | cg cg fdcagb cbg</td></tr><tr><td>3</td><td>fbegcd cbd adcefb dageb afcb bc aefdc ecdab fgdeca fcdbega | efabcd cedba gadfec cb</td></tr><tr><td>4</td><td>aecbfdg fbg gf bafeg dbefa fcge gcbea fcaegb dgceab fcbdga | gecf egdcabf bgf bfgea</td></tr><tr><td>5</td><td>fgeab ca afcebg bdacfeg cfaedg gcfdb baec bfadeg bafgc acf | gebdcfa ecba ca fadegcb</td></tr><tr><td>6</td><td>dbcfg fgd bdegcaf fgec aegbdf ecdfab fbedc dacgb gdcebf gf | cefg dcbef fcge gbcadfe</td></tr><tr><td>7</td><td>bdfegc cbegaf gecbf dfcage bdacg ed bedf ced adcbefg gebcd | ed bcgafe cdgba cbgef</td></tr><tr><td>8</td><td>egadfb cdbfeg cegd fecab cgb gbdefca cg fgcdab egfdb bfceg | gbdfcae bgc cg cgb</td></tr><tr><td>9</td><td>gcafb gcf dcaebfg ecagb gf abcdeg gaef cafbge fdbac fegbdc | fgae cfgab fg bagce</td></tr></tbody></table>"
      ]
     },
     "metadata": {},
     "output_type": "display_data"
    }
   ],
   "source": [
    "using Newtonsoft.Json;\n",
    "\n",
    "var input = System.IO.File.ReadAllLines(\"input.txt\");\n",
    "\n",
    "input"
   ]
  },
  {
   "cell_type": "code",
   "execution_count": null,
   "metadata": {
    "dotnet_interactive": {
     "language": "csharp"
    }
   },
   "outputs": [],
   "source": [
    "public class ScrambledDigits{\n",
    "    public List<string> InputValues {get;set;}\n",
    "    public List<string> OutputValues {get;set;}\n",
    "\n",
    "    public Dictionary<int,string> DecodedDigits {get;set;}\n",
    "\n",
    "    public ScrambledDigits(string inputString){\n",
    "        var set = inputString.Split(\"|\");\n",
    "        InputValues = set[0].Trim().Split(\" \").Select(v => ReorderValue(v)).ToList();\n",
    "        OutputValues = set[1].Trim().Split(\" \").Select(v => ReorderValue(v)).ToList();\n",
    "\n",
    "        // Console.WriteLine(JsonConvert.SerializeObject(InputValues));\n",
    "        // Console.WriteLine(JsonConvert.SerializeObject(OutputValues));\n",
    "    }\n",
    "\n",
    "    string ReorderValue(string v) => new string(v.OrderBy(c => c).ToArray());\n",
    "\n",
    "    public List<int> DecodedOutput(){\n",
    "        var list = new List<int>();\n",
    "\n",
    "        foreach(var o in OutputValues){\n",
    "            if(DecodedDigits.ContainsValue(o)){\n",
    "                list.Add(DecodedDigits.First(x => x.Value == o).Key);\n",
    "            }\n",
    "        }\n",
    "\n",
    "        return list;\n",
    "    }\n",
    "}\n",
    "\n",
    "public string Add(string a, string b){\n",
    "    var ac = a.ToList();\n",
    "    var bc = b.ToList();\n",
    "    return new string(ac.Union(bc).Distinct().OrderBy(x => x).ToArray());\n",
    "}\n",
    "\n",
    "public string Subtract(string a, string b){\n",
    "    var ac = a.ToList();\n",
    "    var bc = b.ToList();\n",
    "    \n",
    "    return new string(ac.Except(bc).OrderBy(x => x).ToArray());\n",
    "}\n"
   ]
  },
  {
   "cell_type": "code",
   "execution_count": null,
   "metadata": {
    "dotnet_interactive": {
     "language": "csharp"
    }
   },
   "outputs": [],
   "source": [
    "public void DecodeAllDigits(ScrambledDigits s){\n",
    "    var DecodedDigits = new Dictionary<int,string>();\n",
    "    \n",
    "    //Solve 1, 4, 7, 8\n",
    "    var uniqueDigits = s.InputValues\n",
    "        .Where(x => new[]{2,3,4,7}.Contains(x.Length));\n",
    "    foreach(var v in uniqueDigits){\n",
    "        // Console.WriteLine(v);\n",
    "        if(v.Length == 2){\n",
    "            DecodedDigits.Add(1,v);\n",
    "        }else if(v.Length == 3){\n",
    "            DecodedDigits.Add(7,v);\n",
    "        }else if(v.Length == 4){\n",
    "            DecodedDigits.Add(4,v);\n",
    "        }else if(v.Length == 7){\n",
    "            DecodedDigits.Add(8,v);\n",
    "        }\n",
    "    }\n",
    "    \n",
    "    var remainingDigits = s.InputValues.Except(uniqueDigits).ToList();\n",
    "    \n",
    "    //Solve 9\n",
    "    var abcdf = Add(DecodedDigits[7],DecodedDigits[4]);\n",
    "    DecodedDigits.Add(9,remainingDigits.First(x => x.Intersect(abcdf).Count() == 5));\n",
    "    remainingDigits.Remove(DecodedDigits[9]);\n",
    "    \n",
    "    //Solve 6\n",
    "    var bdeg = Subtract(DecodedDigits[8],DecodedDigits[7]);\n",
    "    DecodedDigits.Add(6, remainingDigits.First(x \n",
    "            => x.Length == 6\n",
    "            && x.Intersect(bdeg).Count() == 4));\n",
    "    remainingDigits.Remove(DecodedDigits[6]);\n",
    "    \n",
    "    //Solve 0\n",
    "    DecodedDigits.Add(0,remainingDigits.First(x => x.Length == 6));\n",
    "    remainingDigits.Remove(DecodedDigits[0]);\n",
    "    \n",
    "    //Solve 3\n",
    "    var d = Subtract(DecodedDigits[8],DecodedDigits[0]);\n",
    "    var acdf = Add(DecodedDigits[7],d);\n",
    "    DecodedDigits.Add(3,remainingDigits.First(x => x.Intersect(acdf).Count() == 4));\n",
    "    remainingDigits.Remove(DecodedDigits[3]);\n",
    "    \n",
    "    //Solve 5\n",
    "    DecodedDigits.Add(5,remainingDigits.First(x => x.Intersect(DecodedDigits[6]).Count() == 5));\n",
    "    remainingDigits.Remove(DecodedDigits[5]);\n",
    "    \n",
    "    //Solve 2\n",
    "    DecodedDigits.Add(2,remainingDigits.First());\n",
    "    \n",
    "    s.DecodedDigits = DecodedDigits;\n",
    "}\n"
   ]
  },
  {
   "cell_type": "code",
   "execution_count": null,
   "metadata": {
    "dotnet_interactive": {
     "language": "csharp"
    }
   },
   "outputs": [
    {
     "data": {
      "text/html": [
       "<div class=\"dni-plaintext\">61229</div>"
      ]
     },
     "metadata": {},
     "output_type": "display_data"
    }
   ],
   "source": [
    "var digitSets = input.Select(x => {\n",
    "    var digits = new ScrambledDigits(x);\n",
    "    DecodeAllDigits(digits);\n",
    "    return digits;\n",
    "}).ToList();\n",
    "\n",
    "(digitSets.Select(x => long.Parse(string.Join(\"\",x.DecodedOutput()))).Sum())\n"
   ]
  }
 ],
 "metadata": {
  "kernelspec": {
   "display_name": ".NET (C#)",
   "language": "C#",
   "name": ".net-csharp"
  },
  "language_info": {
   "name": "C#"
  }
 },
 "nbformat": 4,
 "nbformat_minor": 2
}
