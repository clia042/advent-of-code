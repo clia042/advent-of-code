{
 "cells": [
  {
   "cell_type": "code",
   "execution_count": null,
   "metadata": {
    "dotnet_interactive": {
     "language": "csharp"
    }
   },
   "outputs": [
    {
     "data": {
      "text/html": [
       "<table><thead><tr><th>polymerTemplate</th><th>pairDictionary</th></tr></thead><tbody><tr><td><div class=\"dni-plaintext\">[ { [FP, 1]: Key: FP, Value: 1 }, { [PN, 1]: Key: PN, Value: 1 }, { [NF, 2]: Key: NF, Value: 2 }, { [FC, 1]: Key: FC, Value: 1 }, { [CV, 1]: Key: CV, Value: 1 }, { [VS, 1]: Key: VS, Value: 1 }, { [SN, 1]: Key: SN, Value: 1 }, { [NN, 1]: Key: NN, Value: 1 }, { [FS, 1]: Key: FS, Value: 1 }, { [SF, 1]: Key: SF, Value: 1 }, { [FH, 1]: Key: FH, Value: 1 }, { [HH, 1]: Key: HH, Value: 1 }, { [HO, 1]: Key: HO, Value: 1 }, { [OC, 1]: Key: OC, Value: 1 }, { [CN, 1]: Key: CN, Value: 1 }, { [NB, 1]: Key: NB, Value: 1 }, { [BO, 1]: Key: BO, Value: 1 }, { [OB, 1]: Key: OB, Value: 1 } ]</div></td><td><div class=\"dni-plaintext\">[ { [ON, S]: Key: ON, Value: S }, { [SO, B]: Key: SO, Value: B }, { [OH, C]: Key: OH, Value: C }, { [SN, F]: Key: SN, Value: F }, { [BP, O]: Key: BP, Value: O }, { [SK, F]: Key: SK, Value: F }, { [OO, K]: Key: OO, Value: K }, { [CF, O]: Key: CF, Value: O }, { [PP, F]: Key: PP, Value: F }, { [KS, K]: Key: KS, Value: K }, { [KN, B]: Key: KN, Value: B }, { [BN, H]: Key: BN, Value: H }, { [HN, H]: Key: HN, Value: H }, { [NP, P]: Key: NP, Value: P }, { [BB, N]: Key: BB, Value: N }, { [SB, F]: Key: SB, Value: F }, { [BH, V]: Key: BH, Value: V }, { [NV, S]: Key: NV, Value: S }, { [PO, S]: Key: PO, Value: S }, { [CN, N]: Key: CN, Value: N } ... (80 more) ]</div></td></tr></tbody></table>"
      ]
     },
     "metadata": {},
     "output_type": "display_data"
    }
   ],
   "source": [
    "using Newtonsoft.Json;\n",
    "var polyInput = System.IO.File.ReadAllLines(\"input.txt\");\n",
    "\n",
    "var polymerTemplate = new Dictionary<string,long>();\n",
    "\n",
    "var pairDictionary = new Dictionary<string,char>();\n",
    "\n",
    "foreach(var rule in polyInput.Skip(2).ToList()){\n",
    "    var r = rule.Split(\"->\").Select(x => x.Trim()).ToList();\n",
    "\n",
    "    pairDictionary.Add(r[0], char.Parse(r[1]));\n",
    "}\n",
    "\n",
    "for(var i = 0; i < polyInput[0].Length - 1; i++){\n",
    "    var sequencePair = new string(polyInput[0].Skip(i).Take(2).ToArray());\n",
    "    UpsertPolymerPair(sequencePair);\n",
    "}\n",
    "\n",
    "public void UpsertPolymerPair(string pair, long count){\n",
    "    if(polymerTemplate.ContainsKey(pair)){\n",
    "        polymerTemplate[pair] += count;\n",
    "    }else{\n",
    "        polymerTemplate.Add(pair,count);\n",
    "    }\n",
    "}\n",
    "\n",
    "public void RemovePolymerPair(string pair, long count){\n",
    "    if(polymerTemplate[pair] <= count){\n",
    "        polymerTemplate.Remove(pair);\n",
    "    }else{\n",
    "        polymerTemplate[pair] -= count;\n",
    "    }\n",
    "}\n",
    "\n",
    "new{ polymerTemplate, pairDictionary }"
   ]
  },
  {
   "cell_type": "code",
   "execution_count": null,
   "metadata": {
    "dotnet_interactive": {
     "language": "csharp"
    }
   },
   "outputs": [],
   "source": [
    "public void Step(){\n",
    "    var currentSet = new Dictionary<string,long>(polymerTemplate);\n",
    "    foreach(var pair in currentSet){\n",
    "        var pairString = pair.Key;\n",
    "        var currentCount = pair.Value;\n",
    "        if(pairDictionary.ContainsKey(pairString)){\n",
    "            var c = pairDictionary[pairString];\n",
    "            UpsertPolymerPair($\"{pairString[0]}{c}\", currentCount);\n",
    "            UpsertPolymerPair($\"{c}{pairString[1]}\", currentCount);\n",
    "            RemovePolymerPair(pairString, currentCount);\n",
    "        }\n",
    "    }\n",
    "    // DisplaySequence();\n",
    "}\n",
    "\n",
    "void DisplaySequence(){\n",
    "    Console.WriteLine(\"<--------------------\");\n",
    "    foreach(var pair in polymerTemplate){\n",
    "        Console.WriteLine($\"{pair.Key}: {pair.Value}\");\n",
    "    }\n",
    "    Console.WriteLine(\"-------------------->\");\n",
    "}\n"
   ]
  },
  {
   "cell_type": "code",
   "execution_count": null,
   "metadata": {
    "dotnet_interactive": {
     "language": "csharp"
    }
   },
   "outputs": [
    {
     "data": {
      "text/html": [
       "<table><thead><tr><th>r</th><th>most</th><th>least</th></tr></thead><tbody><tr><td><div class=\"dni-plaintext\">3420801168962</div></td><td><div class=\"dni-plaintext\">4399405361139</div></td><td><div class=\"dni-plaintext\">978604192177</div></td></tr></tbody></table>"
      ]
     },
     "metadata": {},
     "output_type": "display_data"
    }
   ],
   "source": [
    "Enumerable.Range(1,40).ToList().ForEach(x => Step());\n",
    "\n",
    "var chars = new Dictionary<char,long>{\n",
    "    {polyInput[0].First(),1},\n",
    "    {polyInput[0].Last(),1}\n",
    "};\n",
    "\n",
    "foreach(var polyPair in polymerTemplate){\n",
    "    foreach(var c in polyPair.Key){\n",
    "        if(chars.ContainsKey(c)) chars[c] += polyPair.Value;\n",
    "        else chars.Add(c, polyPair.Value);\n",
    "    }\n",
    "}\n",
    "\n",
    "var most = chars.Max(x => x.Value)/2;\n",
    "var least = chars.Min(x => x.Value)/2;\n",
    "\n",
    "new { r = most - least, most, least }"
   ]
  }
 ],
 "metadata": {
  "kernelspec": {
   "display_name": ".NET (C#)",
   "language": "C#",
   "name": ".net-csharp"
  },
  "language_info": {
   "name": "C#"
  }
 },
 "nbformat": 4,
 "nbformat_minor": 2
}
