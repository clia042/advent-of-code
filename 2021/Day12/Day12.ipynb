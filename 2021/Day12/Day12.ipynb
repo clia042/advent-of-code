{
 "cells": [
  {
   "cell_type": "code",
   "execution_count": null,
   "metadata": {
    "dotnet_interactive": {
     "language": "csharp"
    }
   },
   "outputs": [
    {
     "data": {
      "text/html": [
       "<table><thead><tr><th><i>index</i></th><th>value</th></tr></thead><tbody><tr><td>0</td><td>vp-BY</td></tr><tr><td>1</td><td>ui-oo</td></tr><tr><td>2</td><td>kk-IY</td></tr><tr><td>3</td><td>ij-vp</td></tr><tr><td>4</td><td>oo-start</td></tr><tr><td>5</td><td>SP-ij</td></tr><tr><td>6</td><td>kg-uj</td></tr><tr><td>7</td><td>ij-UH</td></tr><tr><td>8</td><td>SP-end</td></tr><tr><td>9</td><td>oo-IY</td></tr><tr><td>10</td><td>SP-kk</td></tr><tr><td>11</td><td>SP-vp</td></tr><tr><td>12</td><td>ui-ij</td></tr><tr><td>13</td><td>UH-ui</td></tr><tr><td>14</td><td>ij-IY</td></tr><tr><td>15</td><td>start-ui</td></tr><tr><td>16</td><td>IY-ui</td></tr><tr><td>17</td><td>uj-ui</td></tr><tr><td>18</td><td>kk-oo</td></tr><tr><td>19</td><td>IY-start</td></tr><tr><td colspan=\"2\"><i>(5 more)</i></td></tr></tbody></table>"
      ]
     },
     "metadata": {},
     "output_type": "display_data"
    }
   ],
   "source": [
    "using Newtonsoft.Json;\n",
    "var mapInput = System.IO.File.ReadAllLines(\"input.txt\");\n",
    "\n",
    "mapInput"
   ]
  },
  {
   "cell_type": "code",
   "execution_count": null,
   "metadata": {
    "dotnet_interactive": {
     "language": "csharp"
    }
   },
   "outputs": [
    {
     "data": {
      "text/html": [
       "<table><thead><tr><th><i>key</i></th><th>LinkedLocations</th><th>IsLargeCave</th><th>IsTerminal</th></tr></thead><tbody><tr><td>vp</td><td><div class=\"dni-plaintext\">[ BY, ij, SP, end ]</div></td><td><div class=\"dni-plaintext\">False</div></td><td><div class=\"dni-plaintext\">False</div></td></tr><tr><td>BY</td><td><div class=\"dni-plaintext\">[ vp ]</div></td><td><div class=\"dni-plaintext\">True</div></td><td><div class=\"dni-plaintext\">False</div></td></tr><tr><td>ui</td><td><div class=\"dni-plaintext\">[ oo, ij, UH, start, IY, uj ]</div></td><td><div class=\"dni-plaintext\">False</div></td><td><div class=\"dni-plaintext\">False</div></td></tr><tr><td>oo</td><td><div class=\"dni-plaintext\">[ ui, start, IY, kk ]</div></td><td><div class=\"dni-plaintext\">False</div></td><td><div class=\"dni-plaintext\">False</div></td></tr><tr><td>kk</td><td><div class=\"dni-plaintext\">[ IY, SP, oo, ij, UH ]</div></td><td><div class=\"dni-plaintext\">False</div></td><td><div class=\"dni-plaintext\">False</div></td></tr><tr><td>IY</td><td><div class=\"dni-plaintext\">[ kk, oo, ij, ui, start ]</div></td><td><div class=\"dni-plaintext\">True</div></td><td><div class=\"dni-plaintext\">False</div></td></tr><tr><td>ij</td><td><div class=\"dni-plaintext\">[ vp, SP, UH, ui, IY, kk ]</div></td><td><div class=\"dni-plaintext\">False</div></td><td><div class=\"dni-plaintext\">False</div></td></tr><tr><td>start</td><td><div class=\"dni-plaintext\">[ oo, ui, IY ]</div></td><td><div class=\"dni-plaintext\">False</div></td><td><div class=\"dni-plaintext\">True</div></td></tr><tr><td>SP</td><td><div class=\"dni-plaintext\">[ ij, end, kk, vp ]</div></td><td><div class=\"dni-plaintext\">True</div></td><td><div class=\"dni-plaintext\">False</div></td></tr><tr><td>kg</td><td><div class=\"dni-plaintext\">[ uj ]</div></td><td><div class=\"dni-plaintext\">False</div></td><td><div class=\"dni-plaintext\">False</div></td></tr><tr><td>uj</td><td><div class=\"dni-plaintext\">[ kg, ui, UH ]</div></td><td><div class=\"dni-plaintext\">False</div></td><td><div class=\"dni-plaintext\">False</div></td></tr><tr><td>UH</td><td><div class=\"dni-plaintext\">[ ij, ui, uj, end, kk ]</div></td><td><div class=\"dni-plaintext\">True</div></td><td><div class=\"dni-plaintext\">False</div></td></tr><tr><td>end</td><td><div class=\"dni-plaintext\">[ SP, vp, UH ]</div></td><td><div class=\"dni-plaintext\">False</div></td><td><div class=\"dni-plaintext\">True</div></td></tr></tbody></table>"
      ]
     },
     "metadata": {},
     "output_type": "display_data"
    }
   ],
   "source": [
    "public class Location{\n",
    "    public List<string> LinkedLocations {get;set;}\n",
    "    public bool IsLargeCave {get;set;}\n",
    "    public bool IsTerminal {get;set;}\n",
    "}\n",
    "\n",
    "var MapModel = new Dictionary<string,Location>();\n",
    "\n",
    "foreach(var link in mapInput){\n",
    "    var locationPair = link.Split(\"-\");\n",
    "    foreach(var location in locationPair){\n",
    "        if(!MapModel.ContainsKey(location)){\n",
    "            var l = new Location{\n",
    "                LinkedLocations = new List<string>{ locationPair.First(x => x != location) },\n",
    "                IsLargeCave = location.All(x => char.IsUpper(x)),\n",
    "                IsTerminal = new[]{\"start\",\"end\"}.Contains(location.ToLowerInvariant())\n",
    "            };\n",
    "            MapModel.Add(location,l);\n",
    "        }else{\n",
    "            MapModel[location].LinkedLocations.Add(locationPair.First(x => x != location));\n",
    "        }\n",
    "    }\n",
    "}\n",
    "\n",
    "MapModel"
   ]
  },
  {
   "cell_type": "code",
   "execution_count": null,
   "metadata": {
    "dotnet_interactive": {
     "language": "csharp"
    }
   },
   "outputs": [],
   "source": [
    "var paths = new List<string>();\n",
    "\n",
    "var pathSegments = new Stack<string>();\n",
    "\n",
    "string secondVisit = null;\n",
    "\n",
    "public void GetNextSegment(string l){\n",
    "    var location = MapModel[l];\n",
    "    \n",
    "    if(!location.IsLargeCave && pathSegments.Any(x => x == l)){\n",
    "        // Console.WriteLine($\"node: {l}, already visited small cave! skipping\");\n",
    "        return;\n",
    "    }\n",
    "    \n",
    "    pathSegments.Push(l);\n",
    "    \n",
    "    if(location.IsTerminal){\n",
    "        var currentPath = string.Join(\",\",pathSegments.Reverse().ToArray());\n",
    "        // Console.WriteLine($\"path end: [{currentPath}]\");\n",
    "        if(paths.Any(x =>  x == currentPath)){\n",
    "            Console.WriteLine(\"path end: path already recorded! skipping\");\n",
    "        }else{\n",
    "            paths.Add(currentPath);\n",
    "        }\n",
    "\n",
    "        pathSegments.Pop();\n",
    "        return;\n",
    "    }\n",
    "\n",
    "    foreach(var n in location.LinkedLocations){\n",
    "        if(n != \"start\"){\n",
    "            // Console.WriteLine($\"attempting: {n}\");\n",
    "            GetNextSegment(n);\n",
    "        }\n",
    "    }\n",
    "\n",
    "    if(pathSegments.Peek() != l) throw new Exception(\"why you break?!?!?!\");\n",
    "    \n",
    "    pathSegments.Pop();\n",
    "}"
   ]
  },
  {
   "cell_type": "code",
   "execution_count": null,
   "metadata": {
    "dotnet_interactive": {
     "language": "csharp"
    }
   },
   "outputs": [],
   "source": [
    "public void GetPaths(){\n",
    "    pathSegments = new Stack<string>(new[]{\"start\"});\n",
    "    MapModel[\"start\"].LinkedLocations.ForEach(x => GetNextSegment(x));\n",
    "}\n",
    "\n",
    "GetPaths();"
   ]
  },
  {
   "cell_type": "code",
   "execution_count": null,
   "metadata": {
    "dotnet_interactive": {
     "language": "csharp"
    }
   },
   "outputs": [
    {
     "data": {
      "text/html": [
       "<table><thead><tr><th>paths</th><th>pathCount</th><th>pathSegments</th></tr></thead><tbody><tr><td><div class=\"dni-plaintext\">[ start,oo,ui,ij,vp,SP,end, start,oo,ui,ij,vp,SP,kk,SP,end, start,oo,ui,ij,vp,SP,kk,UH,uj,UH,end, start,oo,ui,ij,vp,SP,kk,UH,end, start,oo,ui,ij,vp,end, start,oo,ui,ij,SP,end, start,oo,ui,ij,SP,kk,SP,end, start,oo,ui,ij,SP,kk,SP,vp,SP,end, start,oo,ui,ij,SP,kk,SP,vp,end, start,oo,ui,ij,SP,kk,UH,uj,UH,end, start,oo,ui,ij,SP,kk,UH,end, start,oo,ui,ij,SP,vp,SP,end, start,oo,ui,ij,SP,vp,SP,kk,SP,end, start,oo,ui,ij,SP,vp,SP,kk,UH,uj,UH,end, start,oo,ui,ij,SP,vp,SP,kk,UH,end, start,oo,ui,ij,SP,vp,end, start,oo,ui,ij,UH,uj,UH,end, start,oo,ui,ij,UH,uj,UH,kk,SP,end, start,oo,ui,ij,UH,uj,UH,kk,SP,vp,SP,end, start,oo,ui,ij,UH,uj,UH,kk,SP,vp,end ... (4734 more) ]</div></td><td><div class=\"dni-plaintext\">4754</div></td><td><div class=\"dni-plaintext\">[ start ]</div></td></tr></tbody></table>"
      ]
     },
     "metadata": {},
     "output_type": "display_data"
    }
   ],
   "source": [
    "\n",
    "new{ paths, pathCount = paths.Count(), pathSegments }"
   ]
  }
 ],
 "metadata": {
  "kernelspec": {
   "display_name": ".NET (C#)",
   "language": "C#",
   "name": ".net-csharp"
  },
  "language_info": {
   "name": "C#"
  }
 },
 "nbformat": 4,
 "nbformat_minor": 2
}
