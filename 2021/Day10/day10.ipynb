{
 "cells": [
  {
   "cell_type": "code",
   "execution_count": null,
   "metadata": {
    "dotnet_interactive": {
     "language": "csharp"
    }
   },
   "outputs": [],
   "source": [
    "using Newtonsoft.Json;\n",
    "\n",
    "var syntaxStacks = System.IO.File.ReadAllLines(\"input.txt\");"
   ]
  },
  {
   "cell_type": "code",
   "execution_count": null,
   "metadata": {
    "dotnet_interactive": {
     "language": "csharp"
    }
   },
   "outputs": [
    {
     "data": {
      "text/html": [
       "<table><thead><tr><th><i>index</i></th><th>value</th></tr></thead><tbody><tr><td>0</td><td>([({&lt;(({&lt;[(&lt;([{}&lt;&gt;])&lt;(()&lt;&gt;){&lt;&gt;[]}&gt;&gt;[[{&lt;&gt;{}}[&lt;&gt;{}]][(&lt;&gt;[])&lt;{}&lt;&gt;&gt;]]){[{{[][]}[[]{}]}({{}[]}[{}&lt;&gt;])]({({}{})</td></tr><tr><td>1</td><td>([{{[(&lt;{[{{&lt;[{{}[]}{(){}}]{[{}{})([]())}&gt;}(({{{}}{&lt;&gt;{}}}{(()[])(()&lt;&gt;)}){&lt;&lt;{}()&gt;&lt;[][]&gt;&gt;})}(&lt;&lt;&lt;(&lt;</td></tr><tr><td>2</td><td>((&lt;[[&lt;([[({{[([]{})([][])]{({}())(()}}}({[[][]](()&lt;&gt;)}(&lt;[]{}&gt;[[]{}]))}&lt;[[{()&lt;&gt;}&lt;[][]&gt;]]{{{</td></tr><tr><td>3</td><td>{{[{{&lt;[{[[(&lt;((&lt;&gt;())(&lt;&gt;&lt;&gt;))&lt;&lt;()[]&gt;&gt;&gt;)&lt;&lt;&lt;(&lt;&gt;&lt;&gt;)[()()]&gt;&lt;([])&lt;[]&gt;&gt;&gt;{{({}()){[][]}}&lt;[[]]&gt;}&gt;]]&lt;[</td></tr><tr><td>4</td><td>[&lt;{(&lt;{&lt;&lt;[[[[(&lt;{}()&gt;{{}()})[[()()]&lt;{}()&gt;]]{{&lt;&lt;&gt;&lt;&gt;&gt;({}&lt;&gt;)}(([]{})[{}&lt;&gt;]}}]{{({[]&lt;&gt;}{[][]})&lt;[&lt;&gt;[]]&lt;{}()&gt;&gt;}[{</td></tr><tr><td>5</td><td>&lt;&lt;{&lt;{&lt;&lt;{&lt;&lt;[(([&lt;&gt;()][&lt;&gt;{}])[&lt;()&lt;&gt;&gt;{()[]}])[&lt;({})&lt;&lt;&gt;[]&gt;&gt;&lt;&lt;[][]&gt;[[]&lt;&gt;]&gt;]]&gt;&gt;((&lt;&lt;&lt;(&lt;&gt;[])[{}{}]&gt;[&lt;[]{}&gt;({})]&gt;&gt;)&lt;</td></tr><tr><td>6</td><td>&lt;[[[(&lt;{[{((&lt;{(()[])[{}&lt;&gt;]}([[][]][()&lt;&gt;])&gt;[(&lt;[]())&lt;&lt;&gt;&lt;&gt;&gt;){({}{}){&lt;&gt;[]}}]))}]}&gt;{&lt;([&lt;&lt;[&lt;(()&lt;&gt;)</td></tr><tr><td>7</td><td>({{{&lt;&lt;&lt;{({[{[&lt;()[]&gt;({}())]{&lt;{}()&gt;({}{})}}]{([(&lt;&gt;)&lt;[]&lt;&gt;&gt;]{([]&lt;&gt;)(()())})(&lt;&lt;&lt;&gt;&lt;&gt;&gt;{{}{}}&gt;[({}{})&lt;()</td></tr><tr><td>8</td><td>{{&lt;&lt;[&lt;[{&lt;(({{({}&lt;&gt;)&lt;&lt;&gt;()&gt;}{{{}&lt;&gt;}}}{&lt;({}())({}&lt;&gt;)&gt;([&lt;&gt;&lt;&gt;]{()[]})}))&lt;[&lt;{&lt;[]{}&gt;([][])}((&lt;&gt;())({}[]</td></tr><tr><td>9</td><td>[[&lt;([({&lt;&lt;&lt;&lt;{&lt;{&lt;&gt;&lt;&gt;}{()&lt;&gt;}&gt;}&gt;{(([[]{}&gt;[{}()])[[[][]]])(&lt;[[]&lt;&gt;](())&gt;(&lt;()[]&gt;({}&lt;&gt;)))}&gt;{&lt;[&lt;{{}{}}</td></tr><tr><td>10</td><td>&lt;&lt;&lt;[[(&lt;[&lt;&lt;&lt;{([{}[]]&lt;[][]&gt;){{(){}}[&lt;&gt;{}]}}&gt;&lt;([{&lt;&gt;&lt;&gt;}&lt;[]()&gt;]&lt;[[]()]&lt;{}{}&gt;&gt;)&gt;&gt;{(&lt;[[(){}]](&lt;&lt;&gt;()&gt;[&lt;&gt;&lt;&gt;]</td></tr><tr><td>11</td><td>&lt;&lt;[&lt;[&lt;{[&lt;[(&lt;[&lt;()[]&gt;]{[{}[]][[]&lt;&gt;]}&gt;)[{{[()()]{{}()}}{{&lt;&gt;}{{}&lt;&gt;}}}&lt;{(()[]]{[]&lt;&gt;}}([&lt;&gt;()]&lt;[]()&gt;)&gt;]]&gt;&lt;{{&lt;</td></tr><tr><td>12</td><td>([([(&lt;([((&lt;{&lt;[[][]](()[])}{&lt;[]()&gt;[&lt;&gt;[]]}}{({(){}}[{}[]]){{&lt;&gt;[]}[()[]]}}&gt;[&lt;({[]()}&lt;()&lt;&gt;&gt;)(&lt;[]{}&gt;([])</td></tr><tr><td>13</td><td>&lt;&lt;{{([&lt;&lt;[{({[&lt;{}[]&gt;{()()}](&lt;&lt;&gt;()&gt;)}[[&lt;()&lt;&gt;&gt;{{}{}}]((&lt;&gt;[]){[][]})])([{((){}){[]{}}&gt;{[{}{}]&lt;()&lt;&gt;&gt;}</td></tr><tr><td>14</td><td>[(&lt;[[&lt;{({{{{{{&lt;&gt;()}([]{})}([()()])}([[()()]([])](&lt;&lt;&gt;()&gt;({}[])))}[{[[()[]][()()]]{[{}&lt;&gt;]}}&lt;{({}())&lt;[]{}&gt;}&lt;&lt;&lt;&gt;[</td></tr><tr><td>15</td><td>[({{{[(&lt;{[[(&lt;[&lt;&gt;[]]&lt;[]()&gt;&gt;{{[]&lt;&gt;}})]&lt;{([[]&lt;&gt;]([][])){{()()}{{}{}}}}&gt;]}{{{[&lt;({}())&gt;(([]()){</td></tr><tr><td>16</td><td>&lt;({([&lt;[([&lt;&lt;(&lt;&lt;&lt;&gt;{}&gt;&gt;[{&lt;&gt;[]}])&gt;&gt;&lt;&lt;&lt;(((){})[&lt;&gt;{}])&lt;(()[])&lt;{}&lt;&gt;&gt;&gt;&gt;&gt;([[[()][()]]])&gt;]{&lt;([&lt;{[]&lt;&gt;}[{}&lt;&gt;]&gt;]&lt;{[()</td></tr><tr><td>17</td><td>[([[{&lt;({(([[{{{}&lt;&gt;)[[]()]}(({}&lt;&gt;)[{}{}])]]&lt;&lt;{({}&lt;&gt;)(()())}&gt;{[[(){}]({}[])]&lt;{{}{}}&gt;}&gt;)&lt;{([[</td></tr><tr><td>18</td><td>&lt;(&lt;&lt;[{&lt;&lt;((&lt;(&lt;{&lt;&gt;[]}&gt;[([]{}){&lt;&gt;&lt;&gt;}])[{([]&lt;&gt;)(&lt;&gt;[])}(&lt;()[]&gt;&lt;[]&lt;&gt;&gt;)]&gt;))&gt;&lt;[(&lt;[([&lt;&gt;[]]&lt;&lt;&gt;[]&gt;){&lt;()()}&lt;{}&gt;}</td></tr><tr><td>19</td><td>&lt;{{&lt;([&lt;{[{({({&lt;&gt;&lt;&gt;}({}()))&lt;({}&lt;&gt;)&lt;(){}&gt;&gt;}[(&lt;(){}&gt;[{}&lt;&gt;])&lt;(&lt;&gt;[])([]())&gt;])}[[{({()&lt;&gt;}({}&lt;&gt;)){(&lt;&gt;())&lt;{}</td></tr><tr><td colspan=\"2\"><i>(82 more)</i></td></tr></tbody></table>"
      ]
     },
     "metadata": {},
     "output_type": "display_data"
    }
   ],
   "source": [
    "public class BracketInfo{\n",
    "    public bool IsOpening { get; set; }\n",
    "\n",
    "    public char? CloseFor { get; set; }\n",
    "\n",
    "    public int? Value { get; set; }\n",
    "}\n",
    "\n",
    "var bracketDict = new Dictionary<char,BracketInfo>{\n",
    "    { '(', new BracketInfo { IsOpening = true, CloseFor = ')'} },\n",
    "    { '[', new BracketInfo { IsOpening = true, CloseFor = ']'} },\n",
    "    { '{', new BracketInfo { IsOpening = true, CloseFor = '}'} },\n",
    "    { '<', new BracketInfo { IsOpening = true, CloseFor = '>'} },\n",
    "    { ')', new BracketInfo { IsOpening = false, CloseFor = '(', Value = 3 } },\n",
    "    { ']', new BracketInfo { IsOpening = false, CloseFor = '[', Value =  57} },\n",
    "    { '}', new BracketInfo { IsOpening = false, CloseFor = '{', Value = 1197 } },\n",
    "    { '>', new BracketInfo { IsOpening = false, CloseFor = '<', Value = 25137 } }\n",
    "};\n",
    "\n",
    "var bracketScoreDict = new Dictionary<char, int>{\n",
    "    { ')', 1 },\n",
    "    { ']', 2 },\n",
    "    { '}', 3 },\n",
    "    { '>', 4 }\n",
    "};\n",
    "\n",
    "syntaxStacks"
   ]
  },
  {
   "cell_type": "code",
   "execution_count": null,
   "metadata": {
    "dotnet_interactive": {
     "language": "csharp"
    }
   },
   "outputs": [],
   "source": [
    "public char? TryFindCorruption(string line){\n",
    "    var stack = new Stack<char>();\n",
    "    \n",
    "    char? corrupt = default;\n",
    "    \n",
    "    foreach(var c in line){\n",
    "        var bracketInfo = bracketDict[c];\n",
    "        if(bracketInfo.IsOpening){\n",
    "            stack.Push(c);\n",
    "        }else{\n",
    "            var lastBracket = stack.Peek();\n",
    "            if(bracketInfo.CloseFor == lastBracket){\n",
    "                stack.Pop();\n",
    "            }else{\n",
    "                corrupt = c;\n",
    "                break;\n",
    "            }\n",
    "        }\n",
    "    }\n",
    "\n",
    "    return corrupt;\n",
    "}"
   ]
  },
  {
   "cell_type": "code",
   "execution_count": null,
   "metadata": {
    "dotnet_interactive": {
     "language": "csharp"
    }
   },
   "outputs": [],
   "source": [
    "var incompletes = syntaxStacks\n",
    "    .Select(x => new { x, c = TryFindCorruption(x) })\n",
    "    .Where(x => !x.c.HasValue);"
   ]
  },
  {
   "cell_type": "code",
   "execution_count": null,
   "metadata": {
    "dotnet_interactive": {
     "language": "csharp"
    }
   },
   "outputs": [],
   "source": [
    "public string AutoComplete(string line){\n",
    "    var stack = new Stack<char>();\n",
    "    \n",
    "    var autoComplete = new StringBuilder();\n",
    "    \n",
    "    foreach(var c in line){\n",
    "        var bracketInfo = bracketDict[c];\n",
    "        if(bracketInfo.IsOpening){\n",
    "            stack.Push(c);\n",
    "        }else{\n",
    "            var lastBracket = stack.Peek();\n",
    "            if(bracketInfo.CloseFor == lastBracket){\n",
    "                stack.Pop();\n",
    "            }else{\n",
    "                break;\n",
    "            }\n",
    "        }\n",
    "    }\n",
    "    \n",
    "    while(stack.Count() > 0){\n",
    "        var bracket = bracketDict[stack.Pop()];\n",
    "        autoComplete.Append(bracket.CloseFor);\n",
    "    }\n",
    "    \n",
    "    return autoComplete.ToString();\n",
    "}"
   ]
  },
  {
   "cell_type": "code",
   "execution_count": null,
   "metadata": {
    "dotnet_interactive": {
     "language": "csharp"
    }
   },
   "outputs": [
    {
     "data": {
      "text/html": [
       "<table><thead><tr><th><i>index</i></th><th>value</th></tr></thead><tbody><tr><td>0</td><td>})}]&gt;}))&gt;})])</td></tr><tr><td>1</td><td>]&gt;}]&gt;}}]}}</td></tr><tr><td>2</td><td>&gt;)}&gt;&gt;}&gt;}&gt;&gt;</td></tr><tr><td>3</td><td>&gt;])}})}&gt;&gt;&gt;}}})</td></tr><tr><td>4</td><td>))&gt;]&gt;&gt;}]&gt;]&gt;&gt;}}</td></tr><tr><td>5</td><td>)&gt;)}&gt;]&gt;)]]&gt;&gt;&gt;</td></tr><tr><td>6</td><td>]&gt;&gt;&gt;]}})}&gt;]]&gt;)]</td></tr><tr><td>7</td><td>})]}}}&gt;)]}}})]</td></tr><tr><td>8</td><td>]}&gt;)&gt;})]&gt;])})&gt;</td></tr><tr><td>9</td><td>&gt;}}]]]}&gt;])&gt;}}&gt;</td></tr><tr><td>10</td><td>&gt;}}))&gt;&gt;]]]&gt;&gt;})</td></tr><tr><td>11</td><td>]]]&gt;})}&gt;])}&gt;]</td></tr><tr><td>12</td><td>})&gt;&gt;&gt;)]}}})}}])</td></tr><tr><td>13</td><td>]]))})]]]&gt;]]))</td></tr><tr><td>14</td><td>&gt;}]&gt;]]})]&gt;]]&gt;)</td></tr><tr><td>15</td><td>)))]]}})}</td></tr><tr><td>16</td><td>&gt;]})]&gt;&gt;)&gt;)))}]]</td></tr><tr><td>17</td><td>&gt;&gt;)&gt;}))}&gt;]&gt;}})}</td></tr><tr><td>18</td><td>)]})])&gt;}]&gt;})</td></tr><tr><td>19</td><td>)]}&gt;]}]]]}}}}</td></tr><tr><td colspan=\"2\"><i>... (more)</i></td></tr></tbody></table>"
      ]
     },
     "metadata": {},
     "output_type": "display_data"
    }
   ],
   "source": [
    "var autoCompletes = incompletes.Select(i => AutoComplete(i.x));\n",
    "autoCompletes\n"
   ]
  },
  {
   "cell_type": "code",
   "execution_count": null,
   "metadata": {
    "dotnet_interactive": {
     "language": "csharp"
    }
   },
   "outputs": [
    {
     "data": {
      "text/html": [
       "<div class=\"dni-plaintext\">2116639949</div>"
      ]
     },
     "metadata": {},
     "output_type": "display_data"
    }
   ],
   "source": [
    "public long ScoreAutoCompletes(string autoComplete){\n",
    "    var score = 0L;\n",
    "    foreach(var c in autoComplete){\n",
    "        score = (score * 5) + bracketScoreDict[c];\n",
    "    }\n",
    "    return score;\n",
    "}\n",
    "\n",
    "var scores = autoCompletes.Select(x => ScoreAutoCompletes(x)).OrderBy(x => x).ToList();\n",
    "\n",
    "scores[scores.Count()/2]"
   ]
  }
 ],
 "metadata": {
  "kernelspec": {
   "display_name": ".NET (C#)",
   "language": "C#",
   "name": ".net-csharp"
  },
  "language_info": {
   "name": "C#"
  }
 },
 "nbformat": 4,
 "nbformat_minor": 2
}
