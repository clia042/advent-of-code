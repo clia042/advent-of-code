{
 "cells": [
  {
   "cell_type": "code",
   "execution_count": null,
   "metadata": {
    "dotnet_interactive": {
     "language": "csharp"
    }
   },
   "outputs": [],
   "source": [
    "using Newtonsoft.Json;\n",
    "\n",
    "var octogrid = System.IO.File.ReadAllLines(\"input.txt\");\n",
    "\n",
    "var gridXLength = octogrid.First().Length;\n",
    "var gridYLength = octogrid.Length;"
   ]
  },
  {
   "cell_type": "code",
   "execution_count": null,
   "metadata": {
    "dotnet_interactive": {
     "language": "csharp"
    }
   },
   "outputs": [],
   "source": [
    "public class Octopus {\n",
    "    public int X {get;set;}\n",
    "    public int Y {get;set;}\n",
    "\n",
    "    public int Energy {get;set;}\n",
    "    public bool Flashed {get;set;}\n",
    "}\n",
    "\n",
    "var grid = new List<Octopus>();\n",
    "\n",
    "for(var x = 0; x < octogrid.Length; x++){\n",
    "    var row = octogrid[x];\n",
    "    for(var y = 0; y < row.Length; y++){\n",
    "        grid.Add(new Octopus{X = x, Y = y, Energy = int.Parse(row[y].ToString())});\n",
    "    }\n",
    "}\n"
   ]
  },
  {
   "cell_type": "code",
   "execution_count": null,
   "metadata": {
    "dotnet_interactive": {
     "language": "csharp"
    }
   },
   "outputs": [],
   "source": [
    "public void DisplayGrid(List<Octopus> grid){\n",
    "    var row = 0;\n",
    "    foreach(var point in grid){\n",
    "        if(row != point.X){\n",
    "            row = point.X;\n",
    "            Console.WriteLine();\n",
    "        }\n",
    "        Console.Write(point.Energy == 0 ? \"+\" : $\"{point.Energy}\");\n",
    "    }\n",
    "    Console.WriteLine();\n",
    "}"
   ]
  },
  {
   "cell_type": "code",
   "execution_count": null,
   "metadata": {
    "dotnet_interactive": {
     "language": "csharp"
    }
   },
   "outputs": [],
   "source": [
    "// DisplayGrid(grid);\n",
    "\n",
    "var flashes = 0;\n",
    "var i = 1;\n",
    "\n",
    "public void Step(){\n",
    "    // Console.WriteLine($\"step: {i}\");\n",
    "    grid.ForEach(x => {\n",
    "        x.Energy++;\n",
    "    });\n",
    "\n",
    "    while(grid.Any(x => x.Energy > 9 && !x.Flashed)){\n",
    "        grid.Where(x => x.Energy > 9 && !x.Flashed).ToList().ForEach(x => {\n",
    "            Flash(x);\n",
    "        });\n",
    "    }\n",
    "\n",
    "    grid.Where(x => x.Flashed).ToList().ForEach(x => {\n",
    "        flashes++;\n",
    "        x.Energy = 0;\n",
    "        x.Flashed = false;\n",
    "    });\n",
    "\n",
    "    // DisplayGrid(grid);\n",
    "    i++;\n",
    "}\n",
    "\n",
    "public void Flash(Octopus octo){\n",
    "    octo.Flashed = true;\n",
    "\n",
    "    var xStart = (octo.X - 1) < 0 ? 0 : (octo.X - 1);\n",
    "    var yStart = (octo.Y - 1) < 0 ? 0 : (octo.Y - 1);\n",
    "\n",
    "    var xStop = (octo.X + 2) >= gridXLength ? gridXLength : octo.X + 2;\n",
    "    var yStop = (octo.Y + 2) >= gridYLength ? gridYLength : octo.Y + 2;\n",
    "\n",
    "    for(var x = xStart; x < xStop; x++){\n",
    "        for(var y = yStart; y < yStop; y++){\n",
    "            var neighbour = grid.First(o => o.X == x && o.Y == y);\n",
    "            if(neighbour.Flashed){\n",
    "                continue;\n",
    "            } \n",
    "            neighbour.Energy++;\n",
    "        }\n",
    "    }\n",
    "}"
   ]
  },
  {
   "cell_type": "code",
   "execution_count": null,
   "metadata": {
    "dotnet_interactive": {
     "language": "csharp"
    }
   },
   "outputs": [
    {
     "data": {
      "text/html": [
       "<div class=\"dni-plaintext\">502</div>"
      ]
     },
     "metadata": {},
     "output_type": "display_data"
    }
   ],
   "source": [
    "while(!grid.All(x => x.Energy == 0)){\n",
    "    Step();\n",
    "}\n",
    "\n",
    "(i - 1)"
   ]
  }
 ],
 "metadata": {
  "interpreter": {
   "hash": "df32ccc5ca0a834e46655e033e923466181170f9f055e035850f144ef7ac8ef0"
  },
  "kernelspec": {
   "display_name": ".NET (C#)",
   "language": "C#",
   "name": ".net-csharp"
  },
  "language_info": {
   "file_extension": ".cs",
   "mimetype": "text/x-csharp",
   "name": "C#",
   "pygments_lexer": "csharp",
   "version": "9.0"
  }
 },
 "nbformat": 4,
 "nbformat_minor": 2
}
