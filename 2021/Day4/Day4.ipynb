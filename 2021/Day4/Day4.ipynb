{
 "cells": [
  {
   "cell_type": "code",
   "execution_count": null,
   "metadata": {
    "dotnet_interactive": {
     "language": "csharp"
    }
   },
   "outputs": [],
   "source": [
    "using Newtonsoft.Json;\n",
    "\n",
    "var input = System.IO.File.ReadAllLines(\"input.txt\").AsEnumerable();\n",
    "\n",
    "var lotteryNumbers = input.First().Split(\",\").Select(x => int.Parse(x)).ToList();\n",
    "\n",
    "input = input.Skip(2);"
   ]
  },
  {
   "cell_type": "code",
   "execution_count": null,
   "metadata": {
    "dotnet_interactive": {
     "language": "csharp"
    }
   },
   "outputs": [],
   "source": [
    "public class Board {\n",
    "    public Board(List<string> input){\n",
    "        cells = new Dictionary<int,Cell>();\n",
    "        for(var x = 0; x < input.Count(); x++){\n",
    "            var row = input[x]\n",
    "                .Split(\" \", StringSplitOptions.RemoveEmptyEntries)\n",
    "                .Select(x => int.Parse(x))\n",
    "                .ToList();\n",
    "            \n",
    "            for(var y = 0; y < row.Count(); y++){\n",
    "                cells.Add(row[y],new Cell{X = x, Y = y});\n",
    "            }\n",
    "        }\n",
    "    }\n",
    "\n",
    "    public bool HasWon { get; set; }\n",
    "\n",
    "    Dictionary<int,Cell> cells { get; set; }\n",
    "\n",
    "    public bool Mark(int number){\n",
    "        if(cells.ContainsKey(number)){\n",
    "            cells[number].Marked = true;\n",
    "            return true;\n",
    "        }\n",
    "        return false;\n",
    "    }\n",
    "\n",
    "    public bool IsWinner(int number){\n",
    "        var numberCell = cells[number];\n",
    "        \n",
    "        var winningRow = cells.Where(c => c.Value.X == numberCell.X).All(x => x.Value.Marked);\n",
    "        var winningColumn = cells.Where(c => c.Value.Y == numberCell.Y).All(x => x.Value.Marked);\n",
    "\n",
    "        HasWon = winningRow || winningColumn;\n",
    "        return HasWon;\n",
    "    }\n",
    "\n",
    "    public long SumOfUnmarked() => cells.Where(c => !c.Value.Marked).Select(c => c.Key).Sum();\n",
    "}\n",
    "\n",
    "public class Cell {\n",
    "    public int X {get;set;}\n",
    "    public int Y {get;set;}\n",
    "\n",
    "    public bool Marked{get;set;}\n",
    "}"
   ]
  },
  {
   "cell_type": "code",
   "execution_count": null,
   "metadata": {
    "dotnet_interactive": {
     "language": "csharp"
    }
   },
   "outputs": [
    {
     "data": {
      "text/html": [
       "<table><thead><tr><th><i>index</i></th><th>HasWon</th></tr></thead><tbody><tr><td>0</td><td><div class=\"dni-plaintext\">False</div></td></tr><tr><td>1</td><td><div class=\"dni-plaintext\">False</div></td></tr><tr><td>2</td><td><div class=\"dni-plaintext\">False</div></td></tr><tr><td>3</td><td><div class=\"dni-plaintext\">False</div></td></tr><tr><td>4</td><td><div class=\"dni-plaintext\">False</div></td></tr><tr><td>5</td><td><div class=\"dni-plaintext\">False</div></td></tr><tr><td>6</td><td><div class=\"dni-plaintext\">False</div></td></tr><tr><td>7</td><td><div class=\"dni-plaintext\">False</div></td></tr><tr><td>8</td><td><div class=\"dni-plaintext\">False</div></td></tr><tr><td>9</td><td><div class=\"dni-plaintext\">False</div></td></tr><tr><td>10</td><td><div class=\"dni-plaintext\">False</div></td></tr><tr><td>11</td><td><div class=\"dni-plaintext\">False</div></td></tr><tr><td>12</td><td><div class=\"dni-plaintext\">False</div></td></tr><tr><td>13</td><td><div class=\"dni-plaintext\">False</div></td></tr><tr><td>14</td><td><div class=\"dni-plaintext\">False</div></td></tr><tr><td>15</td><td><div class=\"dni-plaintext\">False</div></td></tr><tr><td>16</td><td><div class=\"dni-plaintext\">False</div></td></tr><tr><td>17</td><td><div class=\"dni-plaintext\">False</div></td></tr><tr><td>18</td><td><div class=\"dni-plaintext\">False</div></td></tr><tr><td>19</td><td><div class=\"dni-plaintext\">False</div></td></tr><tr><td colspan=\"2\"><i>(80 more)</i></td></tr></tbody></table>"
      ]
     },
     "metadata": {},
     "output_type": "display_data"
    }
   ],
   "source": [
    "var boards = new List<Board>();\n",
    "\n",
    "while(input.Any()){\n",
    "    boards.Add(new Board(input.Take(5).ToList()));\n",
    "    input = input.Skip(6);\n",
    "}\n",
    "\n",
    "boards"
   ]
  },
  {
   "cell_type": "code",
   "execution_count": null,
   "metadata": {
    "dotnet_interactive": {
     "language": "csharp"
    }
   },
   "outputs": [
    {
     "name": "stdout",
     "output_type": "stream",
     "text": [
      "87456\r\n",
      "26130\r\n",
      "11970\r\n",
      "61628\r\n",
      "80088\r\n",
      "38556\r\n",
      "40600\r\n",
      "2895\r\n",
      "3845\r\n",
      "2405\r\n",
      "54060\r\n",
      "33472\r\n",
      "72286\r\n",
      "49726\r\n",
      "57246\r\n",
      "7620\r\n",
      "6972\r\n",
      "42247\r\n",
      "6028\r\n",
      "10761\r\n",
      "9452\r\n",
      "8636\r\n",
      "9809\r\n",
      "7700\r\n",
      "6804\r\n",
      "6720\r\n",
      "11228\r\n",
      "13764\r\n",
      "21793\r\n",
      "28490\r\n",
      "18432\r\n",
      "19368\r\n",
      "22356\r\n",
      "24408\r\n",
      "26550\r\n",
      "31565\r\n",
      "19305\r\n",
      "17721\r\n",
      "11913\r\n",
      "18876\r\n",
      "28710\r\n",
      "14652\r\n",
      "0\r\n",
      "0\r\n",
      "0\r\n",
      "0\r\n",
      "35433\r\n",
      "46779\r\n",
      "36890\r\n",
      "27930\r\n",
      "46760\r\n",
      "31920\r\n",
      "50149\r\n",
      "41225\r\n",
      "63826\r\n",
      "3353\r\n",
      "3290\r\n",
      "36480\r\n",
      "31084\r\n",
      "8180\r\n",
      "8260\r\n",
      "702\r\n",
      "1359\r\n",
      "1269\r\n",
      "1599\r\n",
      "2274\r\n",
      "38720\r\n",
      "46288\r\n",
      "12728\r\n",
      "14878\r\n",
      "23134\r\n",
      "20257\r\n",
      "19787\r\n",
      "19928\r\n",
      "3472\r\n",
      "3416\r\n",
      "2992\r\n",
      "3888\r\n",
      "2344\r\n",
      "3016\r\n",
      "33417\r\n",
      "38473\r\n",
      "35760\r\n",
      "30000\r\n",
      "44560\r\n",
      "38619\r\n",
      "37107\r\n",
      "3483\r\n",
      "3240\r\n",
      "3213\r\n",
      "10725\r\n",
      "12075\r\n",
      "18928\r\n",
      "16016\r\n",
      "23576\r\n",
      "21450\r\n",
      "1920\r\n",
      "20500\r\n",
      "29520\r\n",
      "15561\r\n"
     ]
    },
    {
     "data": {
      "text/html": [
       "<div class=\"dni-plaintext\">15561</div>"
      ]
     },
     "metadata": {},
     "output_type": "display_data"
    }
   ],
   "source": [
    "var i = 0;\n",
    "for(;i < 4; i++){\n",
    "    var number = lotteryNumbers[i];\n",
    "    boards.ForEach(x => x.Mark(number));\n",
    "}\n",
    "\n",
    "long? result = null;\n",
    "while(i < lotteryNumbers.Count() && boards.Any(x => !x.HasWon)){\n",
    "    var number = lotteryNumbers[i];\n",
    "    boards.Where(x => !x.HasWon).ToList().ForEach(x => {\n",
    "        if(x.Mark(number)){\n",
    "            if(x.IsWinner(number)){\n",
    "                result = x.SumOfUnmarked() * number;\n",
    "            } \n",
    "        }\n",
    "    });\n",
    "    i++;\n",
    "}\n",
    "\n",
    "result"
   ]
  }
 ],
 "metadata": {
  "kernelspec": {
   "display_name": ".NET (C#)",
   "language": "C#",
   "name": ".net-csharp"
  },
  "language_info": {
   "name": "C#"
  }
 },
 "nbformat": 4,
 "nbformat_minor": 2
}
