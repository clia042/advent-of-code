{
 "cells": [
  {
   "cell_type": "code",
   "execution_count": null,
   "metadata": {
    "dotnet_interactive": {
     "language": "csharp"
    }
   },
   "outputs": [],
   "source": [
    "using Newtonsoft.Json;\n",
    "var input = new Queue<char>(System.IO.File.ReadAllText(\"input-sample.txt\").ToList());\n"
   ]
  },
  {
   "cell_type": "code",
   "execution_count": null,
   "metadata": {
    "dotnet_interactive": {
     "language": "csharp"
    }
   },
   "outputs": [],
   "source": [
    "public class Packet{\n",
    "    public int Version{get;set;}\n",
    "    public int TypeId{get;set;}\n",
    "    public char? LengthTypeId {get;set;}\n",
    "    public string BinaryValue{get;set;}\n",
    "    public string UnusedBinary{get;set;}\n",
    "    public List<Packet> SubPackets{get;set;}\n",
    "}\n",
    "\n",
    "static string BinaryToHex(string binary) => Convert.ToInt32(binary,2).ToString(\"X\");\n",
    "static string HexToBinary(char hex) => Convert.ToString(Convert.ToInt32(hex.ToString(), 16),2).PadLeft(4,'0');\n",
    "\n",
    "var packets = new List<Packet>();"
   ]
  },
  {
   "cell_type": "code",
   "execution_count": null,
   "metadata": {
    "dotnet_interactive": {
     "language": "csharp"
    }
   },
   "outputs": [
    {
     "data": {
      "text/html": [
       "<div class=\"dni-plaintext\">False</div>"
      ]
     },
     "metadata": {},
     "output_type": "display_data"
    }
   ],
   "source": [
    "6 < 6"
   ]
  },
  {
   "cell_type": "code",
   "execution_count": null,
   "metadata": {
    "dotnet_interactive": {
     "language": "csharp"
    }
   },
   "outputs": [],
   "source": [
    "public Packet DecodePacket(string binary){\n",
    "    while(binary.Length <= 6){\n",
    "        binary += HexToBinary(input.Dequeue());\n",
    "    }\n",
    "    \n",
    "    var version = int.Parse(BinaryToHex(binary.Substring(0,3)));\n",
    "    var typeId = int.Parse(BinaryToHex(binary.Substring(3,3)));\n",
    "    \n",
    "    binary = binary.Substring(6);\n",
    "    var lengthTypeId = binary[0];\n",
    "    \n",
    "    while(input.Any()){\n",
    "        binary += HexToBinary(input.Dequeue());\n",
    "        if(typeId == 4 ){\n",
    "            var leadDigits = binary.Where((x,i) => i % 5 == 0);\n",
    "            \n",
    "            if(leadDigits.Any(x => x == '0')){\n",
    "                var valueCount = leadDigits.TakeWhile(x => x == '1').Count() + 1;\n",
    "                if(binary.Length < valueCount * 5) continue;\n",
    "                binary = binary.Substring(0, valueCount * 5);\n",
    "                \n",
    "                return new Packet{\n",
    "                    Version = version,\n",
    "                    TypeId = typeId,\n",
    "                    LengthTypeId = null,\n",
    "                    BinaryValue = binary.Substring(0, valueCount * 5),\n",
    "                    UnusedBinary = binary.Substring(valueCount * 5),\n",
    "                    SubPackets = new List<Packet>()\n",
    "                };\n",
    "            }\n",
    "        }else{\n",
    "            var subPackets = new List<Packet>();\n",
    "            if(lengthTypeId == '0' && binary.Length >= 16){\n",
    "                var bitsCount = Convert.ToInt32(BinaryToHex(binary.Substring(1,15)),16);\n",
    "                binary = binary.Substring(16);\n",
    "\n",
    "                while(binary.Length < bitsCount){\n",
    "                    binary += HexToBinary(input.Dequeue());\n",
    "                } \n",
    "\n",
    "                var subBinary = new string(binary);\n",
    "\n",
    "                while(!subBinary.All(x => x == '0')){\n",
    "                    var subPacket = DecodePacket(subBinary);\n",
    "                    subPackets.Add(subPacket);\n",
    "                    subBinary = subPacket.UnusedBinary\n",
    "                }\n",
    "                binary = binary.Substring(1, (15 + bitsCount));\n",
    "\n",
    "                return new Packet{\n",
    "                    Version = version,\n",
    "                    TypeId = typeId,\n",
    "                    LengthTypeId = typeId == 4 ? null : lengthTypeId,\n",
    "                    BinaryValue = binary,\n",
    "                    UnusedBinary = \n",
    "                };\n",
    "            }else if(lengthTypeId == '1' && binary.Length >= 12){\n",
    "                var count = Convert.ToInt32(BinaryToHex(binary.Substring(1,11)),16);\n",
    "                binary = binary.Substring(12);\n",
    "                \n",
    "                for(var i = 0; i < count; i++){\n",
    "                    subPackets.Add(DecodePacket(binary));\n",
    "                }             \n",
    "                \n",
    "                ReachedEnd = true;\n",
    "                break;\n",
    "            }\n",
    "        }\n",
    "    }\n",
    "    \n",
    "    return new Packet{\n",
    "        Version = version,\n",
    "        TypeId = typeId,\n",
    "        LengthTypeId = typeId == 4 ? null : lengthTypeId,\n",
    "        BinaryValue = binary,\n",
    "        UnusedBinary = \n",
    "    };\n",
    "}\n"
   ]
  },
  {
   "cell_type": "code",
   "execution_count": null,
   "metadata": {
    "dotnet_interactive": {
     "language": "csharp"
    }
   },
   "outputs": [
    {
     "name": "stdout",
     "output_type": "stream",
     "text": [
      "1000000000100000000000000000010110\r\n"
     ]
    },
    {
     "data": {
      "text/html": [
       "<table><thead><tr><th><i>index</i></th><th>Version</th><th>TypeId</th><th>LengthTypeId</th><th>BinaryValue</th></tr></thead><tbody><tr><td>0</td><td><div class=\"dni-plaintext\">3</div></td><td><div class=\"dni-plaintext\">0</div></td><td><div class=\"dni-plaintext\">1</div></td><td>000000000100000000000000000010110</td></tr><tr><td>1</td><td><div class=\"dni-plaintext\">0</div></td><td><div class=\"dni-plaintext\">4</div></td><td><div class=\"dni-plaintext\">&lt;null&gt;</div></td><td>01010</td></tr><tr><td>2</td><td><div class=\"dni-plaintext\">3</div></td><td><div class=\"dni-plaintext\">0</div></td><td><div class=\"dni-plaintext\">1</div></td><td>1011001000100000000010000100011000111000110100</td></tr></tbody></table>"
      ]
     },
     "metadata": {},
     "output_type": "display_data"
    }
   ],
   "source": [
    "Packet packet = DecodePacket();\n",
    "\n",
    "while(packet != null){\n",
    "    packets.Add(packet);\n",
    "    packet = DecodePacket();\n",
    "}\n",
    "\n",
    "packets\n"
   ]
  },
  {
   "cell_type": "code",
   "execution_count": null,
   "metadata": {
    "dotnet_interactive": {
     "language": "csharp"
    }
   },
   "outputs": [
    {
     "data": {
      "text/html": [
       "<div class=\"dni-plaintext\">6</div>"
      ]
     },
     "metadata": {},
     "output_type": "display_data"
    }
   ],
   "source": [
    "packets.Sum(x => x.Version)"
   ]
  }
 ],
 "metadata": {
  "kernelspec": {
   "display_name": ".NET (C#)",
   "language": "C#",
   "name": ".net-csharp"
  },
  "language_info": {
   "name": "C#"
  }
 },
 "nbformat": 4,
 "nbformat_minor": 2
}
