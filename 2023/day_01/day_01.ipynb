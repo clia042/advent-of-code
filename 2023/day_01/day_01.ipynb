{
 "cells": [
  {
   "cell_type": "markdown",
   "metadata": {},
   "source": [
    "The newly-improved calibration document consists of lines of text; each line originally contained a specific calibration value that the Elves now need to recover. On each line, the calibration value can be found by combining the first digit and the last digit (in that order) to form a single two-digit number."
   ]
  },
  {
   "cell_type": "code",
   "execution_count": null,
   "metadata": {
    "dotnet_interactive": {
     "language": "csharp"
    },
    "polyglot_notebook": {
     "kernelName": "csharp"
    },
    "vscode": {
     "languageId": "polyglot-notebook"
    }
   },
   "outputs": [],
   "source": [
    "using System.Linq;\n",
    "using System.Text.RegularExpressions;\n",
    "\n",
    "var example_input = @\"1abc2\n",
    "pqr3stu8vwx\n",
    "a1b2c3d4e5f\n",
    "treb7uchet\";\n",
    "\n",
    "var list = System.IO.File.ReadAllLines(@\"input_2.txt\");\n"
   ]
  },
  {
   "cell_type": "code",
   "execution_count": 16,
   "metadata": {
    "dotnet_interactive": {
     "language": "csharp"
    },
    "polyglot_notebook": {
     "kernelName": "csharp"
    },
    "vscode": {
     "languageId": "polyglot-notebook"
    }
   },
   "outputs": [],
   "source": [
    "//var regex = new Regex(\"([0-9])\"); //PART 1\n",
    "var regex = new Regex(\"([1-9]|one|two|three|four|five|six|seven|eight|nine)\"); //PART 2\n",
    "\n",
    "var lookup = new Dictionary<string,int>{\n",
    "    {\"one\", 1},\n",
    "    {\"two\", 2},\n",
    "    {\"three\", 3},\n",
    "    {\"four\", 4},\n",
    "    {\"five\", 5},\n",
    "    {\"six\", 6},\n",
    "    {\"seven\", 7},\n",
    "    {\"eight\", 8},\n",
    "    {\"nine\", 9}\n",
    "};\n",
    "\n",
    "int ToInteger(string digit){\n",
    "    if(digit.Count() == 1){\n",
    "        return int.Parse(digit);\n",
    "    }\n",
    "\n",
    "    return lookup[digit];\n",
    "}\n",
    "\n",
    "int GetCalibrationValue(string command){\n",
    "    var matches = regex.Matches(command.ToLowerInvariant());\n",
    "    var first_digit = ToInteger(matches.First().ToString());\n",
    "    var last_digit = ToInteger(matches.Last().ToString());\n",
    "    return int.Parse($\"{first_digit}{last_digit}\");\n",
    "}"
   ]
  },
  {
   "cell_type": "code",
   "execution_count": 12,
   "metadata": {
    "dotnet_interactive": {
     "language": "csharp"
    },
    "polyglot_notebook": {
     "kernelName": "csharp"
    },
    "vscode": {
     "languageId": "polyglot-notebook"
    }
   },
   "outputs": [],
   "source": [
    "var sub_lookup = new Dictionary<string,string>{\n",
    "    {\"one\", \"o1e\"},\n",
    "    {\"two\", \"t2w\"},\n",
    "    {\"three\", \"t3e\"},\n",
    "    {\"four\", \"f4r\"},\n",
    "    {\"five\", \"f5e\"},\n",
    "    {\"six\", \"s6x\"},\n",
    "    {\"seven\", \"s7n\"},\n",
    "    {\"eight\", \"e8t\"},\n",
    "    {\"nine\", \"n9e\"}\n",
    "};\n",
    "\n",
    "string SubstituteDigits(string command){\n",
    "    foreach(var sub in sub_lookup){\n",
    "        command = command.Replace(sub.Key,sub.Value);\n",
    "    }\n",
    "    return command;\n",
    "}\n",
    "\n",
    "int GetCalibrationValue(string command){\n",
    "    var digits = SubstituteDigits(command)\n",
    "        .Where(c => char.IsAsciiDigit(c));\n",
    "    return int.Parse($\"{digits.First()}{digits.Last()}\");\n",
    "}"
   ]
  },
  {
   "cell_type": "code",
   "execution_count": 17,
   "metadata": {
    "dotnet_interactive": {
     "language": "csharp"
    },
    "polyglot_notebook": {
     "kernelName": "csharp"
    },
    "vscode": {
     "languageId": "polyglot-notebook"
    }
   },
   "outputs": [
    {
     "data": {
      "text/html": [
       "<div class=\"dni-plaintext\"><pre>55648</pre></div><style>\r\n",
       ".dni-code-hint {\r\n",
       "    font-style: italic;\r\n",
       "    overflow: hidden;\r\n",
       "    white-space: nowrap;\r\n",
       "}\r\n",
       ".dni-treeview {\r\n",
       "    white-space: nowrap;\r\n",
       "}\r\n",
       ".dni-treeview td {\r\n",
       "    vertical-align: top;\r\n",
       "    text-align: start;\r\n",
       "}\r\n",
       "details.dni-treeview {\r\n",
       "    padding-left: 1em;\r\n",
       "}\r\n",
       "table td {\r\n",
       "    text-align: start;\r\n",
       "}\r\n",
       "table tr { \r\n",
       "    vertical-align: top; \r\n",
       "    margin: 0em 0px;\r\n",
       "}\r\n",
       "table tr td pre \r\n",
       "{ \r\n",
       "    vertical-align: top !important; \r\n",
       "    margin: 0em 0px !important;\r\n",
       "} \r\n",
       "table th {\r\n",
       "    text-align: start;\r\n",
       "}\r\n",
       "</style>"
      ]
     },
     "metadata": {},
     "output_type": "display_data"
    }
   ],
   "source": [
    "\n",
    "var numbers = new List<int>();\n",
    "\n",
    "foreach(var command in list){\n",
    "    var value = GetCalibrationValue(command);\n",
    "    //Console.WriteLine(value);\n",
    "    numbers.Add(value);\n",
    "}\n",
    "\n",
    "numbers.Sum()\n",
    "//55648 wrong\n",
    "//55652"
   ]
  },
  {
   "cell_type": "markdown",
   "metadata": {},
   "source": [
    "The Gotcha:\n",
    "Ln \"6one8sixninetwoner\" -> 61, or 62. when string digits share starting and ending characters"
   ]
  },
  {
   "cell_type": "code",
   "execution_count": 18,
   "metadata": {
    "dotnet_interactive": {
     "language": "csharp"
    },
    "polyglot_notebook": {
     "kernelName": "csharp"
    },
    "vscode": {
     "languageId": "polyglot-notebook"
    }
   },
   "outputs": [],
   "source": [
    "System.IO.File.WriteAllLines(@\"output_b.txt\",numbers.Select(x => x.ToString()));"
   ]
  }
 ],
 "metadata": {
  "language_info": {
   "name": "python"
  }
 },
 "nbformat": 4,
 "nbformat_minor": 2
}
