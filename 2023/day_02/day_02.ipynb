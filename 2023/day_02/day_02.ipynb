{
 "cells": [
  {
   "cell_type": "code",
   "execution_count": 27,
   "metadata": {
    "dotnet_interactive": {
     "language": "csharp"
    },
    "polyglot_notebook": {
     "kernelName": "csharp"
    },
    "vscode": {
     "languageId": "polyglot-notebook"
    }
   },
   "outputs": [],
   "source": [
    "var useExample = false;\n",
    "var file = System.IO.File.ReadAllLines(useExample ? \"input_example.txt\" : \"input.txt\");\n"
   ]
  },
  {
   "cell_type": "code",
   "execution_count": 23,
   "metadata": {
    "dotnet_interactive": {
     "language": "csharp"
    },
    "polyglot_notebook": {
     "kernelName": "csharp"
    },
    "vscode": {
     "languageId": "polyglot-notebook"
    }
   },
   "outputs": [],
   "source": [
    "public class CubeGame {\n",
    "    public int GameNumber {get;set;}\n",
    "    public List<CubeSet> Sets {get;set;}\n",
    "\n",
    "    public CubeGame(string game){\n",
    "        var g = game.Split(\":\");\n",
    "        GameNumber = int.Parse(g[0].Split(\" \")[1]);\n",
    "        Sets = g[1].Split(\";\").Select(s => new CubeSet(s)).ToList();\n",
    "    }\n",
    "\n",
    "    public bool IsValid => !Sets.Any(x => !x.IsValid);\n",
    "\n",
    "    public int GetGamePower(){\n",
    "        var blueMax = Sets.Max(x => x.Blue);\n",
    "        var redMax = Sets.Max(x => x.Red);\n",
    "        var greenMax = Sets.Max(x => x.Green);\n",
    "\n",
    "        return blueMax * redMax * greenMax;\n",
    "    }\n",
    "}\n",
    "\n",
    "public class CubeSet {\n",
    "    public int Blue {get;set;}\n",
    "    public int Green {get;set;}\n",
    "    public int Red {get;set;}\n",
    "\n",
    "    public CubeSet(string set){\n",
    "        var cubes = set.Split(\",\");\n",
    "        foreach(var c in cubes){\n",
    "            var segments = c.Trim().ToLowerInvariant().Split(\" \");\n",
    "            switch(segments[1]){\n",
    "                case \"red\":\n",
    "                    Red = int.Parse(segments[0]);\n",
    "                break;\n",
    "                case \"blue\":\n",
    "                    Blue = int.Parse(segments[0]);\n",
    "                break;\n",
    "                case \"green\":\n",
    "                    Green = int.Parse(segments[0]);\n",
    "                break;\n",
    "            }\n",
    "        }\n",
    "    }\n",
    "\n",
    "    public bool IsValid =>\n",
    "            Red <= 12 && \n",
    "            Green <= 13 &&\n",
    "            Blue <= 14;\n",
    "}"
   ]
  },
  {
   "cell_type": "code",
   "execution_count": 11,
   "metadata": {
    "dotnet_interactive": {
     "language": "csharp"
    },
    "polyglot_notebook": {
     "kernelName": "csharp"
    },
    "vscode": {
     "languageId": "polyglot-notebook"
    }
   },
   "outputs": [
    {
     "data": {
      "text/html": [
       "<details open=\"open\" class=\"dni-treeview\"><summary><span class=\"dni-code-hint\"><code>Submission#11+CubeGame</code></span></summary><div><table><thead><tr></tr></thead><tbody><tr><td>GameNumber</td><td><div class=\"dni-plaintext\"><pre>4</pre></div></td></tr><tr><td>Sets</td><td><table><thead><tr><th><i>index</i></th><th>value</th></tr></thead><tbody><tr><td>0</td><td><details class=\"dni-treeview\"><summary><span class=\"dni-code-hint\"><code>Submission#11+CubeSet</code></span></summary><div><table><thead><tr></tr></thead><tbody><tr><td>Blue</td><td><div class=\"dni-plaintext\"><pre>6</pre></div></td></tr><tr><td>Green</td><td><div class=\"dni-plaintext\"><pre>1</pre></div></td></tr><tr><td>Red</td><td><div class=\"dni-plaintext\"><pre>3</pre></div></td></tr><tr><td>IsValid</td><td><div class=\"dni-plaintext\"><pre>True</pre></div></td></tr></tbody></table></div></details></td></tr><tr><td>1</td><td><details class=\"dni-treeview\"><summary><span class=\"dni-code-hint\"><code>Submission#11+CubeSet</code></span></summary><div><table><thead><tr></tr></thead><tbody><tr><td>Blue</td><td><div class=\"dni-plaintext\"><pre>0</pre></div></td></tr><tr><td>Green</td><td><div class=\"dni-plaintext\"><pre>3</pre></div></td></tr><tr><td>Red</td><td><div class=\"dni-plaintext\"><pre>6</pre></div></td></tr><tr><td>IsValid</td><td><div class=\"dni-plaintext\"><pre>True</pre></div></td></tr></tbody></table></div></details></td></tr><tr><td>2</td><td><details class=\"dni-treeview\"><summary><span class=\"dni-code-hint\"><code>Submission#11+CubeSet</code></span></summary><div><table><thead><tr></tr></thead><tbody><tr><td>Blue</td><td><div class=\"dni-plaintext\"><pre>15</pre></div></td></tr><tr><td>Green</td><td><div class=\"dni-plaintext\"><pre>3</pre></div></td></tr><tr><td>Red</td><td><div class=\"dni-plaintext\"><pre>14</pre></div></td></tr><tr><td>IsValid</td><td><div class=\"dni-plaintext\"><pre>False</pre></div></td></tr></tbody></table></div></details></td></tr></tbody></table></td></tr><tr><td>IsValid</td><td><div class=\"dni-plaintext\"><pre>False</pre></div></td></tr></tbody></table></div></details><style>\r\n",
       ".dni-code-hint {\r\n",
       "    font-style: italic;\r\n",
       "    overflow: hidden;\r\n",
       "    white-space: nowrap;\r\n",
       "}\r\n",
       ".dni-treeview {\r\n",
       "    white-space: nowrap;\r\n",
       "}\r\n",
       ".dni-treeview td {\r\n",
       "    vertical-align: top;\r\n",
       "    text-align: start;\r\n",
       "}\r\n",
       "details.dni-treeview {\r\n",
       "    padding-left: 1em;\r\n",
       "}\r\n",
       "table td {\r\n",
       "    text-align: start;\r\n",
       "}\r\n",
       "table tr { \r\n",
       "    vertical-align: top; \r\n",
       "    margin: 0em 0px;\r\n",
       "}\r\n",
       "table tr td pre \r\n",
       "{ \r\n",
       "    vertical-align: top !important; \r\n",
       "    margin: 0em 0px !important;\r\n",
       "} \r\n",
       "table th {\r\n",
       "    text-align: start;\r\n",
       "}\r\n",
       "</style>"
      ]
     },
     "metadata": {},
     "output_type": "display_data"
    }
   ],
   "source": [
    "var game = \"Game 4: 1 green, 3 red, 6 blue; 3 green, 6 red; 3 green, 15 blue, 14 red\";\n",
    "new CubeGame(game)"
   ]
  },
  {
   "cell_type": "code",
   "execution_count": 28,
   "metadata": {
    "dotnet_interactive": {
     "language": "csharp"
    },
    "polyglot_notebook": {
     "kernelName": "csharp"
    },
    "vscode": {
     "languageId": "polyglot-notebook"
    }
   },
   "outputs": [
    {
     "data": {
      "text/html": [
       "<div class=\"dni-plaintext\"><pre>71036</pre></div><style>\r\n",
       ".dni-code-hint {\r\n",
       "    font-style: italic;\r\n",
       "    overflow: hidden;\r\n",
       "    white-space: nowrap;\r\n",
       "}\r\n",
       ".dni-treeview {\r\n",
       "    white-space: nowrap;\r\n",
       "}\r\n",
       ".dni-treeview td {\r\n",
       "    vertical-align: top;\r\n",
       "    text-align: start;\r\n",
       "}\r\n",
       "details.dni-treeview {\r\n",
       "    padding-left: 1em;\r\n",
       "}\r\n",
       "table td {\r\n",
       "    text-align: start;\r\n",
       "}\r\n",
       "table tr { \r\n",
       "    vertical-align: top; \r\n",
       "    margin: 0em 0px;\r\n",
       "}\r\n",
       "table tr td pre \r\n",
       "{ \r\n",
       "    vertical-align: top !important; \r\n",
       "    margin: 0em 0px !important;\r\n",
       "} \r\n",
       "table th {\r\n",
       "    text-align: start;\r\n",
       "}\r\n",
       "</style>"
      ]
     },
     "metadata": {},
     "output_type": "display_data"
    }
   ],
   "source": [
    "var games = new List<int>();\n",
    "\n",
    "foreach(var line in file){\n",
    "    var g = new CubeGame(line);\n",
    "        games.Add(g.GetGamePower());\n",
    "}\n",
    "\n",
    "games.Sum()\n",
    "//2204 correct"
   ]
  },
  {
   "cell_type": "code",
   "execution_count": 25,
   "metadata": {
    "dotnet_interactive": {
     "language": "csharp"
    },
    "polyglot_notebook": {
     "kernelName": "csharp"
    },
    "vscode": {
     "languageId": "polyglot-notebook"
    }
   },
   "outputs": [
    {
     "data": {
      "text/html": [
       "<div class=\"dni-plaintext\"><pre>[ 48, 12, 36 ]</pre></div><style>\r\n",
       ".dni-code-hint {\r\n",
       "    font-style: italic;\r\n",
       "    overflow: hidden;\r\n",
       "    white-space: nowrap;\r\n",
       "}\r\n",
       ".dni-treeview {\r\n",
       "    white-space: nowrap;\r\n",
       "}\r\n",
       ".dni-treeview td {\r\n",
       "    vertical-align: top;\r\n",
       "    text-align: start;\r\n",
       "}\r\n",
       "details.dni-treeview {\r\n",
       "    padding-left: 1em;\r\n",
       "}\r\n",
       "table td {\r\n",
       "    text-align: start;\r\n",
       "}\r\n",
       "table tr { \r\n",
       "    vertical-align: top; \r\n",
       "    margin: 0em 0px;\r\n",
       "}\r\n",
       "table tr td pre \r\n",
       "{ \r\n",
       "    vertical-align: top !important; \r\n",
       "    margin: 0em 0px !important;\r\n",
       "} \r\n",
       "table th {\r\n",
       "    text-align: start;\r\n",
       "}\r\n",
       "</style>"
      ]
     },
     "metadata": {},
     "output_type": "display_data"
    }
   ],
   "source": [
    "games"
   ]
  }
 ],
 "metadata": {
  "language_info": {
   "name": "python"
  }
 },
 "nbformat": 4,
 "nbformat_minor": 2
}
